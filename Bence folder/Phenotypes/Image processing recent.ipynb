{
 "cells": [
  {
   "attachments": {},
   "cell_type": "markdown",
   "metadata": {},
   "source": [
    "# In this Jupyter notebook we will show the image processing pipeline used to quantify adhesion."
   ]
  },
  {
   "cell_type": "code",
   "execution_count": null,
   "metadata": {
    "executionInfo": {
     "elapsed": 2047,
     "status": "ok",
     "timestamp": 1656930520907,
     "user": {
      "displayName": "Celeste Cohen",
      "userId": "15701456219640955545"
     },
     "user_tz": -60
    },
    "id": "StmULhkFJdSZ"
   },
   "outputs": [],
   "source": [
    "#importing the packages used\n",
    "import numpy as np\n",
    "import matplotlib.pyplot as plt\n",
    "import statistics as st\n",
    "import scipy.stats as stats\n",
    "import pandas as pd\n",
    "from skimage.morphology import square\n",
    "from skimage.measure import label, regionprops\n",
    "from matplotlib.collections import PatchCollection\n",
    "import matplotlib.patches as mpatches\n",
    "from matplotlib.axes import Axes\n",
    "from skimage.filters import threshold_otsu\n",
    "import skimage.io\n",
    "import skimage.filters\n",
    "import skimage.measure\n",
    "import seaborn as sns\n",
    "import re\n",
    "import os\n",
    "import sys\n",
    "sys.path.append('/Users/bencekover/Library/CloudStorage/OneDrive-Personal/MSci Bahler lab/S.-Pombe-MLPs/')\n",
    "import yeastmlptrial.adhesion as adh\n",
    "\n",
    "root = \"/Users/bencekover/Library/CloudStorage/OneDrive-Personal/MSci Bahler lab/S.-Pombe-MLPs/\"\n",
    "\n",
    "\n"
   ]
  },
  {
   "attachments": {},
   "cell_type": "markdown",
   "metadata": {},
   "source": [
    "# Import strain layouts"
   ]
  },
  {
   "cell_type": "code",
   "execution_count": null,
   "metadata": {},
   "outputs": [],
   "source": [
    "#Get the layout of the strains, make a vector of strain names in order (by row so A1, A2, etc.)\n",
    "\n",
    "old_wild_isolate_map = root + \"internal data/Old wild strain map.xlsx\"\n",
    "new_wild_isolate_map = root + \"internal data/final wild strain map.xlsx\"\n",
    "segregant_map = root + \"internal data/segregant_strains_map.xlsx\"\n",
    "mimi_cris_map = root + \"internal data/strains_mimi_cris.xlsx\"\n",
    "\n",
    "\n",
    "    \n"
   ]
  },
  {
   "attachments": {},
   "cell_type": "markdown",
   "metadata": {},
   "source": [
    "# Assembling dataframes"
   ]
  },
  {
   "attachments": {},
   "cell_type": "markdown",
   "metadata": {},
   "source": [
    "### Wild isolates on EMM"
   ]
  },
  {
   "cell_type": "code",
   "execution_count": null,
   "metadata": {},
   "outputs": [],
   "source": [
    "\n",
    "image_for_raw_layout = root + \"internal data/google drive data/scanner/20220627_biofilm_JB50_7x7/20220627_1_biofilm_JB50_7x7.jpg\"\n",
    "folder1 = root + \"internal data/imaging_adhesion/Wild Isolates_EMM_before\"\n",
    "folder2 = root + \"internal data/imaging_adhesion/Wild Isolates_EMM_after\"\n",
    "wild_isolate_emm =  adh.result_from_folders_of_ims(folder1,folder2, new_wild_isolate_map, image_for_raw_layout)\n",
    "adh.barchart_from_res(wild_isolate_emm)\n",
    "wild_isolate_emm.head()"
   ]
  },
  {
   "attachments": {},
   "cell_type": "markdown",
   "metadata": {},
   "source": [
    "### Wild isolates on YES"
   ]
  },
  {
   "cell_type": "code",
   "execution_count": null,
   "metadata": {},
   "outputs": [],
   "source": [
    "folder1 = root + \"internal data/imaging_adhesion/Wild Isolates_YES_before\"\n",
    "folder2 = root + \"internal data/imaging_adhesion/Wild Isolates_YES_after\"\n",
    "wild_isolate_yes =  adh.result_from_folders_of_ims(folder1,folder2, new_wild_isolate_map, image_for_raw_layout)\n",
    "adh.barchart_from_res(wild_isolate_yes)"
   ]
  },
  {
   "attachments": {},
   "cell_type": "markdown",
   "metadata": {},
   "source": [
    "# Wild isolates from Cris and Mimi on EMM - to see whether strains were scrambled\n",
    "\n"
   ]
  },
  {
   "cell_type": "code",
   "execution_count": null,
   "metadata": {},
   "outputs": [],
   "source": [
    "folder1 = root + \"internal data/imaging_adhesion/Wild Isolates (MIMI)_EMM_before\"\n",
    "folder2 = root + \"internal data/imaging_adhesion/Wild Isolates (MIMI)_EMM_after\"\n",
    "wild_isolate_mimi_emm =  adh.result_from_folders_of_ims(folder1,folder2, mimi_cris_map, image_for_raw_layout,keep_all=True)\n",
    "adh.barchart_from_res(wild_isolate_mimi_emm)\n",
    "\n"
   ]
  },
  {
   "cell_type": "code",
   "execution_count": null,
   "metadata": {},
   "outputs": [],
   "source": [
    "folder1 = root + \"internal data/imaging_adhesion/Wild Isolates (CRIS)_EMM_before\"\n",
    "folder2 = root + \"internal data/imaging_adhesion/Wild Isolates (CRIS)_EMM_after\"\n",
    "wild_isolate_cris_emm =  adh.result_from_folders_of_ims(folder1,folder2, mimi_cris_map, image_for_raw_layout,keep_all=True)\n",
    "adh.barchart_from_res(wild_isolate_cris_emm)\n",
    "\n",
    "\n"
   ]
  },
  {
   "attachments": {},
   "cell_type": "markdown",
   "metadata": {},
   "source": [
    "## Wild isolates on Caf"
   ]
  },
  {
   "cell_type": "code",
   "execution_count": null,
   "metadata": {},
   "outputs": [],
   "source": [
    "folder1 = root + \"internal data/imaging_adhesion/Wild Isolates_YES + Caffeine_before\"\n",
    "folder2 = root + \"internal data/imaging_adhesion/Wild Isolates_YES + Caffeine_after\"\n",
    "wild_isolate_yes_caf =  adh.result_from_folders_of_ims(folder1,folder2, new_wild_isolate_map, image_for_raw_layout)\n",
    "adh.barchart_from_res(wild_isolate_yes_caf)\n"
   ]
  },
  {
   "attachments": {},
   "cell_type": "markdown",
   "metadata": {},
   "source": [
    "# Wild isolates on Rap "
   ]
  },
  {
   "cell_type": "code",
   "execution_count": null,
   "metadata": {},
   "outputs": [],
   "source": [
    "folder1 = root + \"internal data/imaging_adhesion/Wild Isolates_YES + Rapamycin_before\"\n",
    "folder2 = root + \"internal data/imaging_adhesion/Wild Isolates_YES + Rapamycin_after\"\n",
    "wild_isolate_yes_rap =  adh.result_from_folders_of_ims(folder1,folder2,  new_wild_isolate_map, image_for_raw_layout)\n",
    "adh.barchart_from_res(wild_isolate_yes_rap)\n"
   ]
  },
  {
   "attachments": {},
   "cell_type": "markdown",
   "metadata": {},
   "source": [
    "# Wild isolates on caffeine and rapamycin\n",
    "\n",
    "\n"
   ]
  },
  {
   "cell_type": "code",
   "execution_count": null,
   "metadata": {},
   "outputs": [],
   "source": [
    "folder1 = root + \"internal data/imaging_adhesion/Wild Isolates_YES + Caffeine + Rapamycin_before\"\n",
    "folder2 = root + \"internal data/imaging_adhesion/Wild Isolates_YES + Caffeine + Rapamycin_after\"\n",
    "wild_isolate_yes_caf_rap =  adh.result_from_folders_of_ims(folder1,folder2,  new_wild_isolate_map, image_for_raw_layout)\n",
    "adh.barchart_from_res(wild_isolate_yes_caf_rap)"
   ]
  },
  {
   "attachments": {},
   "cell_type": "markdown",
   "metadata": {},
   "source": [
    "# Wild isolates EMM hydrogen peroxide\n"
   ]
  },
  {
   "cell_type": "code",
   "execution_count": null,
   "metadata": {},
   "outputs": [],
   "source": [
    "folder1 = root + \"internal data/imaging_adhesion/Wild Isolates_EMM + H2O2_before\"\n",
    "folder2 = root + \"internal data/imaging_adhesion/Wild Isolates_EMM + H2O2_after\"\n",
    "wild_isolate_emm_H2O2 =  adh.result_from_folders_of_ims(folder1,folder2,  new_wild_isolate_map, image_for_raw_layout)\n",
    "adh.barchart_from_res(wild_isolate_emm_H2O2)"
   ]
  },
  {
   "attachments": {},
   "cell_type": "markdown",
   "metadata": {},
   "source": [
    "# Wild isolates YES hydrogen peroxide\n"
   ]
  },
  {
   "cell_type": "code",
   "execution_count": null,
   "metadata": {},
   "outputs": [],
   "source": [
    "folder1 = root + \"internal data/imaging_adhesion/Wild Isolates_YES + H2O2_before\"\n",
    "folder2 = root + \"internal data/imaging_adhesion/Wild Isolates_YES + H2O2_after\"\n",
    "wild_isolate_yes_H2O2 =  adh.result_from_folders_of_ims(folder1,folder2,  new_wild_isolate_map, image_for_raw_layout)\n",
    "adh.barchart_from_res(wild_isolate_yes_H2O2)"
   ]
  },
  {
   "attachments": {},
   "cell_type": "markdown",
   "metadata": {},
   "source": [
    "# N starvation in Wild isolates"
   ]
  },
  {
   "cell_type": "code",
   "execution_count": null,
   "metadata": {},
   "outputs": [],
   "source": [
    "folder1 = root + \"internal data/imaging_adhesion/Wild Isolates_EMM - Nitrogen_before\"\n",
    "folder2 = root + \"internal data/imaging_adhesion/Wild Isolates_EMM - Nitrogen_after\"\n",
    "wild_isolate_emm_n =  adh.result_from_folders_of_ims(folder1,folder2,  new_wild_isolate_map, image_for_raw_layout)\n",
    "adh.barchart_from_res(wild_isolate_emm_n)"
   ]
  },
  {
   "attachments": {},
   "cell_type": "markdown",
   "metadata": {},
   "source": [
    "# P starvation in Wild Isolates"
   ]
  },
  {
   "cell_type": "code",
   "execution_count": null,
   "metadata": {},
   "outputs": [],
   "source": [
    "folder1 = root + \"internal data/imaging_adhesion/Wild Isolates_EMM - Phosphate_before\"\n",
    "folder2 = root + \"internal data/imaging_adhesion/Wild Isolates_EMM - Phosphate_after\"\n",
    "wild_isolate_emm_p =  adh.result_from_folders_of_ims(folder1,folder2,  new_wild_isolate_map, image_for_raw_layout)\n",
    "adh.barchart_from_res(wild_isolate_emm_p)"
   ]
  },
  {
   "attachments": {},
   "cell_type": "markdown",
   "metadata": {},
   "source": [
    "### Segregants on EMM"
   ]
  },
  {
   "cell_type": "code",
   "execution_count": null,
   "metadata": {},
   "outputs": [],
   "source": [
    "folder1 = root + \"internal data/imaging_adhesion/Segregants_EMM_before\"\n",
    "folder2 = root + \"internal data/imaging_adhesion/Segregants_EMM_after\"\n",
    "segregant_emm =  adh.result_from_folders_of_ims(folder1,folder2,  segregant_map , image_for_raw_layout)\n",
    "adh.barchart_from_res(segregant_emm)"
   ]
  },
  {
   "attachments": {},
   "cell_type": "markdown",
   "metadata": {},
   "source": [
    "### Segregants on YES\n"
   ]
  },
  {
   "cell_type": "code",
   "execution_count": null,
   "metadata": {},
   "outputs": [],
   "source": [
    "folder1 = root + \"internal data/imaging_adhesion/Segregants_YES_before\"\n",
    "folder2 = root + \"internal data/imaging_adhesion/Segregants_YES_after\"\n",
    "segregant_yes =  adh.result_from_folders_of_ims(folder1,folder2,  segregant_map , image_for_raw_layout)\n",
    "adh.barchart_from_res(segregant_yes)\n"
   ]
  },
  {
   "cell_type": "code",
   "execution_count": null,
   "metadata": {},
   "outputs": [],
   "source": [
    "#merge phenotype gwas with mimi and cris and show bars grouped by strain\n",
    "wi_emm_wi_mimi = pd.merge(wild_isolate_emm,wild_isolate_mimi_emm, on=\"strain\")\n",
    "wi_emm_wi_mimi_cris = pd.merge(wi_emm_wi_mimi,wild_isolate_cris_emm,on=\"strain\")\n",
    "wi_emm_wi_mimi_cris = wi_emm_wi_mimi_cris.rename(columns={\"ratio_x\":\"ratio\",\"ratio_y\":\"ratio_mimi\",\"ratio\":\"ratio_cris\"})\n",
    "\n",
    "\n",
    "\n",
    "#make three separate scatter plots of the three ratios, overlay a 1:1 line\n",
    "fig, (ax1, ax2, ax3) = plt.subplots(1, 3,figsize=(30,10))\n",
    "ax1.scatter(wi_emm_wi_mimi_cris[\"ratio\"],wi_emm_wi_mimi_cris[\"ratio_mimi\"])\n",
    "ax1.plot([0,1],[0,1],color=\"red\")\n",
    "ax1.set_xlabel(\"Adhesion (Our library, EMM)\")\n",
    "ax1.set_ylabel(\"Adhesion (replica 1, EMM)\")\n",
    "#print corr coef and p\n",
    "ax1.text(0.1,0.85,\"Pearson r=\"+str(round(wi_emm_wi_mimi_cris[\"ratio\"].corr(wi_emm_wi_mimi_cris[\"ratio_mimi\"],method=\"pearson\"),2)),transform=ax1.transAxes)\n",
    "ax1.text(0.1,0.8,\"P=\"+str(round(stats.pearsonr(wi_emm_wi_mimi_cris[\"ratio\"],wi_emm_wi_mimi_cris[\"ratio_mimi\"])[1],20)),transform=ax1.transAxes)\n",
    "ax2.scatter(wi_emm_wi_mimi_cris[\"ratio\"],wi_emm_wi_mimi_cris[\"ratio_cris\"])\n",
    "ax2.plot([0,1],[0,1],color=\"red\")\n",
    "ax2.set_xlabel(\"Adhesion (Our library, EMM)\")\n",
    "ax2.set_ylabel(\"Adhesion (replica 2, EMM)\")\n",
    "#print corr coef and p\n",
    "ax2.text(0.1,0.85,\"Pearson r=\"+str(round(wi_emm_wi_mimi_cris[\"ratio\"].corr(wi_emm_wi_mimi_cris[\"ratio_cris\"],method=\"pearson\"),2)),transform=ax2.transAxes)\n",
    "ax2.text(0.1,0.8,\"P=\"+str(round(stats.pearsonr(wi_emm_wi_mimi_cris[\"ratio\"],wi_emm_wi_mimi_cris[\"ratio_cris\"])[1],50)),transform=ax2.transAxes)\n",
    "\n",
    "ax3.scatter(wi_emm_wi_mimi_cris[\"ratio_mimi\"],wi_emm_wi_mimi_cris[\"ratio_cris\"])\n",
    "ax3.plot([0,1],[0,1],color=\"red\")\n",
    "ax3.set_xlabel(\"Adhesion (replica 1, EMM)\")\n",
    "ax3.set_ylabel(\"Adhesion (replica 2, EMM)\")\n",
    "#print corr coef and p\n",
    "ax3.text(0.1,0.85,\"Pearson r=\"+str(round(wi_emm_wi_mimi_cris[\"ratio_mimi\"].corr(wi_emm_wi_mimi_cris[\"ratio_cris\"],method=\"pearson\"),2)),transform=ax3.transAxes)\n",
    "ax3.text(0.1,0.8,\"P=\"+str(round(stats.pearsonr(wi_emm_wi_mimi_cris[\"ratio_mimi\"],wi_emm_wi_mimi_cris[\"ratio_cris\"])[1],20)),transform=ax3.transAxes)\n",
    "#add strain name to each dot\n",
    "for i, txt in enumerate(wi_emm_wi_mimi_cris[\"strain\"]):\n",
    "      ax1.annotate(txt, (wi_emm_wi_mimi_cris[\"ratio\"][i], wi_emm_wi_mimi_cris[\"ratio_mimi\"][i]))\n",
    "      ax2.annotate(txt, (wi_emm_wi_mimi_cris[\"ratio\"][i], wi_emm_wi_mimi_cris[\"ratio_cris\"][i]))\n",
    "      ax3.annotate(txt, (wi_emm_wi_mimi_cris[\"ratio_mimi\"][i], wi_emm_wi_mimi_cris[\"ratio_cris\"][i]))\n"
   ]
  },
  {
   "attachments": {},
   "cell_type": "markdown",
   "metadata": {},
   "source": [
    "# Plot of all the conditions\n",
    "\n"
   ]
  },
  {
   "cell_type": "code",
   "execution_count": null,
   "metadata": {},
   "outputs": [],
   "source": [
    "#wild_isolate_yes[\"ratio\"] and wild_isolate_yes_caf[\"ratio\"] t test 10000 permutations\n",
    "stats.ttest_ind(wild_isolate_yes[\"ratio\"],wild_isolate_yes_caf[\"ratio\"],permutations=10000)"
   ]
  },
  {
   "cell_type": "code",
   "execution_count": null,
   "metadata": {},
   "outputs": [],
   "source": [
    "#concat phenotype_caf phenotype_caf_rap phenotype_caf_rap phenotype_gwas phenotype_yes phenotype_h2o2_yes phenotype_edta_yes into condition_plot_df\n",
    "condition_plot_df = pd.concat([wild_isolate_yes,wild_isolate_yes_caf,wild_isolate_yes_caf_rap,wild_isolate_yes_rap,wild_isolate_yes_H2O2,wild_isolate_emm,wild_isolate_emm_p,wild_isolate_emm_n])\n",
    "condition_plot_df = condition_plot_df.reset_index(drop=True)\n",
    "\n",
    "conditions = np.array([[\"YES\\n n=8\"] * len(wild_isolate_yes)])[0]\n",
    "\n",
    "\n",
    "\n",
    "conditions = np.append(conditions, [[\"YES Caffeine\\n (10mM) \\n n=7\"] * len(wild_isolate_yes_caf)])\n",
    "conditions = np.append(conditions, [[\"YES Caffeine\\n + Rapamycin\\n n=5\"] * len(wild_isolate_yes_caf_rap)])\n",
    "conditions = np.append(conditions, [[\"YES Rapamycin\\n (100 ng/ml)\\n n=2\"] * len(wild_isolate_yes_rap)])\n",
    "conditions = np.append(conditions, [[\"YES H2O2\\n n=3\"] * len(wild_isolate_yes_H2O2)])\n",
    "conditions = np.append(conditions, [[\"EMM\\n n=11\"] * len(wild_isolate_emm)])\n",
    "conditions = np.append(conditions, [[\"EMM-P\\n n=4\"] * len(wild_isolate_emm_p)])\n",
    "conditions = np.append(conditions, [[\"EMM-N\\n n=3\"] * len(wild_isolate_emm_n)])\n",
    "condition_plot_df[\"condition\"] = conditions\n",
    "#remove strain EMPTY\n",
    "condition_plot_df = condition_plot_df[condition_plot_df[\"strain\"]!=\"EMPTY\"]\n",
    "#RESET\n",
    "condition_plot_df = condition_plot_df.reset_index(drop=True)\n",
    "#reorder as YES, EMM, Caffeine, Caffeine + Rapamycin, Rapamycin, YES H2O2, YES EDTA\n",
    "#strains above 0.3 in at least one conditoon\n",
    "highest_strains = np.unique(condition_plot_df[condition_plot_df[\"ratio\"]>0.3][\"strain\"])\n",
    "all_strains = np.unique(condition_plot_df[\"strain\"])\n",
    "\n"
   ]
  },
  {
   "cell_type": "code",
   "execution_count": null,
   "metadata": {},
   "outputs": [],
   "source": [
    "print(len(highest_strains))\n",
    "print(\"The fraction of cells sticking in at least one condition is \"+str(len(highest_strains)/len(all_strains)))"
   ]
  },
  {
   "cell_type": "code",
   "execution_count": null,
   "metadata": {},
   "outputs": [],
   "source": [
    "#Make sns boxplot and overlaid stripplot of condition_plot_df with x=condition and y=ratio\n",
    "conditions=[     \"YES\\n n=8\",\n",
    "      \"YES Caffeine\\n (10mM) \\n n=7\",\n",
    "      \"YES Caffeine\\n + Rapamycin\\n n=5\",\n",
    "      \"YES Rapamycin\\n (100 ng/ml)\\n n=2\",\n",
    "      \"YES H2O2\\n n=3\",\n",
    "      \"EMM\\n n=11\",\n",
    "      \"EMM-P\\n n=4\",\n",
    "      \"EMM-N\\n n=3\"]\n",
    "\n",
    "plt.figure(figsize=(18,10))\n",
    "sns.boxplot(x=\"condition\",y=\"ratio\",data=condition_plot_df,showfliers=False)\n",
    "#put black outline for circles\n",
    "sns.stripplot(x=\"condition\",y=\"ratio\",data=condition_plot_df,jitter=True,size=15,linewidth=0.5,edgecolor=\"black\",alpha=0.5)\n",
    "plt.ylabel(\"Ratio of after/before wash intensity\")\n",
    "#draw bars between YES and all other conditions\n",
    "for i in range(1,len(conditions)):\n",
    "      #choose strain and ratio\n",
    "      p1 = condition_plot_df[condition_plot_df[\"condition\"]==conditions[0]][\"ratio\"].values\n",
    "      p2 = condition_plot_df[condition_plot_df[\"condition\"]==conditions[i]][\"ratio\"].values\n",
    "     \n",
    "      #ttest ind\n",
    "      s,p = stats.ttest_ind(p1,p2)\n",
    "      \n",
    "      print(conditions[0],conditions[i],s,p)\n",
    "      \n",
    "      plt.plot([0,i],[i*0.03+1.06,i*0.03+1.06],color=\"red\")\n",
    "      if p<0.05:\n",
    "            j=int(np.log10(p**-1))\n",
    "            plt.text(i,i*0.03+1.02,j*\"*\",fontsize=24)\n",
    "      if p>0.05:\n",
    "            plt.text(i,i*0.03+1.02,\"ns\",fontsize=24)\n",
    "\n",
    "#print the strain name for those with ratio>0.5\n",
    "x_vals=[]\n",
    "y_vals=[]\n",
    "\n",
    "for i in range(len(condition_plot_df)):\n",
    "      if condition_plot_df[\"ratio\"][i]>0.3:\n",
    "            #convert condition value to number\n",
    "            condition = conditions.index(condition_plot_df[\"condition\"][i])\n",
    "            indices = [j for j, x in enumerate(x_vals) if x == condition and abs(y_vals[j]-condition_plot_df[\"ratio\"][i])<0.1]\n",
    "            y_jitter=0\n",
    "            if len(indices)>0:\n",
    "                  #move the larger index higher\n",
    "                  y_val_index_0 = y_vals[indices[0]]\n",
    "                  if y_val_index_0>condition_plot_df[\"ratio\"][i]:\n",
    "                        y_jitter = -0.02\n",
    "                  else:\n",
    "                        y_jitter = 0.02\n",
    "\n",
    "\n",
    "            x_vals.append(condition)\n",
    "            y_vals.append(condition_plot_df[\"ratio\"][i])\n",
    "            #if there is same x val and y_val that is within 0.05, then add y_jitter, such that the text is not on top of each other\n",
    "            #find index where x_vals==condition and y_vals are within 0.05 of condition_plot_df[\"ratio\"][i]\n",
    "            \n",
    "\n",
    "            plt.text(condition,condition_plot_df[\"ratio\"][i]+y_jitter,condition_plot_df[\"strain\"][i],fontsize=17)\n",
    "#draw a linea t 0.3\n",
    "plt.plot([0,7],[0.3,0.3],color=\"black\",linestyle=\"--\")\n",
    "#larger ticks and labels\n",
    "plt.xticks(fontsize=16)\n",
    "plt.yticks(fontsize=18)\n",
    "plt.xlabel(\"Condition\",fontsize=20)\n",
    "plt.ylabel(\"Ratio of after/before wash intensity\",fontsize=20)\n",
    "#onyl label y axis 0.2, 0.4, 0.6, 0.8, 1.0\n",
    "plt.yticks([0.1,0.2,0.3,0.4,0.5,0.6,0.7,0.8,0.9,1.0])\n"
   ]
  },
  {
   "cell_type": "code",
   "execution_count": null,
   "metadata": {},
   "outputs": [],
   "source": [
    "#plot isolates_caf_1_w image under each condition in asingle row, make sure centers of images are aligned with the boxplots\n",
    "plt.figure(figsize=(18,5))\n",
    "for i,image in zip(range(len(conditions)),[isolates_yes_1_w,isolates_caf_5_w,isolates_caf_rap_1_w,isolates_rap_2_w,isolates_yes_h2o2_3_w,isolates_4_w,\n",
    "                                           isolate_emm_phosphate_1_w, isolate_emm_nitrogen_1_w]):\n",
    "      image=image/np.max(image)\n",
    "      image=image-np.min(image)\n",
    "      plt.subplot(1,len(conditions),i+1)\n",
    "      plt.imshow(image,cmap=\"viridis\")\n",
    "      plt.title(conditions[i],fontsize=10)\n",
    "      plt.axis(\"off\")\n",
    "plt.tight_layout()"
   ]
  },
  {
   "attachments": {},
   "cell_type": "markdown",
   "metadata": {},
   "source": [
    "# Plotting segregant data"
   ]
  },
  {
   "cell_type": "code",
   "execution_count": null,
   "metadata": {},
   "outputs": [],
   "source": [
    "#import filtering data /Users/bencekover/Library/CloudStorage/OneDrive-UniversityCollegeLondon/MSci Bahler lab/S.-Pombe-biofilm/Bence folder/Phenotypes/filtering_results.csv delimiter is \\\n",
    "filtering = pd.read_csv(root + \"Bence folder/Phenotypes/filtering_results.csv\",delimiter=\"\\t\")\n",
    "#take median of each strain across Reps but also save sem in a new column\n",
    "#divide %flocc by 100\n",
    "filtering[\"%flocc\"]=filtering[\"%flocc\"]/100\n",
    "filtering_grouped=filtering.groupby(\"Strain\",as_index=False).mean()\n",
    "filtering_grouped[\"sem\"]=filtering.groupby(\"Strain\",as_index=False).sem()[\"%flocc\"]\n",
    "\n",
    "#merge with phenotype_s strain and Strain in filtering_grouped\n",
    "filtering_phenotype=filtering_grouped.merge(segregant_emm,left_on=\"Strain\",right_on=\"strain\",how=\"inner\")\n",
    "filtering_phenotype.head()"
   ]
  },
  {
   "cell_type": "code",
   "execution_count": null,
   "metadata": {},
   "outputs": [],
   "source": [
    "filtering_phenotype[\"color\"]=\"\"\n",
    "for i in range(0,len(filtering_phenotype[\"Strain\"])):\n",
    "    #if x968 or y0036, then color is red or yellow else blue\n",
    "      if filtering_phenotype[\"Strain\"][i]==\"JB50\":\n",
    "            filtering_phenotype[\"color\"][i]=\"red\"\n",
    "      elif filtering_phenotype[\"Strain\"][i]==\"JB759\":\n",
    "            filtering_phenotype[\"color\"][i]=\"yellow\"\n",
    "      else:\n",
    "            filtering_phenotype[\"color\"][i]=\"blue\"\n",
    "#remove rows with X968 AND Y0036 and put to the end\n",
    "x968_row=filtering_phenotype[filtering_phenotype[\"Strain\"]==\"JB50\"]\n",
    "y0036_row=filtering_phenotype[filtering_phenotype[\"Strain\"]==\"JB759\"]\n",
    "filtering_phenotype=filtering_phenotype[filtering_phenotype[\"Strain\"]!=\"JB50\"]\n",
    "filtering_phenotype=filtering_phenotype[filtering_phenotype[\"Strain\"]!=\"JB759\"]\n",
    "filtering_phenotype=filtering_phenotype.append(x968_row)\n",
    "filtering_phenotype=filtering_phenotype.append(y0036_row)\n",
    "filtering_phenotype.reset_index(inplace=True,drop=True)\n"
   ]
  },
  {
   "cell_type": "code",
   "execution_count": null,
   "metadata": {},
   "outputs": [],
   "source": [
    "#create scatterplot of filtering vs phenotype and add error bars using sem values from ffiltering_phenotype Show X968 and Y0036 in red and yellow respectively both glyph and text\n",
    "plt.figure(figsize=(7,7))\n",
    "#put error bars in back\n",
    "plt.errorbar(filtering_phenotype[\"%flocc\"],filtering_phenotype[\"ratio\"],xerr=filtering_phenotype[\"sem_x\"],yerr=filtering_phenotype[\"sem_y\"],fmt=\"o\",color=\"blue\",alpha=0.3)\n",
    "plt.ylabel(\"Ratio of after/before wash intensity (washing assay)\",fontsize=16)\n",
    "plt.xlabel(\"Flocculation (filtering assay)\",fontsize=17)\n",
    "plt.title(\"Adhesion to agar vs flocculation (Segregants, EMM)\",fontsize=16)\n",
    "#make it pretty\n",
    "plt.xlim(0,1.1)\n",
    "plt.ylim(0,1.1)\n",
    "#label  X968 and Y0036 filled with red and yellow respectively both glyph and text large dot\n",
    "plt.text(filtering_phenotype[filtering_phenotype[\"Strain\"]==\"JB50\"][\"%flocc\"]+0.01,filtering_phenotype[filtering_phenotype[\"Strain\"]==\"JB50\"][\"ratio\"]+0.01,\"JB50\",color=\"black\",fontsize=16)\n",
    "plt.text(filtering_phenotype[filtering_phenotype[\"Strain\"]==\"JB759\"][\"%flocc\"]+0.01,filtering_phenotype[filtering_phenotype[\"Strain\"]==\"JB759\"][\"ratio\"]+0.01,\"JB759\",color=\"black\",fontsize=16)\n",
    "#bring these in front of the error bars\n",
    "\n",
    "plt.scatter(filtering_phenotype[filtering_phenotype[\"Strain\"]==\"JB50\"][\"%flocc\"],filtering_phenotype[filtering_phenotype[\"Strain\"]==\"JB50\"][\"ratio\"],color=\"red\",s=400,marker=\"*\")\n",
    "plt.scatter(filtering_phenotype[filtering_phenotype[\"Strain\"]==\"JB759\"][\"%flocc\"],filtering_phenotype[filtering_phenotype[\"Strain\"]==\"JB759\"][\"ratio\"],color=\"orange\",s=400,marker=\"*\")\n",
    "\n",
    "\n",
    "\n",
    "\n",
    "#print also a spearman correlation coefficient and p value between the two variables\n",
    "plt.text(0.1,1,\"Pearson correlation coefficient: \"+str(round(stats.pearsonr(filtering_phenotype[\"%flocc\"],filtering_phenotype[\"ratio\"])[0],2)))\n",
    "plt.text(0.1,0.9,\"P-value: \"+str(round(stats.pearsonr(filtering_phenotype[\"%flocc\"],filtering_phenotype[\"ratio\"])[1],20)))\n",
    "plt.show()\n",
    "\n"
   ]
  },
  {
   "attachments": {},
   "cell_type": "markdown",
   "metadata": {},
   "source": [
    "# Same plot but simpler (for presentation purposes)"
   ]
  },
  {
   "cell_type": "code",
   "execution_count": null,
   "metadata": {},
   "outputs": [],
   "source": [
    "#create scatterplot of filtering vs phenotype and add error bars using sem values from ffiltering_phenotype Show X968 and Y0036 in red and yellow respectively both glyph and text\n",
    "plt.figure(figsize=(7,7))\n",
    "#put error bars in back\n",
    "plt.errorbar(filtering_phenotype[\"%flocc\"],filtering_phenotype[\"ratio\"],xerr=filtering_phenotype[\"sem_x\"],yerr=filtering_phenotype[\"sem_y\"],fmt=\"o\",color=\"blue\",alpha=0.3)\n",
    "plt.ylabel(\"Adhesion (washing assay)\",fontsize=16)\n",
    "plt.xlabel(\"Flocculation (filtering assay)\",fontsize=16)\n",
    "plt.title(\"JB50-JB759 Segregant library\",fontsize=25)\n",
    "#make it pretty\n",
    "plt.xlim(0,1.1)\n",
    "plt.ylim(0,1.1)\n",
    "#label  X968 and Y0036 filled with red and yellow respectively both glyph and text large dot\n",
    "plt.text(filtering_phenotype[filtering_phenotype[\"Strain\"]==\"JB50\"][\"%flocc\"]+0.01,filtering_phenotype[filtering_phenotype[\"Strain\"]==\"JB50\"][\"ratio\"]+0.01,\"JB50\",color=\"black\",fontsize=16)\n",
    "plt.text(filtering_phenotype[filtering_phenotype[\"Strain\"]==\"JB759\"][\"%flocc\"]+0.01,filtering_phenotype[filtering_phenotype[\"Strain\"]==\"JB759\"][\"ratio\"]+0.01,\"JB759\",color=\"black\",fontsize=16)\n",
    "#bring these in front of the error bars\n",
    "\n",
    "plt.scatter(filtering_phenotype[filtering_phenotype[\"Strain\"]==\"JB50\"][\"%flocc\"],filtering_phenotype[filtering_phenotype[\"Strain\"]==\"JB50\"][\"ratio\"],color=\"red\",s=400,marker=\"*\")\n",
    "plt.scatter(filtering_phenotype[filtering_phenotype[\"Strain\"]==\"JB759\"][\"%flocc\"],filtering_phenotype[filtering_phenotype[\"Strain\"]==\"JB759\"][\"ratio\"],color=\"orange\",s=400,marker=\"*\")\n",
    "\n",
    "\n",
    "\n",
    "\n",
    "#print also a spearman correlation coefficient and p value between the two variables\n",
    "plt.text(0.1,1,\"Pearson correlation coefficient: \"+str(round(stats.pearsonr(filtering_phenotype[\"%flocc\"],filtering_phenotype[\"ratio\"])[0],2)),fontsize=16)\n",
    "plt.text(0.1,0.9,\"P-value: \"+str(round(stats.pearsonr(filtering_phenotype[\"%flocc\"],filtering_phenotype[\"ratio\"])[1],20)),fontsize=16)\n",
    "plt.show()"
   ]
  },
  {
   "cell_type": "code",
   "execution_count": null,
   "metadata": {},
   "outputs": [],
   "source": [
    "\n",
    "condition_plot_df = pd.concat([segregant_yes, segregant_emm])\n",
    "\n",
    "condition_plot_df = condition_plot_df.reset_index(drop=True)\n",
    "conditions = np.array([[\"YES\"] * len(segregant_yes)])[0]\n",
    "\n",
    "conditions = np.append(conditions, [[\"EMM\"] * len(segregant_emm)])\n",
    "\n",
    "\n",
    "condition_plot_df[\"condition\"] = conditions\n",
    "condition_plot_df[\"y_vals\"] = condition_plot_df[\"ratio\"]\n",
    "#remove strains that start with JB and then reset index\n",
    "condition_plot_df = condition_plot_df[~condition_plot_df[\"strain\"].str.startswith(\"JB\")]\n",
    "#remove R45 and R48\n",
    "condition_plot_df = condition_plot_df[~condition_plot_df[\"strain\"].str.startswith(\"R45\")]\n",
    "\n",
    "condition_plot_df = condition_plot_df.reset_index(drop=True)\n",
    "\n",
    "highest_strains = np.unique(condition_plot_df[condition_plot_df[\"ratio\"]>0.3][\"strain\"])\n",
    "subset_df = condition_plot_df[condition_plot_df[\"strain\"].isin(highest_strains)]\n",
    "\n",
    "#Make sns boxplot and overlaid stripplot of condition_plot_df with x=condition and y=ratio\n",
    "conditions=[     \"YES\",\n",
    "     \"EMM\"]\n",
    "plt.figure(figsize=(6,6))\n",
    "sns.boxplot(x=\"condition\",y=\"ratio\",data=condition_plot_df,showfliers=False)\n",
    "#put black outline for circles\n",
    "sns.stripplot(x=\"condition\",y=\"ratio\",data=condition_plot_df,jitter=True,size=10,linewidth=0.5,edgecolor=\"black\",alpha=0.5)\n",
    "plt.ylabel(\"Ratio of after/before wash intensity\")\n",
    "#draw bars between YES and all other conditions\n",
    "for i in range(1,len(conditions)):\n",
    "      #choose strain and ratio\n",
    "      p1 = condition_plot_df[condition_plot_df[\"condition\"]==conditions[0]][[\"strain\",\"ratio\"]]\n",
    "      p2 = condition_plot_df[condition_plot_df[\"condition\"]==conditions[i]][[\"strain\",\"ratio\"]]\n",
    "      #create p3 by merging over strai\n",
    "      p3 = pd.merge(p1,p2,on=\"strain\")\n",
    "      p3[\"diff\"] = p3[\"ratio_x\"]-p3[\"ratio_y\"]\n",
    "      #do t test\n",
    "      s,p = stats.ttest_ind(p3[\"ratio_x\"],p3[\"ratio_y\"],permutations=1000000)\n",
    "      \n",
    "      if p<0.05:\n",
    "            plt.plot([0,i],[i*0.03+1.06,i*0.03+1.06],color=\"red\")\n",
    "      #write as many asterisks as significant\n",
    "      for j in range(int(np.log10(p**-1))):\n",
    "            plt.text(j*0.05,i*0.03+1.05,\"*\",fontsize=20)\n",
    "      if p>0.05:\n",
    "            plt.text(0,i*0.03+1.05,\"ns\",fontsize=20)\n",
    "\n",
    "#print the strain name for those with ratio>0.5\n",
    "x_vals=[]\n",
    "y_vals=[]\n",
    "\n",
    "for i in range(len(condition_plot_df)):\n",
    "      if condition_plot_df[\"ratio\"][i]>0.3:\n",
    "            #convert condition value to number\n",
    "            condition = conditions.index(condition_plot_df[\"condition\"][i])\n",
    "            indices = [j for j, x in enumerate(x_vals) if x == condition and abs(y_vals[j]-condition_plot_df[\"y_vals\"][i])<0.06]\n",
    "            y_jitter=0\n",
    "            while len(indices)>1:\n",
    "                  print(len(indices))\n",
    "                  #move the larger index higher\n",
    "                  \n",
    "                  y_val_index_0 = y_vals[indices[0]]\n",
    "                  if y_val_index_0>condition_plot_df[\"y_vals\"][i]:\n",
    "                        y_jitter = stats.norm.rvs(loc=0.02,scale=0.01)\n",
    "                  else:\n",
    "                        y_jitter = stats.norm.rvs(loc=-0.02,scale=0.01)\n",
    "                  condition_plot_df[\"y_vals\"][i] = condition_plot_df[\"y_vals\"][i]+y_jitter\n",
    "                  indices = [j for j, x in enumerate(x_vals) if x == condition and abs(y_vals[j]-condition_plot_df[\"y_vals\"][i])<0.06]\n",
    "            \n",
    "            \n",
    "            x_vals.append(condition)\n",
    "            y_vals.append(condition_plot_df[\"y_vals\"][i])\n",
    "          \n",
    "\n",
    "            plt.text(condition,condition_plot_df[\"y_vals\"][i]+y_jitter,condition_plot_df[\"strain\"][i],fontsize=15)\n",
    "\n",
    "#larger ticks and labels\n",
    "plt.xticks(fontsize=18)\n",
    "plt.yticks(fontsize=17)\n",
    "plt.xlabel(\"Condition\",fontsize=20)\n",
    "plt.ylabel(\"Ratio of after/before wash intensity\",fontsize=20)\n",
    "#only label y axis 0.2, 0.4, 0.6, 0.8, 1.0\n",
    "plt.yticks([0.2,0.4,0.6,0.8,1.0])\n",
    "plt.show()\n"
   ]
  },
  {
   "cell_type": "code",
   "execution_count": null,
   "metadata": {},
   "outputs": [],
   "source": [
    "plt.figure(figsize=(6,6))\n",
    "for i,image in zip(range(len(conditions)),[segregants_yes_2_w,segregants_3_w,]):\n",
    "      image=image/np.max(image)\n",
    "      image=image-np.min(image)\n",
    "      plt.subplot(1,len(conditions),i+1)\n",
    "      #viridis\n",
    "      plt.imshow(image,cmap=\"viridis\")\n",
    "      plt.title(conditions[i],fontsize=10)\n",
    "      plt.axis(\"off\")\n",
    "plt.tight_layout()"
   ]
  },
  {
   "attachments": {},
   "cell_type": "markdown",
   "metadata": {},
   "source": [
    "# Final segregant plot "
   ]
  },
  {
   "cell_type": "code",
   "execution_count": null,
   "metadata": {},
   "outputs": [],
   "source": [
    "#plot phenotype_s and phenotype_s_yes grouped by strain and plot mean and sem\n",
    "seg_plot_df = pd.concat([segregant_emm,segregant_yes])\n",
    "#add column media with entries EMM and YES. For first len(phenotype_s) rows EMM and for the rest YES\n",
    "seg_plot_df[\"media\"]=[\"EMM\"]*len(segregant_emm)+[\"YES\"]*len(segregant_yes)\n",
    "seg_plot_df[\"color\"]=[\"blue\"]*len(segregant_emm)+[\"red\"]*len(segregant_yes)\n",
    "#remove strains with JB in name\n",
    "seg_plot_df=seg_plot_df[seg_plot_df[\"strain\"].apply(lambda x: \"JB\" not in x)]\n",
    "#reset\n",
    "seg_plot_df=seg_plot_df.reset_index(drop=True)\n",
    "#createa column strain_unique, with each strain name plus media\n",
    "seg_plot_df[\"strain_unique\"]=seg_plot_df[\"strain\"]+\"_\"+seg_plot_df[\"media\"]\n",
    "\n",
    "#keep ratio, media,strain\n",
    "seg_plot_df=seg_plot_df[[\"ratio\",\"media\",\"strain\"]]\n",
    "\n",
    "\n",
    "import iqplot \n",
    "import bokeh.io\n",
    "bokeh.io.output_notebook()\n",
    "bokeh.io.show(iqplot.strip(seg_plot_df, q=\"ratio\", cats=\"media\", parcoord_column=\"strain\", q_axis=\"y\", title=\"EMM vs YES for segregants\"))\n",
    "#paired t test\n",
    "stats.ttest_rel(seg_plot_df[seg_plot_df[\"media\"]==\"EMM\"][\"ratio\"],seg_plot_df[seg_plot_df[\"media\"]==\"YES\"][\"ratio\"])\n"
   ]
  },
  {
   "cell_type": "code",
   "execution_count": null,
   "metadata": {},
   "outputs": [],
   "source": [
    "#plot isolates_caf_1_w image under each condition in asingle row, make sure centers of images are aligned with the boxplots\n",
    "plt.figure(figsize=(20,5))\n",
    "for i,image in zip(range(len(conditions)),[isolates_yes_1_w,isolates_4_w,isolates_caf_2_w,isolates_caf_rap_1_w,isolates_rap_2_w,isolates_yes_h2o2_3_w,isolates_yes_edta_2_w]):\n",
    "      image=image/np.max(image)\n",
    "      image=image-np.min(image)\n",
    "      plt.subplot(1,len(conditions),i+1)\n",
    "      plt.imshow(image)\n",
    "      plt.title(conditions[i],fontsize=10)\n",
    "      plt.axis(\"off\")\n",
    "plt.tight_layout()"
   ]
  },
  {
   "attachments": {},
   "cell_type": "markdown",
   "metadata": {},
   "source": [
    "# Plot on the wild isolates adhesion vs flocculation m\n",
    "\n"
   ]
  },
  {
   "cell_type": "code",
   "execution_count": null,
   "metadata": {},
   "outputs": [],
   "source": [
    "# Plot for wild isolates adhesion vs flocculation\n",
    "#read in \"/Users/bencekover/Library/CloudStorage/OneDrive-UniversityCollegeLondon/MSci Bahler lab/S.-Pombe-biofilm/Bence folder/Phenotypes/plate_reader_wild_isolates_results.csv\"\n",
    "wild_isolates_floc = pd.read_csv(root + \"Bence folder/Phenotypes/plate_reader_wild_isolates_results.csv\",delimiter=\",\")"
   ]
  },
  {
   "cell_type": "code",
   "execution_count": null,
   "metadata": {},
   "outputs": [],
   "source": [
    "#wild_isolates_floc merge with phenotype_gwas\n",
    "wild_isolates_floc_phenotype=wild_isolates_floc.merge(wild_isolate_emm,left_on=\"Strain\",right_on=\"strain\",how=\"inner\")\n",
    "#create scatterplot of filtering vs phenotype and add error bars using sem values from ffiltering_phenotype \n",
    "plt.figure(figsize=(7,7))\n",
    "plt.errorbar(wild_isolates_floc_phenotype[\"Mean\"],wild_isolates_floc_phenotype[\"ratio\"],xerr=wild_isolates_floc_phenotype[\"SEM\"],yerr=wild_isolates_floc_phenotype[\"sem\"],fmt=\"o\", color=\"blue\")\n",
    "plt.ylabel(\"Ratio of after/before wash intensity (washing assay)\",fontsize=15)\n",
    "plt.xlabel(\"Flocculation (plate-reader assay, CV)\",fontsize=15)\n",
    "plt.title(\"Adhesion to agar vs flocculation, (Wild isolates EMM)\")\n",
    "#make it pretty\n",
    "\n",
    "#test spearman correlation coefficient and p value between the two variables\n",
    "plt.text(0.2,0.9,\"Pearson correlation coefficient: \"+str(round(stats.pearsonr(wild_isolates_floc_phenotype[\"Mean\"],wild_isolates_floc_phenotype[\"ratio\"])[0],2)),fontsize=16)\n",
    "#also print p value\n",
    "plt.text(0.2,0.8,\"P-value: \"+str(round(stats.pearsonr(wild_isolates_floc_phenotype[\"Mean\"],wild_isolates_floc_phenotype[\"ratio\"])[1],4)),fontsize=16)"
   ]
  },
  {
   "attachments": {},
   "cell_type": "markdown",
   "metadata": {},
   "source": [
    "### simpler axes for presentation"
   ]
  },
  {
   "cell_type": "code",
   "execution_count": null,
   "metadata": {},
   "outputs": [],
   "source": [
    "#wild_isolates_floc merge with phenotype_gwas\n",
    "wild_isolates_floc_phenotype=wild_isolates_floc.merge(wild_isolate_emm,left_on=\"Strain\",right_on=\"strain\",how=\"inner\")\n",
    "#create scatterplot of filtering vs phenotype and add error bars using sem values from ffiltering_phenotype \n",
    "plt.figure(figsize=(7,7))\n",
    "plt.errorbar(wild_isolates_floc_phenotype[\"Mean\"],wild_isolates_floc_phenotype[\"ratio\"],xerr=wild_isolates_floc_phenotype[\"SEM\"],yerr=wild_isolates_floc_phenotype[\"sem\"],fmt=\"o\", color=\"blue\")\n",
    "plt.ylabel(\"Adhesion (washing assay)\",fontsize=15)\n",
    "plt.xlabel(\"Flocculation (plate-reader assay)\",fontsize=15)\n",
    "plt.title(\"Wild strain collection\",fontsize=25)\n",
    "#make it pretty\n",
    "\n",
    "#test spearman correlation coefficient and p value between the two variables\n",
    "plt.text(0.2,0.9,\"Pearson correlation coefficient: \"+str(round(stats.pearsonr(wild_isolates_floc_phenotype[\"Mean\"],wild_isolates_floc_phenotype[\"ratio\"])[0],2)),fontsize=16)\n",
    "#also print p value\n",
    "plt.text(0.2,0.8,\"P-value: \"+str(round(stats.pearsonr(wild_isolates_floc_phenotype[\"Mean\"],wild_isolates_floc_phenotype[\"ratio\"])[1],4)),fontsize=16)"
   ]
  },
  {
   "cell_type": "code",
   "execution_count": null,
   "metadata": {},
   "outputs": [],
   "source": [
    "# Plot of EMM vs YES for wild isolates\n",
    "#phenotype_gwas merge with phenotype_yes\n",
    "wi_emm_yes=wild_isolate_emm.merge(wild_isolate_yes,left_on=\"strain\",right_on=\"strain\",how=\"inner\")\n",
    "#remove entry with strain EMPTY\n",
    "wi_emm_yes=wi_emm_yes[wi_emm_yes[\"strain\"]!=\"EMPTY\"]\n",
    "#put values of ratio_x and ratio_y into one shared column and create a second that is called media with entries EMM and YES\n",
    "ratio=np.concatenate((wi_emm_yes[\"ratio_x\"],wi_emm_yes[\"ratio_y\"]))\n",
    "media = [\"EMM\"]*len(wi_emm_yes[\"ratio_x\"])+[\"YES\"]*len(wi_emm_yes[\"ratio_y\"])\n",
    "strains = np.concatenate((wi_emm_yes[\"strain\"],wi_emm_yes[\"strain\"]))\n",
    "plot_df = pd.DataFrame({\"ratio\":ratio,\"media\":media,\"strain\":strains})\n",
    "\n",
    "import iqplot \n",
    "import bokeh.io\n",
    "bokeh.io.show(iqplot.strip(plot_df, q=\"ratio\", cats=\"media\", parcoord_column=\"strain\", q_axis=\"y\", title=\"EMM vs YES for wild isolates\"))\n",
    "#do a paired t-test between EMM and YES for wild isolates\n",
    "stats.ttest_rel(wi_emm_yes[\"ratio_x\"],wi_emm_yes[\"ratio_y\"])\n"
   ]
  },
  {
   "attachments": {},
   "cell_type": "markdown",
   "metadata": {},
   "source": [
    "# Plotting segregant adhesion results when splitting by the most significant SNP"
   ]
  },
  {
   "cell_type": "code",
   "execution_count": null,
   "metadata": {},
   "outputs": [],
   "source": [
    "#Plotting the results when splitting at the most significant SNP\n",
    "#read in snp data /Users/bencekover/Library/CloudStorage/OneDrive-UniversityCollegeLondon/MSci Bahler lab/S.-Pombe-biofilm/internal data/updated_genotype_matrix_final_pos.tsv\n",
    "snps = pd.read_csv(root + \"internal data/updated_genotype_matrix_final_pos.tsv\",delimiter=\"\\t\")\n",
    "\n",
    "seg_plot_df = filtering_phenotype.copy()\n",
    "#remove R45 and R48\n",
    "seg_plot_df = seg_plot_df[seg_plot_df[\"Strain\"]!=\"R45\"]\n",
    "seg_plot_df = seg_plot_df[seg_plot_df[\"Strain\"]!=\"R48\"]\n",
    "\n",
    "#rename strains JB50 to X968 and JB759 to Y0036\n",
    "seg_plot_df[\"Strain\"] = seg_plot_df[\"Strain\"].replace(\"JB50\",\"X968\")\n",
    "seg_plot_df[\"Strain\"] = seg_plot_df[\"Strain\"].replace(\"JB759\",\"Y0036\")\n",
    "\n",
    "import re\n",
    "\n",
    "# loop through each row in the DataFrame\n",
    "for i, row in seg_plot_df.iterrows():\n",
    "    # check if the strain name starts with \"R\" followed by a number\n",
    "    if re.match(r\"^R\\d+$\", row[\"Strain\"]):\n",
    "        # rename the strain by replacing \"R\" with \"R1_\"\n",
    "        seg_plot_df.at[i, \"Strain\"] = \"R1_\" + row[\"Strain\"][1:]\n",
    "\n",
    "#reset index\n",
    "seg_plot_df = seg_plot_df.reset_index(drop=True)\n"
   ]
  },
  {
   "cell_type": "code",
   "execution_count": null,
   "metadata": {},
   "outputs": [],
   "source": [
    "#in snps rename column 968 to X968\n",
    "snps.rename(columns={\"968\":\"X968\"},inplace=True)\n",
    "#keep only rows  2341 and 2431 in snps\n",
    "snps=snps.iloc[[2341,2431,3540],:]\n",
    "#reset\n",
    "snps.reset_index(inplace=True,drop=True)\n",
    "srb_geno = []\n",
    "ncrna_geno = []\n",
    "hsp_geno = []\n",
    "\n",
    "\n",
    "#itearte through seg_plot_df\n",
    "for i in range(len(seg_plot_df)):\n",
    "      strain=seg_plot_df.iloc[i][\"Strain\"]\n",
    "      #if strain is in snps colnames\n",
    "      if strain in snps.columns:\n",
    "            srb_geno.append(snps[strain][0])\n",
    "            ncrna_geno.append(snps[strain][1])\n",
    "            hsp_geno.append(snps[strain][2])\n",
    "\n",
    "      else:\n",
    "            srb_geno.append(np.nan)\n",
    "            ncrna_geno.append(np.nan)\n",
    "            hsp_geno.append(np.nan)\n",
    "seg_plot_df[\"srb_geno\"]=srb_geno\n",
    "seg_plot_df[\"ncrna_geno\"]=ncrna_geno\n",
    "seg_plot_df[\"hsp_geno\"]=hsp_geno\n",
    "seg_plot_df[\"srb_geno_jitter\"]=seg_plot_df[\"srb_geno\"]+np.random.normal(0,0.1,len(seg_plot_df))\n",
    "seg_plot_df[\"ncrna_geno_jitter\"]=seg_plot_df[\"ncrna_geno\"]+np.random.normal(0,0.1,len(seg_plot_df))\n",
    "seg_plot_df[\"hsp_geno_jitter\"]=seg_plot_df[\"hsp_geno\"]+np.random.normal(0,0.1,len(seg_plot_df))\n",
    "#newly sequenced if in R1_34, R1_44, R1_48, R1_49,R1_50, R1_51, R1_52, R1_53 and R1_54\n",
    "seg_plot_df[\"newly_sequenced\"]=seg_plot_df[\"Strain\"].isin([\"R1_34\", \"R1_44\", \"R1_48\", \"R1_49\",\"R1_50\", \"R1_51\", \"R1_52\", \"R1_53\", \"R1_54\"])\n",
    "\n",
    "#reset index\n",
    "seg_plot_df.reset_index(inplace=True,drop=True)\n",
    "\n"
   ]
  },
  {
   "cell_type": "code",
   "execution_count": null,
   "metadata": {},
   "outputs": [],
   "source": [
    "fig, ax = plt.subplots(1, 2, figsize=(20, 10))\n",
    "\n",
    "# plot the first plot\n",
    "sns.boxplot(x=\"srb_geno\", y=\"ratio\", data=seg_plot_df, ax=ax[0], showfliers=False)\n",
    "sns.scatterplot(x=\"srb_geno_jitter\", y=\"ratio\", data=seg_plot_df, ax=ax[0], color=\"black\", s=200, edgecolor=\"black\", alpha=0.5)\n",
    "\n",
    "ax[0].set_title(\"II:2316851 TA vs T\", fontsize=30)\n",
    "ax[0].set_xlabel(\"\", fontsize=30)\n",
    "ax[0].set_xticklabels([\"TA\", \"T\"], fontsize=30)\n",
    "ax[0].set_ylabel(\"Adhesion ratio (washing assay)\", fontsize=28)\n",
    "ax[0].tick_params(axis='y', labelsize=30)\n",
    "ax[0].text(-0.45, 0.7, \"P-value: \" + str(round(stats.ttest_ind(seg_plot_df[seg_plot_df[\"srb_geno\"] == 0][\"ratio\"], seg_plot_df[seg_plot_df[\"srb_geno\"] == 1][\"ratio\"], permutations=1000000)[1], 10)), fontsize=30)\n",
    "\n",
    "# plot the second plot\n",
    "sns.boxplot(x=\"srb_geno\", y=\"%flocc\", data=seg_plot_df, ax=ax[1], showfliers=False)\n",
    "sns.scatterplot(x=\"srb_geno_jitter\", y=\"%flocc\", data=seg_plot_df, ax=ax[1], color=\"black\", s=200, edgecolor=\"black\", alpha=0.5)\n",
    "\n",
    "ax[1].set_title(\"II:2316851 TA vs T\", fontsize=30)\n",
    "ax[1].set_xlabel(\"\", fontsize=30)\n",
    "ax[1].set_xticklabels([\"TA\", \"T\"], fontsize=30)\n",
    "ax[1].set_ylabel(\"Flocculation (filtering assay)\", fontsize=28)\n",
    "ax[1].tick_params(axis='y', labelsize=30)\n",
    "#if p value less than what can be determined using the permutation test, say that it is less than 1e-6\n",
    "p_val = stats.ttest_ind(seg_plot_df[seg_plot_df[\"srb_geno\"] == 0][\"%flocc\"], seg_plot_df[seg_plot_df[\"srb_geno\"] == 1][\"%flocc\"], permutations=1000000)[1]\n",
    "if p_val < 1e-6:\n",
    "    ax[1].text(-0.45, 0.7, \"P-value: < 1e-6\", fontsize=30)\n",
    "else:\n",
    "    ax[1].text(-0.45, 0.7, \"P-value: \" + str(round(p_val, 10)), fontsize=30)"
   ]
  },
  {
   "cell_type": "code",
   "execution_count": null,
   "metadata": {},
   "outputs": [],
   "source": [
    "fig, ax = plt.subplots(1, 2, figsize=(20, 10))\n",
    "\n",
    "# plot the first plot\n",
    "sns.boxplot(x=\"hsp_geno\", y=\"ratio\", data=seg_plot_df, ax=ax[0], showfliers=False)\n",
    "sns.scatterplot(x=\"hsp_geno_jitter\", y=\"ratio\", data=seg_plot_df, ax=ax[0], color=\"black\", s=200, edgecolor=\"black\", alpha=0.5)\n",
    "\n",
    "ax[0].set_title(\"III: 47000\", fontsize=30)\n",
    "ax[0].set_xlabel(\"\", fontsize=30)\n",
    "ax[0].set_xticklabels([\"TA\", \"T\"], fontsize=30)\n",
    "ax[0].set_ylabel(\"Adhesion ratio (washing assay)\", fontsize=28)\n",
    "ax[0].tick_params(axis='y', labelsize=30)\n",
    "ax[0].text(-0.45, 0.7, \"P-value: \" + str(round(stats.ttest_ind(seg_plot_df[seg_plot_df[\"srb_geno\"] == 0][\"ratio\"], seg_plot_df[seg_plot_df[\"srb_geno\"] == 1][\"ratio\"], permutations=1000000)[1], 10)), fontsize=30)\n",
    "\n",
    "# plot the second plot\n",
    "sns.boxplot(x=\"hsp_geno\", y=\"%flocc\", data=seg_plot_df, ax=ax[1], showfliers=False)\n",
    "sns.scatterplot(x=\"hsp_geno_jitter\", y=\"%flocc\", data=seg_plot_df, ax=ax[1], color=\"black\", s=200, edgecolor=\"black\", alpha=0.5)\n",
    "\n",
    "ax[1].set_title(\"III:47000 \", fontsize=30)\n",
    "ax[1].set_xlabel(\"\", fontsize=30)\n",
    "ax[1].set_xticklabels([\"TA\", \"T\"], fontsize=30)\n",
    "ax[1].set_ylabel(\"Flocculation (filtering assay)\", fontsize=28)\n",
    "ax[1].tick_params(axis='y', labelsize=30)\n",
    "#if p value less than what can be determined using the permutation test, say that it is less than 1e-6\n",
    "p_val = stats.ttest_ind(seg_plot_df[seg_plot_df[\"srb_geno\"] == 0][\"%flocc\"], seg_plot_df[seg_plot_df[\"srb_geno\"] == 1][\"%flocc\"], permutations=1000000)[1]\n",
    "if p_val < 1e-6:\n",
    "    ax[1].text(-0.45, 0.7, \"P-value: < 1e-6\", fontsize=30)\n",
    "else:\n",
    "    ax[1].text(-0.45, 0.7, \"P-value: \" + str(round(p_val, 10)), fontsize=30)"
   ]
  },
  {
   "cell_type": "code",
   "execution_count": null,
   "metadata": {},
   "outputs": [],
   "source": [
    "#give me barplots from seg_plot_df with 4 bars. First bar is srb_geno = 0 and hsp_geno = 0, second bar is srb_geno = 1 and hsp_geno = 0, third bar is srb_geno = 0 and hsp_geno = 1 and fourth bar is srb_geno = 1 and hsp_geno = 1\n",
    "plt.figure(figsize=(20, 10))\n",
    "fig,axis = plt.subplots(1,1,figsize=(20,10))\n",
    "sns.barplot(x=\"srb_geno\", y=\"%flocc\", hue=\"hsp_geno\", data=seg_plot_df, ax=axis, ci=68, capsize=0.1, errwidth=2, edgecolor=\"black\", linewidth=2,alpha=0.2)\n",
    "sns.scatterplot(x=\"srb_geno_jitter\", y=\"%flocc\", hue=\"hsp_geno\", data=seg_plot_df, ax=axis, color=\"black\", s=200, edgecolor=\"black\")\n",
    "#label by Strain column in seg_plot_df\n",
    "for i in range(len(seg_plot_df)):\n",
    "    axis.text(seg_plot_df[\"srb_geno_jitter\"][i], seg_plot_df[\"%flocc\"][i], seg_plot_df[\"Strain\"][i], fontsize=20)"
   ]
  },
  {
   "cell_type": "code",
   "execution_count": null,
   "metadata": {},
   "outputs": [],
   "source": [
    "%load_ext watermark\n",
    "%watermark -v -p numpy,pandas,scipy,bokeh,iqplot,bebi103,jupyterlab"
   ]
  },
  {
   "cell_type": "code",
   "execution_count": null,
   "metadata": {},
   "outputs": [],
   "source": []
  },
  {
   "cell_type": "code",
   "execution_count": null,
   "metadata": {},
   "outputs": [],
   "source": []
  },
  {
   "cell_type": "code",
   "execution_count": null,
   "metadata": {},
   "outputs": [],
   "source": []
  },
  {
   "cell_type": "code",
   "execution_count": null,
   "metadata": {},
   "outputs": [],
   "source": []
  }
 ],
 "metadata": {
  "colab": {
   "collapsed_sections": [],
   "name": "Image processing.ipynb",
   "provenance": []
  },
  "kernelspec": {
   "display_name": "Python 3.9.12 ('base')",
   "language": "python",
   "name": "python3"
  },
  "language_info": {
   "codemirror_mode": {
    "name": "ipython",
    "version": 3
   },
   "file_extension": ".py",
   "mimetype": "text/x-python",
   "name": "python",
   "nbconvert_exporter": "python",
   "pygments_lexer": "ipython3",
   "version": "3.9.0"
  },
  "vscode": {
   "interpreter": {
    "hash": "2d0398177d7bb10ea33b6a5cd9d022d63e20680fcfd84762562c72ff35bdf44b"
   }
  }
 },
 "nbformat": 4,
 "nbformat_minor": 4
}
