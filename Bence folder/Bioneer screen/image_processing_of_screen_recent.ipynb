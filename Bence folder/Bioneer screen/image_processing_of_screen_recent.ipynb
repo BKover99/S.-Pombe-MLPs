{
 "cells": [
  {
   "attachments": {},
   "cell_type": "markdown",
   "metadata": {},
   "source": [
    "# In this Jupyter Notebook I will analyse the data from the non-coding RNA screen and the bioneer screen."
   ]
  },
  {
   "cell_type": "code",
   "execution_count": null,
   "metadata": {},
   "outputs": [],
   "source": [
    "#importing the packages used\n",
    "import numpy as np\n",
    "import matplotlib.pyplot as plt\n",
    "import statistics as st\n",
    "import scipy.stats as stats\n",
    "import pandas as pd\n",
    "from skimage.morphology import square\n",
    "from skimage.measure import label, regionprops\n",
    "from matplotlib.collections import PatchCollection\n",
    "import matplotlib.patches as mpatches\n",
    "from matplotlib.axes import Axes\n",
    "from skimage.filters import threshold_otsu\n",
    "import skimage.io\n",
    "import skimage.filters\n",
    "import skimage.measure\n",
    "import os\n",
    "import sys\n",
    "sys.path.append('/Users/bencekover/Library/CloudStorage/OneDrive-Personal/MSci Bahler lab/S.-Pombe-MLPs/')\n",
    "import yeastmlptrial.adhesion as adh\n",
    "root = \"/Users/bencekover/Library/CloudStorage/OneDrive-Personal/MSci Bahler lab/S.-Pombe-MLPs/\"\n",
    "\n"
   ]
  },
  {
   "cell_type": "code",
   "execution_count": null,
   "metadata": {},
   "outputs": [],
   "source": [
    "image_for_raw_layout = root + \"internal data/filled_out_plate.jpg\"\n",
    "\n",
    "results = pd.DataFrame(columns = ['gene', \"before_wash\",'plate','color', 'position', 'ratio'])\n",
    "for num in range(1,11):\n",
    "    for color in [\"red\",\"blue\",\"yellow\",\"green\"]:\n",
    "        #create layout\n",
    "        strain_layout_file = root + \"external data/bioneer/96_well_layout_plate_\"+str(num)+\"_\"+color+\".csv\"\n",
    "        \n",
    "        \n",
    "        image_before = root + \"internal data/Bioneer screen images/images/20230227_1_biofilm_bioneer_p\"+str(num)+\"_\"+color+\".jpg\"\n",
    "        image_after = root + \"internal data/Bioneer screen images/images/20230227_1_biofilm_bioneer_p\"+str(num)+\"_\"+color+\"_w.jpg\"\n",
    "        \n",
    "        df=adh.result_from_of_ims(image_before,image_after,strain_layout_file, image_for_raw_layout,show_layout_fits = True,x1=60,x2=60,y1=60,y2=60, keep_all=True,mean_or_median = \"median\")\n",
    "    \n",
    "        df.rename(columns={\"rep\":\"plate\"}, inplace=True)\n",
    "        #rename strain to gene\n",
    "        df.rename(columns={\"strain\":\"gene\"}, inplace=True)\n",
    "        \n",
    "       \n",
    "        #keep top 5 highest ratio values\n",
    "        df[\"color\"] = color\n",
    "        df[\"plate\"] = num\n",
    "        results = results.append(df[['gene',\"before_wash\", 'plate','color', 'position', 'ratio']], ignore_index=True)\n",
    "\n",
    "results_mean = pd.DataFrame(columns = ['gene', \"before_wash\",'plate','color', 'position', 'ratio'])\n",
    "for num in range(1,11):\n",
    "    for color in [\"red\",\"blue\",\"yellow\",\"green\"]:\n",
    "        #create layout\n",
    "        strain_layout_file = root + \"external data/bioneer/96_well_layout_plate_\"+str(num)+\"_\"+color+\".csv\"\n",
    "        \n",
    "        image_before = root + \"internal data/Bioneer screen images/images/20230227_1_biofilm_bioneer_p\"+str(num)+\"_\"+color+\".jpg\"\n",
    "        image_after = root + \"internal data/Bioneer screen images/images/20230227_1_biofilm_bioneer_p\"+str(num)+\"_\"+color+\"_w.jpg\"\n",
    "        \n",
    "        df=adh.result_from_of_ims(image_before,image_after,strain_layout_file, image_for_raw_layout,show_layout_fits = False ,x1=60,x2=60,y1=60,y2=60, keep_all=True,mean_or_median = \"mean\")\n",
    "    \n",
    "        df.rename(columns={\"rep\":\"plate\"}, inplace=True)\n",
    "        #rename strain to gene\n",
    "        df.rename(columns={\"strain\":\"gene\"}, inplace=True)\n",
    "        \n",
    "        #keep top 5 highest ratio values\n",
    "        df[\"color\"] = color\n",
    "        df[\"plate\"] = num\n",
    "        results_mean = results_mean.append(df[['gene', \"before_wash\",'plate','color', 'position', 'ratio']], ignore_index=True)\n",
    "\n",
    "#remove NaNs\n",
    "results = results.dropna()\n",
    "results_mean = results_mean.dropna()\n",
    "\n",
    "raw_results = results.copy()\n",
    "raw_results_mean = results_mean.copy()\n",
    "        "
   ]
  },
  {
   "attachments": {},
   "cell_type": "markdown",
   "metadata": {},
   "source": [
    "# Loading in the ncRNA results"
   ]
  },
  {
   "cell_type": "code",
   "execution_count": null,
   "metadata": {},
   "outputs": [],
   "source": [
    "results_ncrna = pd.DataFrame(columns = ['gene', \"before_wash\",'plate','color', 'position', 'ratio'])\n",
    "for num in range(1,3):\n",
    "    for color in [\"red\",\"blue\",\"yellow\",\"green\"]:\n",
    "        #create layout\n",
    "        strain_layout_file= root + \"external data/Rodriguez-Lopez et al. ncRNA deletion library/ncRNA_\"+color+\"_plate_\" + str(num) + \".csv\"\n",
    "        \n",
    "        image_before = root + \"internal data/ncRNA screen images/images/20230220_1_biofilm_ncrna_del_emm_plate_\"+str(num)+\"_\"+color+\".jpg\"\n",
    "        image_after = root + \"internal data/ncRNA screen images/images/20230220_1_biofilm_ncrna_del_emm_plate_\"+str(num)+\"_\"+color+\"_w.jpg\"\n",
    "        \n",
    "        df=adh.result_from_of_ims(image_before,image_after,strain_layout_file, image_for_raw_layout,show_layout_fits = True,x1=60,x2=60,y1=60,y2=60, keep_all=True,mean_or_median = \"median\")\n",
    "        \n",
    "        \n",
    "        \n",
    "        df.rename(columns={\"rep\":\"plate\"}, inplace=True)\n",
    "        #rename strain to gene\n",
    "        df.rename(columns={\"strain\":\"gene\"}, inplace=True)\n",
    "        \n",
    "       \n",
    "        #keep top 5 highest ratio values\n",
    "        \n",
    "        df[\"color\"] = color\n",
    "        df[\"plate\"] = num\n",
    "        results_ncrna = results_ncrna.append(df[['gene',\"before_wash\", 'plate','color', 'position', 'ratio']], ignore_index=True)\n",
    "\n",
    "raw_results_ncrna = results_ncrna.copy()"
   ]
  },
  {
   "cell_type": "code",
   "execution_count": null,
   "metadata": {},
   "outputs": [],
   "source": [
    "#sort results by ratio\n",
    "results_ncrna.sort_values(by=['ratio'], ascending=False, inplace=True)\n",
    "#show where gene contans 781\n",
    "#turn gene into str\n",
    "results_ncrna[\"gene\"] = results_ncrna[\"gene\"].astype(str)\n",
    "#remove entries where gene contains 972\t\n",
    "results_ncrna = results_ncrna[~results_ncrna[\"gene\"].str.contains(\"972\")]\n",
    "#concat results_ncrna and results\n",
    "#but make a new column for the source of the data\n",
    "results_ncrna[\"source\"] = \"ncRNA\"\n",
    "results[\"source\"] = \"bioneer\"\n",
    "results = pd.concat([results,results_ncrna], ignore_index=True) \n",
    "results"
   ]
  },
  {
   "cell_type": "code",
   "execution_count": null,
   "metadata": {},
   "outputs": [],
   "source": [
    "\n",
    "plt.hist(results[\"before_wash\"], bins=100, color=\"grey\")\n",
    "#color entries that are bioneer\n",
    "plt.hist(results[results[\"source\"]==\"bioneer\"][\"before_wash\"], bins=100, color=\"blue\")\n",
    "\n",
    "#and write the number of values that made the cute and didnt make the cut\n",
    "plt.text(0.15, 150, str(str(len(results[results[\"before_wash\"]>=0.1])) + \" out of \" + str(len(results)) + \" strains had values above 0.1\"))\n",
    "plt.xlabel(\"Pixel intensity before washing\", fontsize=15)\n",
    "plt.ylabel(\"Number of strains\", fontsize=15)\n",
    "#add legend showing that red is bioneer and blue is ncRNA with a thin line\n",
    "plt.legend([\"ncRNA\",\"Bioneer\"], loc=\"upper right\", frameon=False)\n",
    "\n",
    "#draw a red line at 0.1\n",
    "plt.axvline(x=0.1, color='r', linestyle='-')\n",
    "\n",
    "plt.show()"
   ]
  },
  {
   "cell_type": "code",
   "execution_count": null,
   "metadata": {},
   "outputs": [],
   "source": [
    "\n",
    "plt.hist(results[\"before_wash\"], bins=100, color=\"grey\")\n",
    "#color entries that are bioneer\n",
    "plt.hist(results[results[\"source\"]==\"bioneer\"][\"before_wash\"], bins=100, color=\"blue\")\n",
    "#hist of those where position starts with A\n",
    "plt.hist(results[results[\"position\"].str.startswith(\"A\")][\"before_wash\"], bins=100, color=\"red\")\n",
    "plt.hist(results[results[\"position\"].str.startswith(\"B\")][\"before_wash\"], bins=100, color=\"green\")\n",
    "\n",
    "#and write the number of values that made the cute and didnt make the cut\n",
    "\n",
    "plt.text(0.15, 150, str(str(len(results[results[\"before_wash\"]>=0.1])) + \" out of \" + str(len(results)) + \" strains had values above 0.1\"))\n",
    "plt.xlabel(\"Pixel intensity before washing\", fontsize=15)\n",
    "plt.ylabel(\"Number of strains\", fontsize=15)\n",
    "#add legend showing that red is bioneer and blue is ncRNA with a thin line\n",
    "\n",
    "plt.legend([\"ncRNA\",\"Bioneer\"], loc=\"upper right\", frameon=False)\n",
    "\n",
    "#draw a red line at 0.1\n",
    "plt.axvline(x=0.1, color='r', linestyle='-')\n",
    "\n",
    "\n",
    "plt.show()"
   ]
  },
  {
   "cell_type": "code",
   "execution_count": null,
   "metadata": {},
   "outputs": [],
   "source": [
    "#From both results and results_mean remove entries with before_wash < 0.1\n",
    "results = results.loc[results[\"before_wash\"] > 0.1]\n",
    "results_mean = results_mean.loc[results_mean[\"before_wash\"] > 0.1]\n"
   ]
  },
  {
   "cell_type": "code",
   "execution_count": null,
   "metadata": {},
   "outputs": [],
   "source": [
    "\n",
    "print(\"Number of entries kept: \", len(results))\n",
    "print(\"Number of entries kept: \", len(results_mean))"
   ]
  },
  {
   "cell_type": "code",
   "execution_count": null,
   "metadata": {},
   "outputs": [],
   "source": [
    "#remove genes from ncrna\n",
    "results = results[results[\"source\"]==\"bioneer\"]"
   ]
  },
  {
   "cell_type": "code",
   "execution_count": null,
   "metadata": {},
   "outputs": [],
   "source": [
    "#add a column called ecdf to results\n",
    "results[\"ecdf\"] = 0\n",
    "#sort results by ratio\n",
    "results.sort_values(by=['ratio'], ascending=False, inplace=True)\n",
    "#reset\n",
    "results.reset_index(drop=True, inplace=True)\n",
    "#ecdf should be the fraction of entries that have a ratio lower than the current entry\n",
    "\n",
    "results[\"ecdf\"] = 1-np.arange(len(results))/len(results)\n",
    "results.head(20)\n"
   ]
  },
  {
   "cell_type": "code",
   "execution_count": null,
   "metadata": {},
   "outputs": [],
   "source": [
    "#create a plot where x is ratio and y is ecdf\n",
    "#choose blue colorpalette\n",
    "#dont use seaborn grid\n",
    "\n",
    "plt.scatter(results[\"ratio\"], results[\"ecdf\"],  s=25,alpha=0.2, color=\"blue\")\n",
    "#add a line at 0.95\n",
    "plt.axhline(y=0.95, color='r', linestyle='-',lw=4)\n",
    "#make pretty\n",
    "plt.xlabel(\"Ratio of pixel intensity after washing to before washing\", fontsize=15)\n",
    "plt.ylabel(\"ECDF\", fontsize=15)\n",
    "plt.title(\"ECDF of adhesion values\", fontsize=12)\n",
    "#also where the 0.95 line intersects the data, draw a vertical line\n",
    "#find 95th percentile\n",
    "percentile = np.percentile(results[\"ratio\"], 95)\n",
    "#draw a vertical line at that point\n",
    "plt.axvline(x=percentile, color='r', linestyle='-',lw=2, alpha=0.5)\n",
    "#add text to show where the line is\n",
    "plt.text(0.12, 0.9, \"95th percentile: \" + str(round(percentile,3)), fontsize=9, color=\"black\")\n",
    "#add text to show how many entries are above the line\n",
    "plt.text(0.12, 0.85, \"Number of entries above 95th percentile: \" + str(len(results[results[\"ratio\"]>percentile])), fontsize=9, color=\"black\")\n",
    "#more detailed axes, meaning ticks every 0.1\n",
    "plt.xticks(np.arange(0, 1.1, 0.1))\n",
    "plt.yticks(np.arange(0, 1.1, 0.1))\n",
    "#larger ticks\n",
    "plt.tick_params(axis='both', which='major', labelsize=12)\n",
    "plt.show()"
   ]
  },
  {
   "cell_type": "code",
   "execution_count": null,
   "metadata": {},
   "outputs": [],
   "source": [
    "#SHOW VALUES with gene empty in results_mean\n",
    "results_mean.loc[results_mean[\"gene\"] == \"empty\"]\n",
    "#both of these can be traced back to direct (from other plate) and indirect (by neighbor sample) contamination!\n"
   ]
  },
  {
   "cell_type": "code",
   "execution_count": null,
   "metadata": {},
   "outputs": [],
   "source": [
    "#sort according to ratio \n",
    "results.sort_values(by=['ratio'], inplace=True, ascending=False)\n",
    "#keep top 40 values and reset index\n",
    "final=results.head(60).reset_index(drop=True)\n",
    "#add column saying median\n",
    "final[\"median_or_mean\"]=\"median\""
   ]
  },
  {
   "cell_type": "code",
   "execution_count": null,
   "metadata": {},
   "outputs": [],
   "source": [
    "#add the last three genes from results as controls to the finals df as well\n",
    "final=final.append(results.tail(3).reset_index(drop=True))\n",
    "#tail 3 entreis should have median_or_mean = control\n",
    "#reset index\n",
    "final=final.reset_index(drop=True)\n",
    "final.loc[final.index[-3:], \"median_or_mean\"] = \"control\"\n",
    "final\n"
   ]
  },
  {
   "cell_type": "code",
   "execution_count": null,
   "metadata": {},
   "outputs": [],
   "source": [
    "#take top 20 mean values\n",
    "results_mean.sort_values(by=['ratio'], inplace=True, ascending=False)\n",
    "mean=results_mean.head(70).reset_index(drop=True)\n",
    "#add column median_or_mean\n",
    "mean[\"median_or_mean\"]=\"mean\"\n",
    "#append entries to final df that are not in final gene\n",
    "final=final.append(mean[~mean[\"gene\"].isin(final[\"gene\"])])\n",
    "final=final.reset_index(drop=True)\n"
   ]
  },
  {
   "cell_type": "code",
   "execution_count": null,
   "metadata": {},
   "outputs": [],
   "source": [
    "#create a column for 384 arrangement\n",
    "#iterate through genes, load the respective 384 layout based on the plate column and find position of the gene in 384 layout\n",
    "final[\"384_row\"]=\"\"\n",
    "final[\"384_col\"]=\"\"\n",
    "for i in range(0,len(final)):\n",
    "      ## /Users/bencekover/Library/CloudStorage/OneDrive-UniversityCollegeLondon/MSci Bahler lab/S.-Pombe-biofilm/external data/bioneer/384_well_layout_plate_1.csv\n",
    "      plate_384 = pd.read_csv(root + \"external data/bioneer/384_well_layout_plate_\"+str(final[\"plate\"][i])+\".csv\", header=None)\n",
    "    \n",
    "      final[\"384_row\"][i]=np.where(plate_384.to_numpy()==final[\"gene\"][i])[0]+1\n",
    "      final[\"384_col\"][i]=np.where(plate_384.to_numpy()==final[\"gene\"][i])[1]+1"
   ]
  },
  {
   "cell_type": "code",
   "execution_count": null,
   "metadata": {},
   "outputs": [],
   "source": [
    "#create a coord column with plate, row, col\n",
    "final[\"coord\"]=final[\"plate\"].astype(str)+\"_\"+final[\"384_row\"].astype(str)+\"_\"+final[\"384_col\"].astype(str)\n",
    "#import gene annotation for gene names"
   ]
  },
  {
   "cell_type": "code",
   "execution_count": null,
   "metadata": {},
   "outputs": [],
   "source": [
    "#remove gene \"empty\"\n",
    "final=final[final[\"gene\"]!=\"empty\"]\n",
    "#reset index\n",
    "final=final.reset_index(drop=True)\n",
    "final\n"
   ]
  },
  {
   "cell_type": "code",
   "execution_count": null,
   "metadata": {},
   "outputs": [],
   "source": [
    "#import /Users/bencekover/Library/CloudStorage/OneDrive-UniversityCollegeLondon/MSci Bahler lab/S.-Pombe-biofilm/external data/gene_IDs_names_products.tsv\n",
    "gene_names = pd.read_csv(root + \"external data/Pombase files/gene_IDs_names_products.tsv\", sep=\"\\t\", header=None)\n",
    "#keep column 0 and 2 and rename to gene and name\n",
    "gene_names=gene_names[[0,2,4]]\n",
    "gene_names.columns=[\"gene\",\"name\",\"function\"]\n",
    "#merge final and gene_names through gene\n",
    "final=pd.merge(final,gene_names, on=\"gene\")\n",
    "final"
   ]
  },
  {
   "cell_type": "code",
   "execution_count": null,
   "metadata": {},
   "outputs": [],
   "source": [
    "#create a df called angeli which has all strains from final, that are not control\n",
    "angeli = final[final[\"median_or_mean\"]!=\"control\"]\n",
    "angeli_background=results[[\"gene\",\"plate\",\"color\",\"position\",\"ratio\",\"before_wash\"]].copy()\n",
    "#save both as .csv\n",
    "#leave for both only the gene column\n",
    "angeli=angeli[\"gene\"]\n",
    "#remove index\n",
    "angeli_background=angeli_background[\"gene\"] \n",
    "angeli.to_csv(root + \"Bence folder/Angeli/bioneer_angeli_recent.txt\", index=False)\n",
    "angeli_background.to_csv(root + \"Bence folder/Angeli/bioneer_angeli_background_recent.txt\", index=False)\n"
   ]
  },
  {
   "cell_type": "code",
   "execution_count": null,
   "metadata": {},
   "outputs": [],
   "source": [
    "#take all results where ratio is above the 95th percentile\n",
    "\n",
    "results_above_0_05 = results[results[\"ratio\"]>results[\"ratio\"].quantile(0.95)][\"gene\"]\n",
    "#save as csv\n",
    "results_above_0_05.to_csv(root + \"Bence folder/Angeli/bioneer_angeli_95thpercentile_recent.txt\", index=False)\n",
    "#save all results genes\n",
    "results[\"gene\"].to_csv(root + \"Bence folder/Angeli/bioneer_angeli_all_100percent_recent.txt\", index=False)"
   ]
  },
  {
   "cell_type": "code",
   "execution_count": null,
   "metadata": {},
   "outputs": [],
   "source": [
    "#create df plot_bef_aft with results but before_wash>0.1\n",
    "plot_bef_aft=results[results[\"before_wash\"]>0.1]\n",
    "#plot before_wash versus before_wash*ratio and call that after_wash\n",
    "plot_bef_aft[\"after_wash\"]=plot_bef_aft[\"before_wash\"]*plot_bef_aft[\"ratio\"]\n",
    "#also draw a line with slope of the ratio of the 95th percentile of ratio valiues\n",
    "fig, ax = plt.subplots()\n",
    "ax.scatter(plot_bef_aft[\"before_wash\"],plot_bef_aft[\"after_wash\"], s=25, alpha=0.2, color=\"blue\")\n",
    "\n",
    "ax.plot([0,1],[0,plot_bef_aft[\"ratio\"].quantile(0.95)], color=\"red\")\n",
    "ax.set_xlabel(\"Normalised pixel intensity before wash\", fontsize=15)\n",
    "ax.set_ylabel(\"Normalised pixel intensity after wash\", fontsize=15)\n",
    "ax.set_title(\"Pixel intensity before and after wash\")\n",
    "#print p value of t test of values above and below. that means values above 95th percentile of ratio\n",
    "above_vals=plot_bef_aft[plot_bef_aft[\"ratio\"]>plot_bef_aft[\"ratio\"].quantile(0.95)][\"before_wash\"]\n",
    "below_vals=plot_bef_aft[plot_bef_aft[\"ratio\"]<plot_bef_aft[\"ratio\"].quantile(0.95)][\"before_wash\"]\n",
    "#print mean before vals and p value\n",
    "\n",
    "plt.text(0.05,0.85,\"Mean before wash intensity above cutoff: \"+str(round(above_vals.mean(),4)), transform=ax.transAxes, fontsize=10)\n",
    "plt.text(0.05,0.8,\"Mean before wash intensity below cutoff: \"+str(round(below_vals.mean(),4)), transform=ax.transAxes, fontsize=10)\n",
    "plt.text(0.35,0.25,\"95th percentile of after/before ratio: \"+str(round(plot_bef_aft[\"ratio\"].quantile(0.95),4)), transform=ax.transAxes, color=\"red\",fontsize=10)\n",
    "#pval in scientific notation until 4 significant digits\n",
    "p_val = stats.ttest_ind(above_vals,below_vals)[1]\n",
    "#find how many digits after the decimal point\n",
    "digits = -int(np.floor(np.log10(p_val)))+5\n",
    "#round to that many digits\n",
    "p_val = round(p_val, digits)\n",
    "plt.text(0.05,0.75,\"P-value: \"+str(p_val), transform=ax.transAxes, fontsize=10)"
   ]
  },
  {
   "cell_type": "code",
   "execution_count": null,
   "metadata": {},
   "outputs": [],
   "source": [
    "#read in /Users/bencekover/Documents/20230306_1_biofilm_bioneer_final_printed_second.csv\n",
    "printed1 = pd.read_csv(\"/Users/bencekover/Documents/20230306_1_biofilm_bioneer_final_printed_second.csv\")\n",
    "#/Users/bencekover/Documents/20230227_1_biofilm_bioneer_final.csv\n",
    "printed2 = pd.read_csv(\"/Users/bencekover/Documents/20230227_1_biofilm_bioneer_final.csv\")"
   ]
  },
  {
   "cell_type": "code",
   "execution_count": null,
   "metadata": {},
   "outputs": [],
   "source": [
    "results\n"
   ]
  },
  {
   "cell_type": "code",
   "execution_count": null,
   "metadata": {},
   "outputs": [],
   "source": [
    "#create a dataframe called more_print, which is a subset of results. Essentially find all rows where genes\n",
    "#are not in printed1 or printed2 and have ratio above 0.1\n",
    "more_print=results[~results[\"gene\"].isin(printed1[\"gene\"]) & ~results[\"gene\"].isin(printed2[\"gene\"]) & (results[\"ratio\"]>0.1)  & (results[\"before_wash\"]>0.2)]\n",
    "more_print"
   ]
  },
  {
   "cell_type": "code",
   "execution_count": null,
   "metadata": {},
   "outputs": [],
   "source": []
  },
  {
   "cell_type": "code",
   "execution_count": null,
   "metadata": {},
   "outputs": [],
   "source": []
  },
  {
   "attachments": {},
   "cell_type": "markdown",
   "metadata": {},
   "source": [
    "# Following up on the hits "
   ]
  },
  {
   "cell_type": "code",
   "execution_count": null,
   "metadata": {},
   "outputs": [],
   "source": [
    "#load in layouts\n",
    "sticky1_layout = root + \"internal data/Screen_BK_plate_1.xlsx\"\n",
    "\n",
    "sticky2_layout = root + \"internal data/Screen_BK_plate_2.xlsx\"\n",
    "\n",
    "\n",
    "#sticky plate 1 EMM\n",
    "\n",
    "folder1 = root + \"internal data/confirming deletion hits/Sticky plate one_EMM_before\"\n",
    "folder2 = root + \"internal data/confirming deletion hits/Sticky plate one_EMM_after\"\n",
    "sticky_1_emm =  adh.result_from_folders_of_ims(folder1,folder2, sticky1_layout, image_for_raw_layout)\n",
    "sticky_1_emm = sticky_1_emm[sticky_1_emm['n']>4]\n",
    "adh.barchart_from_res(sticky_1_emm)\n",
    "\n",
    "\n",
    "#sticky plate 1 YES\n",
    "\n",
    "folder1 = root + \"internal data/confirming deletion hits/Sticky plate one_YES_before\"\n",
    "folder2 = root + \"internal data/confirming deletion hits/Sticky plate one_YES_after\"\n",
    "sticky_1_yes = adh.result_from_folders_of_ims(folder1,folder2, sticky1_layout, image_for_raw_layout)\n",
    "adh.barchart_from_res(sticky_1_yes)\n",
    "\n",
    "#sticky plate 2 EMM\n",
    "\n",
    "folder1 = root + \"internal data/confirming deletion hits/Sticky plate two_EMM_before\"\n",
    "folder2 = root + \"internal data/confirming deletion hits/Sticky plate two_EMM_after\"\n",
    "sticky_2_emm = adh.result_from_folders_of_ims(folder1,folder2, sticky2_layout, image_for_raw_layout)\n",
    "sticky_2_emm = sticky_2_emm[sticky_2_emm['n']>4]\n",
    "adh.barchart_from_res(sticky_2_emm)\n",
    "\n",
    "\n",
    "\n",
    "#sticky plate 2 YES\n",
    "folder1 = root + \"internal data/confirming deletion hits/Sticky plate two_YES_before\"   \n",
    "folder2 = root + \"internal data/confirming deletion hits/Sticky plate two_YES_after\"\n",
    "sticky_2_yes = adh.result_from_folders_of_ims(folder1,folder2, sticky2_layout, image_for_raw_layout)\n",
    "adh.barchart_from_res(sticky_2_yes)\n",
    "\n",
    "\n",
    "\n",
    "\n",
    "\n",
    "\n"
   ]
  },
  {
   "attachments": {},
   "cell_type": "markdown",
   "metadata": {},
   "source": [
    "# Merging YES data"
   ]
  },
  {
   "cell_type": "code",
   "execution_count": null,
   "metadata": {},
   "outputs": [],
   "source": [
    "\n",
    "#concat the yes dfs\n",
    "final_results_yes_screen = pd.concat([sticky_1_yes,sticky_2_yes])\n",
    "\n",
    "#reset\n",
    "final_results_yes_screen = final_results_yes_screen.reset_index(drop=True)\n",
    "for i in [\"SPNCRNA.781\",\"SPNCRNA.900\",\"SPNCRNA.1234\"]:\n",
    "      subset = final_results_yes_screen[final_results_yes_screen['strain'].str.contains(i)]\n",
    "      indices = subset.index\n",
    "    #remove from df\n",
    "      final_results_yes_screen = final_results_yes_screen.drop(indices)\n",
    "      ratios=[k for i in subset['filtered_all_ratio_vals'] for k in i]\n",
    "      ratio_mean = np.mean(ratios)\n",
    "      ratio_sem = np.std(ratios)/np.sqrt(len(ratios))\n",
    "      before_wash_mean = np.mean(subset['before_wash'])\n",
    "      after_wash_mean = np.mean(subset['after_wash'])\n",
    "      n = np.sum(subset['n'])\n",
    "      new_row = {'strain':i,'ratio':ratio_mean,'sem':ratio_sem,'before_wash':before_wash_mean,'after_wash':after_wash_mean,'n':n,'filtered_all_ratio_vals':ratios}\n",
    "      final_results_yes_screen = final_results_yes_screen.append(new_row,ignore_index=True)\n",
    "#remove strains starting with JB\n",
    "final_results_yes_screen = final_results_yes_screen[~final_results_yes_screen['strain'].str.contains(\"JB\")]\n",
    "#reset\n",
    "final_results_yes_screen = final_results_yes_screen.reset_index(drop=True)\n",
    "final_results_yes_screen"
   ]
  },
  {
   "attachments": {},
   "cell_type": "markdown",
   "metadata": {},
   "source": [
    "# Merging EMM data\n"
   ]
  },
  {
   "cell_type": "code",
   "execution_count": null,
   "metadata": {},
   "outputs": [],
   "source": [
    "\n",
    "#concat the yes dfs\n",
    "final_results_emm_screen = pd.concat([sticky_1_emm,sticky_2_emm])\n",
    "\n",
    "#reset\n",
    "final_results_emm_screen = final_results_emm_screen.reset_index(drop=True)\n",
    "for i in [\"SPNCRNA.781\",\"SPNCRNA.900\",\"SPNCRNA.1234\"]:\n",
    "      subset = final_results_emm_screen[final_results_emm_screen['strain'].str.contains(i)]\n",
    "      indices = subset.index\n",
    "    #remove from df\n",
    "      final_results_emm_screen = final_results_emm_screen.drop(indices)\n",
    "      ratios=[k for i in subset['filtered_all_ratio_vals'] for k in i]\n",
    "      ratio_mean = np.mean(ratios)\n",
    "      ratio_sem = np.std(ratios)/np.sqrt(len(ratios))\n",
    "      before_wash_mean = np.mean(subset['before_wash'])\n",
    "      after_wash_mean = np.mean(subset['after_wash'])\n",
    "      n = np.sum(subset['n'])\n",
    "      new_row = {'strain':i,'ratio':ratio_mean,'sem':ratio_sem,'before_wash':before_wash_mean,'after_wash':after_wash_mean,'n':n,'filtered_all_ratio_vals':ratios}\n",
    "      final_results_emm_screen = final_results_emm_screen.append(new_row,ignore_index=True)\n",
    "#remove strains starting with JB\n",
    "final_results_emm_screen = final_results_emm_screen[~final_results_emm_screen['strain'].str.contains(\"JB\")]\n",
    "#reset\n",
    "final_results_emm_screen = final_results_emm_screen.reset_index(drop=True)"
   ]
  },
  {
   "cell_type": "code",
   "execution_count": null,
   "metadata": {},
   "outputs": [],
   "source": [
    "#final_results_emm_screen find rpl3702 \n",
    "final_results_emm_screen[final_results_emm_screen['strain'].str.contains(\"rpl3702\")]"
   ]
  },
  {
   "cell_type": "code",
   "execution_count": null,
   "metadata": {},
   "outputs": [],
   "source": [
    "#final_results_screen should not have any gene with srb, med, nut, pmc in its name, except med18\n",
    "final_results_screen = final_results_emm_screen[~final_results_emm_screen ['strain'].str.contains(\"srb|med13|nut|pmc|rox\")]\n",
    "#after value larger than 0.05\n",
    "final_results_screen = final_results_screen[final_results_screen['after_wash']>0.03]\n",
    "#sort by ratio_mean\n",
    "final_results_screen = final_results_screen.sort_values(by=['ratio'],ascending=False)\n",
    "#reset\n",
    "final_results_screen = final_results_screen.reset_index(drop=True)\n",
    "#final_results_mediator contains only  all the above\n",
    "final_results_mediator = final_results_emm_screen [final_results_emm_screen ['strain'].str.contains(\"med|pmc|nut|srb|rox\")]\n",
    "#sort by ratio_mean\n",
    "final_results_mediator = final_results_mediator.sort_values(by=['ratio'],ascending=False)\n",
    "#reset\n",
    "final_results_mediator = final_results_mediator.reset_index(drop=True)\n"
   ]
  },
  {
   "cell_type": "code",
   "execution_count": null,
   "metadata": {},
   "outputs": [],
   "source": [
    "final_results_screen"
   ]
  },
  {
   "cell_type": "code",
   "execution_count": null,
   "metadata": {},
   "outputs": [],
   "source": [
    "final_results_mediator_yes = final_results_yes_screen[final_results_yes_screen['strain'].str.contains(\"med|pmc|nut|srb|rox\")]\n",
    "#sort by ratio_mean\n",
    "final_results_mediator_yes = final_results_mediator_yes.sort_values(by=['ratio'],ascending=False)\n",
    "#reset\n",
    "final_results_mediator_yes = final_results_mediator_yes.reset_index(drop=True)\n"
   ]
  },
  {
   "cell_type": "code",
   "execution_count": null,
   "metadata": {},
   "outputs": [],
   "source": [
    "import bokeh.io\n",
    "import iqplot\n",
    "bokeh.io.output_notebook()\n",
    "\n",
    "plots=[]\n",
    "for i in range(len(final_results_screen)):\n",
    "    #tempdf with the ratios and strain name\n",
    "    \n",
    "    ratios1 = np.array(final_results_screen['filtered_all_ratio_vals'][i])\n",
    "    strain=final_results_screen['strain'][i]\n",
    "    media = np.repeat([\"EMM\"],len(ratios1))\n",
    "\n",
    "    #find the same strain in final_results_yes_screen\n",
    "    index = final_results_yes_screen[final_results_yes_screen['strain']==strain].index\n",
    "    ratios2 = np.array(final_results_yes_screen['filtered_all_ratio_vals'][index].values[0])\n",
    "    ratios = np.append(ratios1,ratios2)\n",
    "    strains = np.repeat(strain,len(ratios))\n",
    "\n",
    "    media = np.append(media,np.repeat([\"YES\"],len(ratios2)))\n",
    "\n",
    "    plot_df = pd.DataFrame({'ratio':ratios,'strain':strains,'media':media})\n",
    "    p=iqplot.ecdf(plot_df,\"ratio\",\"media\", conf_int=True, title=final_results_screen['strain'][i],\n",
    "        ptiles= [2.5, 97.5],\n",
    "        n_bs_reps= 10000, height=150, width=250)\n",
    "    #add mean and CI\n",
    "    n_draws=10000\n",
    "    samples = np.random.choice(ratios1,size=(n_draws,len(ratios1)))\n",
    "    samples = np.sort(samples)\n",
    "    #at each element calculate the 2.5 and 97.5 percentile\n",
    "    means= [np.mean(i) for i in samples]\n",
    "    mean = np.mean(ratios1)\n",
    "    #calculate the 95% confidence interval\n",
    "    conf_int = np.percentile(means,[2.5,97.5])\n",
    "    #add text to bokeh plot: mean and CI\n",
    "    p.title.text = p.title.text + ',  mean = {:.2f} [{:.2f},{:.2f}]'.format(mean,conf_int[0],conf_int[1])\n",
    "    #small font\n",
    "    p.title.text_font_size = '8pt'\n",
    "    #labels and ticks smaller font\n",
    "    p.xaxis.axis_label_text_font_size = '7pt'\n",
    "    p.yaxis.axis_label_text_font_size = '7pt'\n",
    "    p.xaxis.major_label_text_font_size = '7pt'\n",
    "    p.yaxis.major_label_text_font_size = '7pt'\n",
    "    #x axis label should be Adhesion (before/after) ratio\n",
    "    p.xaxis.axis_label = 'Adhesion ratio (before/after)'\n",
    "    #set fix x y range\n",
    "    p.x_range=bokeh.models.Range1d(0,1)\n",
    "    p.y_range=bokeh.models.Range1d(0,1)\n",
    "    #remove legend\n",
    "    #p.legend.visible=False\n",
    "    #smaller legend\n",
    "    p.legend.label_text_font_size = '5pt'\n",
    "    #samller label icon\n",
    "    p.legend.glyph_height = 5\n",
    "    #smaller box\n",
    "    p.legend.glyph_width = 5\n",
    "    p.legend.spacing = 0\n",
    "    plots.append(p)\n",
    "    \n",
    "\n",
    "#make gridplot\n",
    "import bokeh.layouts\n",
    "grid = bokeh.layouts.gridplot(plots,ncols=4)\n",
    "#show gridplot tight layout\n",
    "from bokeh.io import export_png\n",
    "bokeh.io.show(grid)\n",
    "#save output of this block to image\n",
    "\n",
    "\n",
    "#export_png(grid,filename=\"adhesion_ratio.png\")\n",
    "        "
   ]
  },
  {
   "cell_type": "code",
   "execution_count": null,
   "metadata": {},
   "outputs": [],
   "source": [
    "final_results_screen_to_export = final_results_screen[[\"strain\",\"ratio_mean\"]]\n",
    "#make column systematic name which is a copy of strain\n",
    "final_results_screen_to_export[\"systematic_name\"] = final_results_screen_to_export[\"strain\"]\n",
    "#for each systematic ame try and find it in gene_names name and if found replace it with gene\n",
    "for i in range(len(final_results_screen_to_export)):\n",
    "      #find the systematic name\n",
    "      systematic_name = final_results_screen_to_export[\"systematic_name\"][i]\n",
    "      #find the gene name\n",
    "      gene = gene_names[gene_names['name']==systematic_name]['gene'].values\n",
    "      #if gene is not empty\n",
    "      if len(gene)>0:\n",
    "            #replace systematic name with gene\n",
    "            final_results_screen_to_export[\"systematic_name\"][i] = gene[0]\n",
    "#export to csv\n",
    "final_results_screen_to_export.to_csv(\"adhesion_ratio.csv\",index=False)\n",
    "#add random 50 genes to final_results_screen_to_export from results mean\n",
    "results_mean_before_concat = results_mean[[\"gene\",\"ratio\"]]\n",
    "#gene is systematic name\n",
    "results_mean_before_concat[\"systematic_name\"] = results_mean_before_concat[\"gene\"]\n",
    "\n",
    "\n"
   ]
  },
  {
   "cell_type": "code",
   "execution_count": null,
   "metadata": {},
   "outputs": [],
   "source": [
    "#Are the differences significant?\n",
    "print(\"srb11 vs srb10, P={}\".format(stats.ttest_ind(final_results_mediator['ratio_list'][0],final_results_mediator['ratio_list'][1], permutations=1000000)))\n",
    "print(\"med13 vs med18, P={}\".format(stats.ttest_ind(final_results_mediator['ratio_list'][2],final_results_mediator['ratio_list'][4], permutations=1000000)))"
   ]
  },
  {
   "cell_type": "code",
   "execution_count": null,
   "metadata": {},
   "outputs": [],
   "source": [
    "#final results mediator srb10 srb11 do significance test\n",
    "ratios = np.array([])\n",
    "strains = np.array([])\n",
    "for i in range(7):\n",
    "   ratios = np.append(ratios,final_results_mediator['filtered_all_ratio_vals'][i])\n",
    "   strains = np.append(strains,[final_results_mediator['strain'][i]]*len(final_results_mediator['filtered_all_ratio_vals'][i]))\n",
    "\n",
    "plot_df = pd.DataFrame({'ratio':ratios,'strain':strains})\n",
    "p=iqplot.ecdf(plot_df,\"ratio\",\"strain\", conf_int=True, title=\"Adhesion of Mediator gene deletions on EMM\",\n",
    "    ptiles= [2.5, 97.5],\n",
    "    n_bs_reps= 10000, x_range=[0,1])\n",
    "p.xaxis.axis_label = 'Adhesion ratio (before/after)'\n",
    "\n",
    "#add p value to the plot\n",
    "bokeh.io.show(p)\n",
    "\n"
   ]
  },
  {
   "cell_type": "code",
   "execution_count": null,
   "metadata": {},
   "outputs": [],
   "source": [
    "#final results mediator srb10 srb11 do significance test\n",
    "ratios = np.array([])\n",
    "strains = np.array([])\n",
    "for i in range(7):\n",
    "   ratios = np.append(ratios,final_results_mediator_yes['filtered_all_ratio_vals'][i])\n",
    "   strains = np.append(strains,[final_results_mediator_yes['strain'][i]]*len(final_results_mediator_yes['filtered_all_ratio_vals'][i]))\n",
    "\n",
    "plot_df = pd.DataFrame({'ratio':ratios,'strain':strains})\n",
    "p=iqplot.ecdf(plot_df,\"ratio\",\"strain\", conf_int=True, title=\"Adhesion of Mediator gene deletions on YES\",\n",
    "    ptiles= [2.5, 97.5],\n",
    "    n_bs_reps= 10000, x_range=[0,1])\n",
    "\n",
    "p.xaxis.axis_label = 'Adhesion ratio (before/after)'\n",
    "\n",
    "#add p value to the plot\n",
    "bokeh.io.show(p)"
   ]
  },
  {
   "attachments": {},
   "cell_type": "markdown",
   "metadata": {},
   "source": []
  },
  {
   "attachments": {},
   "cell_type": "markdown",
   "metadata": {},
   "source": [
    "# Quantifying the mbx2OE strain "
   ]
  },
  {
   "cell_type": "code",
   "execution_count": null,
   "metadata": {},
   "outputs": [],
   "source": [
    "#sticky plate 2 EMM with mbx2oe\n",
    "\n",
    "\n",
    "sticky2_mbx2oe_layout = root + \"internal data/Screen_BK_plate_2mbx2OE.xlsx\"\n",
    "\n",
    "folder1 = root + \"internal data/confirming deletion hits/Sticky plate two and mbx2OE_EMM_before\"\n",
    "folder2 = root + \"internal data/confirming deletion hits/Sticky plate two and mbx2OE_EMM_after\"\n",
    "sticky_2_mbx2oe_emm = adh.result_from_folders_of_ims(folder1,folder2, sticky2_mbx2oe_layout, image_for_raw_layout)\n",
    "adh.barchart_from_res(sticky_2_mbx2oe_emm)\n"
   ]
  },
  {
   "cell_type": "code",
   "execution_count": null,
   "metadata": {},
   "outputs": [],
   "source": [
    "#create ecdf of ratio list where strain is MBX2\n",
    "ratios = results_df_mbx2[results_df_mbx2['strain']=='MBX2']['ratio_list'].tolist()[0]\n",
    "plot_df = pd.DataFrame({'ratio':ratios, 'strain':['mbx2 OE']*len(ratios)})\n",
    "n_draws=10000\n",
    "samples = np.random.choice(ratios,size=(n_draws,len(ratios)))\n",
    "samples = np.sort(samples)\n",
    "    #at each element calculate the 2.5 and 97.5 percentile\n",
    "means= [np.mean(i) for i in samples]\n",
    "mean = np.mean(ratios)\n",
    "    #calculate the 95% confidence interval\n",
    "conf_int = np.percentile(means,[2.5,97.5])\n",
    "#show CI to 3 sig digits\n",
    "p=iqplot.ecdf(data=plot_df, q='ratio', cats='strain',title='ECDF of adhesion ratios of mbx2 overexpression strain. 95% CI of the mean: '+str(round(conf_int[0],3))+'-'+str(round(conf_int[1],3)),conf_int=True, height=400, width=700, show_legend = False)\n",
    "#bokeh xlim 0,1\n",
    "#import range1d\n",
    "from bokeh.models import Range1d\n",
    "p.x_range=Range1d(0,1.05)\n",
    "bokeh.io.show(p)"
   ]
  },
  {
   "cell_type": "code",
   "execution_count": null,
   "metadata": {},
   "outputs": [],
   "source": [
    "plotfour(mbx2oe_emm_1,mbx2oe_emm_2,mbx2oe_emm_1_w,mbx2oe_emm_2_w)"
   ]
  },
  {
   "cell_type": "code",
   "execution_count": null,
   "metadata": {},
   "outputs": [],
   "source": []
  }
 ],
 "metadata": {
  "kernelspec": {
   "display_name": "base",
   "language": "python",
   "name": "python3"
  },
  "language_info": {
   "codemirror_mode": {
    "name": "ipython",
    "version": 3
   },
   "file_extension": ".py",
   "mimetype": "text/x-python",
   "name": "python",
   "nbconvert_exporter": "python",
   "pygments_lexer": "ipython3",
   "version": "3.9.0"
  },
  "orig_nbformat": 4,
  "vscode": {
   "interpreter": {
    "hash": "2d0398177d7bb10ea33b6a5cd9d022d63e20680fcfd84762562c72ff35bdf44b"
   }
  }
 },
 "nbformat": 4,
 "nbformat_minor": 2
}
