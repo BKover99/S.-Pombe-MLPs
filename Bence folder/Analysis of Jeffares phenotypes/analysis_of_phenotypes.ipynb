{
 "cells": [
  {
   "cell_type": "code",
   "execution_count": 2,
   "metadata": {},
   "outputs": [
    {
     "name": "stderr",
     "output_type": "stream",
     "text": [
      "/Users/bencekover/opt/anaconda3/lib/python3.9/site-packages/openpyxl/worksheet/_read_only.py:79: UserWarning: Unknown extension is not supported and will be removed\n",
      "  for idx, row in parser.parse():\n"
     ]
    },
    {
     "name": "stdout",
     "output_type": "stream",
     "text": [
      "strain\n",
      "shape1.lengthtype.liquid\n",
      "misc.mating.type\n",
      "shape1.liquid\n",
      "shape1.solid\n"
     ]
    },
    {
     "name": "stderr",
     "output_type": "stream",
     "text": [
      "/Users/bencekover/opt/anaconda3/lib/python3.9/site-packages/openpyxl/worksheet/_read_only.py:79: UserWarning: Unknown extension is not supported and will be removed\n",
      "  for idx, row in parser.parse():\n"
     ]
    },
    {
     "data": {
      "text/html": [
       "<div>\n",
       "<style scoped>\n",
       "    .dataframe tbody tr th:only-of-type {\n",
       "        vertical-align: middle;\n",
       "    }\n",
       "\n",
       "    .dataframe tbody tr th {\n",
       "        vertical-align: top;\n",
       "    }\n",
       "\n",
       "    .dataframe thead th {\n",
       "        text-align: right;\n",
       "    }\n",
       "</style>\n",
       "<table border=\"1\" class=\"dataframe\">\n",
       "  <thead>\n",
       "    <tr style=\"text-align: right;\">\n",
       "      <th></th>\n",
       "      <th>aaconc.alanine</th>\n",
       "      <th>aaconc.arginine</th>\n",
       "      <th>aaconc.asparagine</th>\n",
       "      <th>aaconc.aspartate</th>\n",
       "      <th>aaconc.glutamate</th>\n",
       "      <th>aaconc.glutamine</th>\n",
       "      <th>aaconc.glycine</th>\n",
       "      <th>aaconc.histidine</th>\n",
       "      <th>aaconc.isoleucine</th>\n",
       "      <th>aaconc.leucine</th>\n",
       "      <th>...</th>\n",
       "      <th>wb.Tellurite30.5mM.Efficiency</th>\n",
       "      <th>wb.Tellurite30.5mM.lag</th>\n",
       "      <th>wb.Tellurite30.5mM.Rate</th>\n",
       "      <th>wb.Tunicamycin1.ug.ml.Efficiency</th>\n",
       "      <th>wb.Tunicamycin1.ug.ml.lag</th>\n",
       "      <th>wb.Tunicamycin1.ug.ml.Rate</th>\n",
       "      <th>misc.flocculation</th>\n",
       "      <th>ratio</th>\n",
       "      <th>before_wash</th>\n",
       "      <th>sem</th>\n",
       "    </tr>\n",
       "  </thead>\n",
       "  <tbody>\n",
       "    <tr>\n",
       "      <th>51</th>\n",
       "      <td>16.577087</td>\n",
       "      <td>NaN</td>\n",
       "      <td>2.298385</td>\n",
       "      <td>8.084347</td>\n",
       "      <td>56.211830</td>\n",
       "      <td>22.610135</td>\n",
       "      <td>3.741693</td>\n",
       "      <td>3.368561</td>\n",
       "      <td>0.294460</td>\n",
       "      <td>0.214022</td>\n",
       "      <td>...</td>\n",
       "      <td>NaN</td>\n",
       "      <td>NaN</td>\n",
       "      <td>NaN</td>\n",
       "      <td>NaN</td>\n",
       "      <td>NaN</td>\n",
       "      <td>NaN</td>\n",
       "      <td>0.0</td>\n",
       "      <td>0.099640</td>\n",
       "      <td>49.126173</td>\n",
       "      <td>0.018632</td>\n",
       "    </tr>\n",
       "    <tr>\n",
       "      <th>52</th>\n",
       "      <td>NaN</td>\n",
       "      <td>NaN</td>\n",
       "      <td>NaN</td>\n",
       "      <td>NaN</td>\n",
       "      <td>NaN</td>\n",
       "      <td>NaN</td>\n",
       "      <td>NaN</td>\n",
       "      <td>NaN</td>\n",
       "      <td>NaN</td>\n",
       "      <td>NaN</td>\n",
       "      <td>...</td>\n",
       "      <td>NaN</td>\n",
       "      <td>NaN</td>\n",
       "      <td>NaN</td>\n",
       "      <td>NaN</td>\n",
       "      <td>NaN</td>\n",
       "      <td>NaN</td>\n",
       "      <td>0.0</td>\n",
       "      <td>NaN</td>\n",
       "      <td>NaN</td>\n",
       "      <td>NaN</td>\n",
       "    </tr>\n",
       "    <tr>\n",
       "      <th>53</th>\n",
       "      <td>14.175858</td>\n",
       "      <td>NaN</td>\n",
       "      <td>2.734266</td>\n",
       "      <td>10.484040</td>\n",
       "      <td>46.727914</td>\n",
       "      <td>23.387088</td>\n",
       "      <td>4.747336</td>\n",
       "      <td>3.011437</td>\n",
       "      <td>0.381173</td>\n",
       "      <td>0.237583</td>\n",
       "      <td>...</td>\n",
       "      <td>NaN</td>\n",
       "      <td>NaN</td>\n",
       "      <td>NaN</td>\n",
       "      <td>NaN</td>\n",
       "      <td>NaN</td>\n",
       "      <td>NaN</td>\n",
       "      <td>0.0</td>\n",
       "      <td>0.153725</td>\n",
       "      <td>64.531070</td>\n",
       "      <td>0.035180</td>\n",
       "    </tr>\n",
       "    <tr>\n",
       "      <th>54</th>\n",
       "      <td>NaN</td>\n",
       "      <td>NaN</td>\n",
       "      <td>NaN</td>\n",
       "      <td>NaN</td>\n",
       "      <td>NaN</td>\n",
       "      <td>NaN</td>\n",
       "      <td>NaN</td>\n",
       "      <td>NaN</td>\n",
       "      <td>NaN</td>\n",
       "      <td>NaN</td>\n",
       "      <td>...</td>\n",
       "      <td>NaN</td>\n",
       "      <td>NaN</td>\n",
       "      <td>NaN</td>\n",
       "      <td>NaN</td>\n",
       "      <td>NaN</td>\n",
       "      <td>NaN</td>\n",
       "      <td>0.0</td>\n",
       "      <td>0.093506</td>\n",
       "      <td>59.181679</td>\n",
       "      <td>0.045816</td>\n",
       "    </tr>\n",
       "    <tr>\n",
       "      <th>55</th>\n",
       "      <td>NaN</td>\n",
       "      <td>NaN</td>\n",
       "      <td>NaN</td>\n",
       "      <td>NaN</td>\n",
       "      <td>NaN</td>\n",
       "      <td>NaN</td>\n",
       "      <td>NaN</td>\n",
       "      <td>NaN</td>\n",
       "      <td>NaN</td>\n",
       "      <td>NaN</td>\n",
       "      <td>...</td>\n",
       "      <td>NaN</td>\n",
       "      <td>NaN</td>\n",
       "      <td>NaN</td>\n",
       "      <td>NaN</td>\n",
       "      <td>NaN</td>\n",
       "      <td>NaN</td>\n",
       "      <td>0.0</td>\n",
       "      <td>NaN</td>\n",
       "      <td>NaN</td>\n",
       "      <td>NaN</td>\n",
       "    </tr>\n",
       "  </tbody>\n",
       "</table>\n",
       "<p>5 rows × 228 columns</p>\n",
       "</div>"
      ],
      "text/plain": [
       "    aaconc.alanine  aaconc.arginine  aaconc.asparagine  aaconc.aspartate  \\\n",
       "51       16.577087              NaN           2.298385          8.084347   \n",
       "52             NaN              NaN                NaN               NaN   \n",
       "53       14.175858              NaN           2.734266         10.484040   \n",
       "54             NaN              NaN                NaN               NaN   \n",
       "55             NaN              NaN                NaN               NaN   \n",
       "\n",
       "    aaconc.glutamate  aaconc.glutamine  aaconc.glycine  aaconc.histidine  \\\n",
       "51         56.211830         22.610135        3.741693          3.368561   \n",
       "52               NaN               NaN             NaN               NaN   \n",
       "53         46.727914         23.387088        4.747336          3.011437   \n",
       "54               NaN               NaN             NaN               NaN   \n",
       "55               NaN               NaN             NaN               NaN   \n",
       "\n",
       "    aaconc.isoleucine  aaconc.leucine  ...  wb.Tellurite30.5mM.Efficiency  \\\n",
       "51           0.294460        0.214022  ...                            NaN   \n",
       "52                NaN             NaN  ...                            NaN   \n",
       "53           0.381173        0.237583  ...                            NaN   \n",
       "54                NaN             NaN  ...                            NaN   \n",
       "55                NaN             NaN  ...                            NaN   \n",
       "\n",
       "    wb.Tellurite30.5mM.lag  wb.Tellurite30.5mM.Rate  \\\n",
       "51                     NaN                      NaN   \n",
       "52                     NaN                      NaN   \n",
       "53                     NaN                      NaN   \n",
       "54                     NaN                      NaN   \n",
       "55                     NaN                      NaN   \n",
       "\n",
       "    wb.Tunicamycin1.ug.ml.Efficiency  wb.Tunicamycin1.ug.ml.lag  \\\n",
       "51                               NaN                        NaN   \n",
       "52                               NaN                        NaN   \n",
       "53                               NaN                        NaN   \n",
       "54                               NaN                        NaN   \n",
       "55                               NaN                        NaN   \n",
       "\n",
       "    wb.Tunicamycin1.ug.ml.Rate  misc.flocculation     ratio  before_wash  \\\n",
       "51                         NaN                0.0  0.099640    49.126173   \n",
       "52                         NaN                0.0       NaN          NaN   \n",
       "53                         NaN                0.0  0.153725    64.531070   \n",
       "54                         NaN                0.0  0.093506    59.181679   \n",
       "55                         NaN                0.0       NaN          NaN   \n",
       "\n",
       "         sem  \n",
       "51  0.018632  \n",
       "52       NaN  \n",
       "53  0.035180  \n",
       "54  0.045816  \n",
       "55       NaN  \n",
       "\n",
       "[5 rows x 228 columns]"
      ]
     },
     "execution_count": 2,
     "metadata": {},
     "output_type": "execute_result"
    }
   ],
   "source": [
    "#importing standard data science libraries\n",
    "import pandas as pd\n",
    "import numpy as np\n",
    "import matplotlib.pyplot as plt\n",
    "import seaborn as sns\n",
    "%matplotlib inline  \n",
    "#reading the data: /Users/bencekover/Library/CloudStorage/OneDrive-UniversityCollegeLondon/MSci Bahler lab/S.-Pombe-biofilm/external data/Jeffares/Jeffares 2015 measurements and LTRs.xlsx,\n",
    "#  sheet 4,\n",
    "#  starting from row 17\n",
    "data = pd.read_excel('/Users/bencekover/Library/CloudStorage/OneDrive-UniversityCollegeLondon/MSci Bahler lab/S.-Pombe-biofilm/external data/Jeffares/Jeffares 2015 measurements and LTRs.xlsx', sheet_name=4, header=16)\n",
    "strain_clusters = pd.read_excel('/Users/bencekover/Library/CloudStorage/OneDrive-UniversityCollegeLondon/MSci Bahler lab/S.-Pombe-biofilm/external data/Jeffares/Jeffares 2015 measurements and LTRs.xlsx', sheet_name=1, header=4)\n",
    "#strain_clusters retain strain name and MCL cluster members\n",
    "strain_clusters = strain_clusters[['strain name', 'MCL cluster']]\n",
    "\n",
    "#remove entries where misc.flocculation is NaN\n",
    "#washing data /Users/bencekover/Library/CloudStorage/OneDrive-UniversityCollegeLondon/MSci Bahler lab/S.-Pombe-biofilm/internal data/washing_wild_isolates.csv\n",
    "washing = pd.read_csv('/Users/bencekover/Library/CloudStorage/OneDrive-UniversityCollegeLondon/MSci Bahler lab/S.-Pombe-biofilm/internal data/washing_wild_isolates.csv')\n",
    "#add it to data based on column strain, for missing values say NaN\n",
    "data = data.merge(washing, on='strain', how='left')\n",
    "\n",
    "data = data[data['misc.flocculation'].notna()]\n",
    "\n",
    "strain = data['strain']\n",
    "flocculation = data['misc.flocculation']\n",
    "#remove misc.flocculation column\n",
    "#see if any column has string entries and remove them\n",
    "for col in data.columns:\n",
    "    if data[col].dtype == 'O':\n",
    "        print(col)\n",
    "        data = data.drop(col,axis=1)\n",
    "\n",
    "data.head()\n"
   ]
  },
  {
   "cell_type": "code",
   "execution_count": 3,
   "metadata": {},
   "outputs": [
    {
     "data": {
      "text/plain": [
       "<matplotlib.collections.PathCollection at 0x7fe918a35f10>"
      ]
     },
     "execution_count": 3,
     "metadata": {},
     "output_type": "execute_result"
    },
    {
     "data": {
      "image/png": "[encoded data removed]",
      "text/plain": [
       "<Figure size 640x480 with 1 Axes>"
      ]
     },
     "metadata": {},
     "output_type": "display_data"
    }
   ],
   "source": [
    "#create a datarame of strain and flocculation, then merge it with washing on column strain\n",
    "flocculation_df = pd.DataFrame({'strain':strain,'flocculation':flocculation})\n",
    "flocculation_df= flocculation_df.merge(washing, on='strain')\n",
    "#remove nans and create scatter plot of  flocculation vs ratio\n",
    "flocculation_df = flocculation_df[flocculation_df['ratio'].notna()]\n",
    "plt.scatter(flocculation_df['ratio'],flocculation_df['flocculation'])\n"
   ]
  },
  {
   "cell_type": "code",
   "execution_count": 3,
   "metadata": {},
   "outputs": [],
   "source": [
    "#There are multiple different ways to assess significance for each variable.\n",
    "# Is your coefficient bigger than what would be expected if the data was random?\n",
    "# -Get the coefficient. Then see how the coefficient changes if you permute the data. Is your original coefficient singnificantly out of this distribution?\n",
    "# Is your coefficient bigger than 0?\n",
    "# -Get a confidence interval for the coefficient by bootstrapping. See which quantile 0 is at. Is your coefficient significantly out of this distribution?\n",
    "# Is your model significant than no model (normal frequency of values)?\n"
   ]
  },
  {
   "cell_type": "code",
   "execution_count": 4,
   "metadata": {},
   "outputs": [],
   "source": [
    "#perform logistic regression on all columns to predict misc.flocculation using scikit without splitting the data into training and test sets\n",
    "from sklearn.linear_model import LogisticRegression\n",
    "#initialise the model\n",
    "logreg = LogisticRegression()\n",
    "#create a dataframe to store the results: columns strain, length of data, score and coefficients\n",
    "results = pd.DataFrame(columns=['measurement','n_measurement','score','coefficients'])\n",
    "#for each column subset the data such that there are no NaN values. Then fit the model and print the score. Join dfs using pd.concat\n",
    "for col in data.columns:\n",
    "    temp_data = data[col].dropna()\n",
    "    temp_flocculation = data[\"misc.flocculation\"][temp_data.index]\n",
    "    logreg.fit(temp_data.values.reshape(-1,1), temp_flocculation)\n",
    "    #save the score\n",
    "    score = logreg.score(temp_data.values.reshape(-1,1), temp_flocculation)\n",
    "    #save the coefficients\n",
    "    coefficients = logreg.coef_[0]\n",
    "    #get confidence interval of the coefficients by bootstrapping and see if they are significantly different from 0\n",
    "    null_coefs = []\n",
    "    for i in range(10000):\n",
    "        scrambled_flocculation = np.random.permutation(temp_flocculation)\n",
    "        logreg.fit(temp_data.values.reshape(-1,1), scrambled_flocculation)\n",
    "        null_coefs.append(logreg.coef_[0][0])\n",
    "    p_value = np.sum(np.abs(null_coefs) > np.abs(coefficients))/len(null_coefs)\n",
    "    temp_results = pd.DataFrame({'measurement': [col],'n_measurement':[len(temp_data)], 'score': score, 'coefficients': coefficients, 'p_value': p_value})\n",
    "    results = pd.concat([results, temp_results], ignore_index=True)\n",
    "#correct the p_values by simple bonferroni correction\n",
    "results['p_value_corrected'] = results['p_value']*len(results)\n",
    "#sort the results by score\n",
    "results = results.sort_values(by='p_value_corrected', ascending=True)\n",
    "\n",
    "\n"
   ]
  },
  {
   "cell_type": "code",
   "execution_count": 5,
   "metadata": {},
   "outputs": [
    {
     "data": {
      "image/png": "[encoded data removed]",
      "text/plain": [
       "<Figure size 1000x500 with 2 Axes>"
      ]
     },
     "metadata": {},
     "output_type": "display_data"
    }
   ],
   "source": [
    "results.head(5)\n",
    "# plot smgrowth.hydroxyurea.15.mM and smgrowth.EDTA.1.mM against misc.flocculation on two separate subplots with alpha 0.4\n",
    "fig, ax = plt.subplots(1,2, figsize=(10,5))\n",
    "ax[0].scatter(data['smgrowth.hydroxyurea.15.mM'], data['misc.flocculation'], alpha=0.4)\n",
    "ax[0].set_xlabel('Hydroxyurea 15mM growth rate')\n",
    "ax[0].set_ylabel('Flocculation')\n",
    "ax[1].scatter(data['smgrowth.EDTA.1.mM'], data['misc.flocculation'], alpha=0.4)\n",
    "ax[1].set_xlabel('EDTA 1mM growth rate')\n",
    "ax[1].set_ylabel('Flocculation')\n",
    "plt.show()\n",
    "\n"
   ]
  },
  {
   "cell_type": "code",
   "execution_count": 6,
   "metadata": {},
   "outputs": [],
   "source": [
    "#calculate correlation between before_wash and every other column\n",
    "correlations = data.corrwith(data['before_wash'])"
   ]
  },
  {
   "cell_type": "code",
   "execution_count": 8,
   "metadata": {},
   "outputs": [
    {
     "data": {
      "text/plain": [
       "before_wash                    1.000000\n",
       "smgrowth.sucrose.2percent      0.592107\n",
       "smgrowth.EMM                   0.578496\n",
       "smgrowth.maltose.2percent      0.544487\n",
       "smgrowth.calcofluor.2.ug.ml    0.540057\n",
       "                                 ...   \n",
       "smgrowth.MgCl2.0.2.M          -0.465988\n",
       "smgrowth.CaCl2.150.mM         -0.491017\n",
       "smgrowth.SDS.0.005percent     -0.503693\n",
       "ratio                         -0.512058\n",
       "wb.SrCl225mg.ml.lag                 NaN\n",
       "Length: 228, dtype: float64"
      ]
     },
     "execution_count": 8,
     "metadata": {},
     "output_type": "execute_result"
    }
   ],
   "source": [
    "correlations = correlations.sort_values(ascending=False)\n",
    "correlations"
   ]
  },
  {
   "cell_type": "code",
   "execution_count": 16,
   "metadata": {},
   "outputs": [
    {
     "name": "stdout",
     "output_type": "stream",
     "text": [
      "3.150369442793088e-05\n",
      "6.0360708542117154e-05\n"
     ]
    },
    {
     "data": {
      "image/png": "[encoded data removed]",
      "text/plain": [
       "<Figure size 640x480 with 1 Axes>"
      ]
     },
     "metadata": {},
     "output_type": "display_data"
    }
   ],
   "source": [
    "#plot between before_Wash and smgrowth.EMM  \n",
    "plt.scatter(data['before_wash'], data['smgrowth.EMM'])\n",
    "#print a p_value\n",
    "import scipy.stats as st\n",
    "#eep only values than are not NaN in both arrays\n",
    "mask = ~np.isnan(data['before_wash']) & ~np.isnan(data['smgrowth.EMM'])\n",
    "x=data['before_wash'][mask]\n",
    "y=data['smgrowth.EMM'][mask]\n",
    "\n",
    "print(st.pearsonr(x,y)[1])\n",
    "print(st.spearmanr(x,y)[1])\n"
   ]
  },
  {
   "cell_type": "code",
   "execution_count": 18,
   "metadata": {},
   "outputs": [
    {
     "data": {
      "text/plain": [
       "SpearmanrResult(correlation=-0.22535414165666265, pvalue=0.11560160535136982)"
      ]
     },
     "execution_count": 18,
     "metadata": {},
     "output_type": "execute_result"
    },
    {
     "data": {
      "image/png": "[encoded data removed]",
      "text/plain": [
       "<Figure size 640x480 with 1 Axes>"
      ]
     },
     "metadata": {},
     "output_type": "display_data"
    }
   ],
   "source": [
    "#import Livs phenotype data /Users/bencekover/Library/CloudStorage/OneDrive-UniversityCollegeLondon/MSci Bahler lab/S.-Pombe-biofilm/internal data/Liv_data_mean.csv\n",
    "liv_data = pd.read_csv('/Users/bencekover/Library/CloudStorage/OneDrive-UniversityCollegeLondon/MSci Bahler lab/S.-Pombe-biofilm/internal data/Liv_data_mean.csv')\n",
    "#merge washing and liv_data on Sample = strain\n",
    "liv_data = liv_data.merge(washing, left_on='Sample', right_on='strain')\n",
    "#scatter plot of Lifespan and ratio using matplotlib\n",
    "plt.scatter(liv_data['ratio'],liv_data['Lifespan'])\n",
    "#label with strain\n",
    "for i, txt in enumerate(liv_data['Sample']):\n",
    "    plt.annotate(txt, (liv_data['ratio'][i], liv_data['Lifespan'][i]))\n",
    "#give me correlation coefficient and p value\n",
    "#remove nan entries\n",
    "liv_data = liv_data[liv_data['ratio'].notna()]\n",
    "liv_data = liv_data[liv_data['Lifespan'].notna()]\n",
    "#calculate correlation coefficient\n",
    "np.corrcoef(liv_data['ratio'],liv_data['Lifespan'])\n",
    "#calculate p value from spearman rank correlation\n",
    "from scipy.stats import spearmanr\n",
    "spearmanr(liv_data['ratio'],liv_data['Lifespan'])\n",
    "\n",
    "\n"
   ]
  },
  {
   "cell_type": "code",
   "execution_count": 23,
   "metadata": {},
   "outputs": [
    {
     "name": "stdout",
     "output_type": "stream",
     "text": [
      "-0.1486177330961023\n",
      "-0.5341307455127207\n",
      "-0.31772863985450434\n",
      "-0.1470404740154624\n",
      "-0.10938174280873647\n",
      "-0.3697646039691448\n",
      "-0.28208778933693723\n",
      "-0.6487752866982089\n",
      "-0.45710381154851626\n",
      "-0.34673960276920635\n",
      "-0.6310752048941376\n",
      "-0.5322221424093123\n",
      "-0.45483552621070883\n",
      "-0.5916669516507065\n",
      "-0.2555177275253551\n",
      "-0.5833944799309633\n",
      "-0.46439137645210754\n",
      "-0.32222140314998826\n",
      "-0.536834948587831\n",
      "-0.4297411527051569\n",
      "-0.47184913583892907\n",
      "-0.5017868404189799\n",
      "-0.37061406240533323\n",
      "-0.21393549410993917\n",
      "-0.5878030439874127\n",
      "-0.47953644615042984\n",
      "-0.35826879461825606\n",
      "-0.4123371737007394\n",
      "-0.23249150767126753\n",
      "-0.5670388793183931\n",
      "-0.49256889780563523\n",
      "-0.6154882038570217\n",
      "-0.40858421167342424\n",
      "-0.5718166128212072\n",
      "-0.3940549261705507\n",
      "-0.37411254148999273\n",
      "-0.36938918573689966\n",
      "-0.37866117329895316\n",
      "-0.16552063662748961\n",
      "-0.48762758140811285\n",
      "-0.4440945986911229\n",
      "-0.2630991844373046\n",
      "-0.5100007647624881\n",
      "-0.17009355517373675\n",
      "-0.25054829429145786\n",
      "-0.29728029553375507\n",
      "-0.2297660724235341\n",
      "-0.3085622249391685\n",
      "-0.40504436135485544\n",
      "-0.23155473375422544\n",
      "-0.3801923622565835\n",
      "-0.3610465562034839\n",
      "-0.25951241131881986\n",
      "-0.21941951287598171\n",
      "-0.24721143281147995\n",
      "-0.27985122466472573\n",
      "-0.20340727905261963\n",
      "-0.2883434611160184\n",
      "-0.3921483376020338\n",
      "-0.3768232011990524\n",
      "-0.25343735353886393\n",
      "-0.24128740991556405\n",
      "-0.43534481723764734\n",
      "-0.4760116226136506\n",
      "-0.40037267813706284\n",
      "-0.3919807806806907\n",
      "-0.37854417407528584\n",
      "-0.39522540556350966\n",
      "-0.2610244035249268\n",
      "-0.35278231572205\n",
      "-0.3415469150928728\n",
      "-0.39314472432379777\n",
      "-0.21829400294165605\n",
      "-0.31208238818606215\n",
      "-0.5320014178244307\n",
      "-0.42016679910992816\n",
      "-0.3563888795780953\n",
      "-0.4913327992794231\n",
      "0.9999999999999999\n",
      "-0.4004405454666905\n",
      "0.5579965694518235\n"
     ]
    }
   ],
   "source": [
    "#see if there is a sighnificant correlation between ratio and any of the other columns, except Sample and the last 5 columns. Return results in df\n",
    "def get_correlation(df):\n",
    "    #initialise df\n",
    "    results = pd.DataFrame(columns=['measurement','n_measurement','correlation','p_value'])\n",
    "    #loop through columns\n",
    "    temp_data_ = df[df['ratio'].notna()]\n",
    "    for col in df.columns:\n",
    "        #if the column is numeric\n",
    "        if df[col].dtype == 'float64':\n",
    "\n",
    "            if col != 'Sample' and  col != 'strain':\n",
    "                #remove nan entries\n",
    "                #keep subset where entries in column \"ratio\" are not nan\n",
    "                \n",
    "   \n",
    "                temp_data = temp_data_[col].dropna()\n",
    "                temp_ratio = temp_data_['ratio'][temp_data.index]\n",
    "                #calculate correlation coefficient\n",
    "                correlation = np.corrcoef(temp_data,temp_ratio)[0][1]\n",
    "                #calculate p value\n",
    "                from scipy.stats import pearsonr\n",
    "                p_value = pearsonr(temp_data,temp_ratio)[1]\n",
    "                #save results\n",
    "                residuals = temp_ratio - correlation*temp_data\n",
    "                temp_results = pd.DataFrame({'measurement': [col],'n_measurement':[len(temp_data)], 'correlation': correlation, 'p_value': p_value,\"residuals\": [residuals]})\n",
    "                results = pd.concat([results, temp_results], ignore_index=True)\n",
    "                #get a list of residuals and add them to the df\n",
    "                print(correlation)\n",
    "                \n",
    "    #correct the p_values by simple bonferroni correction\n",
    "    results['p_value_corrected'] = results['p_value']*len(results)\n",
    "    #sort the results by score\n",
    "    results = results.sort_values(by='p_value_corrected', ascending=True)\n",
    "    return results\n",
    "\n",
    "#see if there is a sighnificant correlation between ratio and any of the other columns, except Sample and the last 5 columns. Return results in df\n",
    "df = get_correlation(liv_data).head(50)\n"
   ]
  },
  {
   "cell_type": "code",
   "execution_count": null,
   "metadata": {},
   "outputs": [],
   "source": [
    "#measure pairwise correlations between all residuals lists. Return the measurement name of hgihly significant pairs\n",
    "def get_pairwise_correlation(df):\n",
    "    #initialise df\n",
    "    #reset index of df\n",
    "    df = df.reset_index(drop=True)\n",
    "    results = pd.DataFrame(columns=['measurement1','measurement2','correlation','p_value'])\n",
    "    #loop through columns\n",
    "    for i in range(len(df)):\n",
    "        for j in range(i+1,len(df)):\n",
    "            #if the column is numeric\n",
    "            if df['residuals'][i].dtype == 'float64':\n",
    "                #remove nan entries\n",
    "                temp_data1 = df['residuals'][i].dropna()\n",
    "                temp_data2 = df['residuals'][j].dropna()\n",
    "                #calculate correlation coefficient\n",
    "                correlation = np.corrcoef(temp_data1,temp_data2)[0][1]\n",
    "                #calculate p value\n",
    "                from scipy.stats import pearsonr\n",
    "                p_value = pearsonr(temp_data1,temp_data2)[1]\n",
    "                #save results\n",
    "                temp_results = pd.DataFrame({'measurement1': [df['measurement'][i]],'measurement2': [df['measurement'][j]],'correlation': correlation, 'p_value': p_value})\n",
    "                results = pd.concat([results, temp_results], ignore_index=True)\n",
    "    #correct the p_values by simple bonferroni correction\n",
    "    results['p_value_corrected'] = results['p_value']*len(results)\n",
    "    #sort the results by score\n",
    "    results = results.sort_values(by='p_value_corrected', ascending=True)\n",
    "    return results\n",
    "pw_corr = get_pairwise_correlation(df)"
   ]
  },
  {
   "cell_type": "code",
   "execution_count": 19,
   "metadata": {},
   "outputs": [],
   "source": [
    "# make liv_data_ from liv_data but reomve the last 7 columns\n",
    "liv_data_ = liv_data.iloc[:,:-2]\n",
    "#remove column called strain\n",
    "liv_data_ = liv_data_.drop(columns=['strain'])\n",
    "liv_data_\n",
    "#save it to csv\n",
    "liv_data_.to_csv('/Users/bencekover/Library/CloudStorage/OneDrive-UniversityCollegeLondon/MSci Bahler lab/S.-Pombe-biofilm/internal data/Liv_data_mean_updated.csv')"
   ]
  },
  {
   "cell_type": "code",
   "execution_count": null,
   "metadata": {},
   "outputs": [
    {
     "data": {
      "text/plain": [
       "<matplotlib.collections.PathCollection at 0x7fedcbdb4790>"
      ]
     },
     "execution_count": 93,
     "metadata": {},
     "output_type": "execute_result"
    },
    {
     "data": {
      "image/png": "[encoded data removed]",
      "text/plain": [
       "<Figure size 432x288 with 1 Axes>"
      ]
     },
     "metadata": {
      "needs_background": "light"
     },
     "output_type": "display_data"
    }
   ],
   "source": [
    "#plot ratio vs 10mM caffeine using matplotlib\n",
    "plt.scatter(liv_data['ratio'],liv_data['10mM_caffeine'])\n"
   ]
  },
  {
   "cell_type": "code",
   "execution_count": null,
   "metadata": {},
   "outputs": [
    {
     "data": {
      "image/png": "[encoded data removed]",
      "text/plain": [
       "<Figure size 432x288 with 1 Axes>"
      ]
     },
     "metadata": {
      "needs_background": "light"
     },
     "output_type": "display_data"
    }
   ],
   "source": [
    "#fit a logistic curv to the data\n",
    "from scipy.optimize import curve_fit\n",
    "def logistic(x, a, b):\n",
    "    return 1 / (1 + np.exp(-a*(x - b)))\n",
    "#remove nan entries\n",
    "liv_data = liv_data[liv_data['ratio'].notna()]\n",
    "liv_data = liv_data[liv_data['Lifespan'].notna()]\n",
    "#fit the curve\n",
    "popt_, pcov = curve_fit(logistic, liv_data['ratio'], liv_data['Lifespan'])\n",
    "#plot the data\n",
    "plt.scatter(liv_data['Lifespan'],liv_data['ratio'])\n",
    "#plot the curve\n",
    "x = np.linspace(0, 20, 200)\n",
    "y = logistic(x, *popt_)\n",
    "plt.plot(x, y, color='red')\n",
    "plt.show()"
   ]
  },
  {
   "cell_type": "code",
   "execution_count": null,
   "metadata": {},
   "outputs": [
    {
     "data": {
      "text/plain": [
       "(array([5.000e+00, 0.000e+00, 0.000e+00, 0.000e+00, 0.000e+00, 0.000e+00,\n",
       "        0.000e+00, 1.000e+00, 0.000e+00, 1.000e+00, 0.000e+00, 0.000e+00,\n",
       "        1.000e+00, 1.000e+00, 1.000e+00, 2.000e+00, 5.000e+00, 5.000e+00,\n",
       "        4.000e+00, 7.000e+00, 9.000e+00, 7.000e+00, 0.000e+00, 0.000e+00,\n",
       "        0.000e+00, 0.000e+00, 0.000e+00, 0.000e+00, 0.000e+00, 0.000e+00,\n",
       "        0.000e+00, 0.000e+00, 0.000e+00, 0.000e+00, 0.000e+00, 0.000e+00,\n",
       "        0.000e+00, 0.000e+00, 0.000e+00, 0.000e+00, 0.000e+00, 0.000e+00,\n",
       "        1.000e+00, 0.000e+00, 0.000e+00, 0.000e+00, 0.000e+00, 0.000e+00,\n",
       "        0.000e+00, 0.000e+00, 0.000e+00, 0.000e+00, 0.000e+00, 0.000e+00,\n",
       "        0.000e+00, 0.000e+00, 0.000e+00, 0.000e+00, 3.310e+02, 2.865e+03,\n",
       "        0.000e+00, 0.000e+00, 0.000e+00, 7.000e+00, 1.680e+02, 1.690e+02,\n",
       "        1.750e+02, 8.290e+02, 3.943e+03, 2.510e+02, 1.210e+02, 1.190e+02,\n",
       "        1.160e+02, 1.000e+02, 8.900e+01, 7.400e+01, 6.800e+01, 6.500e+01,\n",
       "        5.200e+01, 4.700e+01, 5.400e+01, 4.100e+01, 4.300e+01, 2.300e+01,\n",
       "        5.700e+01, 6.900e+01, 1.700e+01, 1.400e+01, 9.000e+00, 8.000e+00,\n",
       "        6.000e+00, 6.000e+00, 3.000e+00, 3.000e+00, 2.000e+00, 4.000e+00,\n",
       "        0.000e+00, 1.000e+00, 0.000e+00, 1.000e+00]),\n",
       " array([-76.11082289, -74.91763618, -73.72444947, -72.53126276,\n",
       "        -71.33807605, -70.14488934, -68.95170263, -67.75851592,\n",
       "        -66.56532921, -65.3721425 , -64.17895579, -62.98576908,\n",
       "        -61.79258237, -60.59939566, -59.40620895, -58.21302224,\n",
       "        -57.01983553, -55.82664882, -54.63346211, -53.4402754 ,\n",
       "        -52.24708869, -51.05390198, -49.86071527, -48.66752856,\n",
       "        -47.47434185, -46.28115514, -45.08796843, -43.89478172,\n",
       "        -42.70159501, -41.5084083 , -40.31522159, -39.12203488,\n",
       "        -37.92884817, -36.73566146, -35.54247475, -34.34928804,\n",
       "        -33.15610133, -31.96291462, -30.76972791, -29.5765412 ,\n",
       "        -28.38335449, -27.19016778, -25.99698107, -24.80379436,\n",
       "        -23.61060765, -22.41742094, -21.22423423, -20.03104752,\n",
       "        -18.83786081, -17.6446741 , -16.45148739, -15.25830068,\n",
       "        -14.06511397, -12.87192726, -11.67874055, -10.48555384,\n",
       "         -9.29236713,  -8.09918042,  -6.90599371,  -5.712807  ,\n",
       "         -4.51962029,  -3.32643358,  -2.13324687,  -0.94006016,\n",
       "          0.25312655,   1.44631326,   2.63949997,   3.83268668,\n",
       "          5.02587339,   6.2190601 ,   7.41224681,   8.60543352,\n",
       "          9.79862024,  10.99180695,  12.18499366,  13.37818037,\n",
       "         14.57136708,  15.76455379,  16.9577405 ,  18.15092721,\n",
       "         19.34411392,  20.53730063,  21.73048734,  22.92367405,\n",
       "         24.11686076,  25.31004747,  26.50323418,  27.69642089,\n",
       "         28.8896076 ,  30.08279431,  31.27598102,  32.46916773,\n",
       "         33.66235444,  34.85554115,  36.04872786,  37.24191457,\n",
       "         38.43510128,  39.62828799,  40.8214747 ,  42.01466141,\n",
       "         43.20784812]),\n",
       " <BarContainer object of 100 artists>)"
      ]
     },
     "execution_count": 56,
     "metadata": {},
     "output_type": "execute_result"
    },
    {
     "data": {
      "image/png": "[encoded data removed]",
      "text/plain": [
       "<Figure size 432x288 with 1 Axes>"
      ]
     },
     "metadata": {
      "needs_background": "light"
     },
     "output_type": "display_data"
    }
   ],
   "source": [
    "#histogram of null_coefs \n",
    "plt.hist(null_coefs, bins=100)"
   ]
  },
  {
   "cell_type": "code",
   "execution_count": null,
   "metadata": {},
   "outputs": [
    {
     "data": {
      "text/plain": [
       "0.858"
      ]
     },
     "execution_count": 54,
     "metadata": {},
     "output_type": "execute_result"
    }
   ],
   "source": [
    "np.sum(null_coefs > popt_[0])/len(null_coefs)"
   ]
  },
  {
   "cell_type": "code",
   "execution_count": null,
   "metadata": {},
   "outputs": [
    {
     "name": "stderr",
     "output_type": "stream",
     "text": [
      "/Users/bencekover/opt/anaconda3/lib/python3.9/site-packages/scipy/optimize/minpack.py:833: OptimizeWarning: Covariance of the parameters could not be estimated\n",
      "  warnings.warn('Covariance of the parameters could not be estimated',\n"
     ]
    },
    {
     "data": {
      "text/plain": [
       "0.2719"
      ]
     },
     "execution_count": 51,
     "metadata": {},
     "output_type": "execute_result"
    }
   ],
   "source": [
    "#scramble the data and see how the first coefficient changes\n",
    "null_coefs = []\n",
    "for i in range(10000):\n",
    "    scrambled_lifespan = np.random.permutation(liv_data['Lifespan'])\n",
    "    popt, pcov = curve_fit(logistic, liv_data['ratio'], scrambled_lifespan)\n",
    "    null_coefs.append(popt[0])\n",
    "#calculate p value\n",
    "np.sum(null_coefs < popt_[0])/len(null_coefs)\n",
    "\n"
   ]
  },
  {
   "cell_type": "code",
   "execution_count": null,
   "metadata": {},
   "outputs": [
    {
     "data": {
      "text/plain": [
       "(array([-5.353605  ,  4.72156582]),\n",
       " array([[8.41887845e+15, 5.82570192e+15],\n",
       "        [5.82570192e+15, 4.65539748e+15]]))"
      ]
     },
     "execution_count": 49,
     "metadata": {},
     "output_type": "execute_result"
    }
   ],
   "source": [
    "curve_fit(logistic, liv_data['ratio'], liv_data['Lifespan'])"
   ]
  },
  {
   "cell_type": "code",
   "execution_count": 24,
   "metadata": {},
   "outputs": [],
   "source": [
    "liv_data \n",
    "#check correlation between before_wash and other columns\n",
    "correlations = liv_data.corrwith(liv_data['before_wash'])"
   ]
  },
  {
   "cell_type": "code",
   "execution_count": 29,
   "metadata": {},
   "outputs": [
    {
     "data": {
      "text/plain": [
       "ratio                                         -0.400441\n",
       "2percent_Galactose_2percent_Glycerol          -0.342235\n",
       "sem                                           -0.302974\n",
       "2percent_Glycerol                             -0.226322\n",
       "2percent_Galactose                            -0.217405\n",
       "2percent_Glycerol_2.5g.l_NaAc_20mM_Arginine   -0.195720\n",
       "2percent_Glycerol_2.5g.l_NaAc                 -0.185034\n",
       "20mM_Lysine                                   -0.173210\n",
       "20mM_Serine_20mM_Arginine                     -0.171305\n",
       "20mM_Aspartate                                -0.170853\n",
       "20mM_Arginine                                 -0.142245\n",
       "JB22_7days_exhausted                          -0.137258\n",
       "20mM_Proline                                  -0.124177\n",
       "10ug.ml_calcofluor_200mM_MgCl2                -0.123734\n",
       "10mM_HU_0.0075percent_MMS                     -0.123010\n",
       "2percent_Glycerol_0.0075percent_MMS           -0.121181\n",
       "2percent_Fructose                             -0.097694\n",
       "2percent_EtOH                                 -0.080365\n",
       "20mM_Glycine                                  -0.070933\n",
       "20mM_Aspartate_20mM_Serine                    -0.062154\n",
       "Sc_2days_exhausted                            -0.056526\n",
       "20mM_Aspartate_20mM_Lysine                    -0.045402\n",
       "1.5mM_TBH                                     -0.043876\n",
       "JB762_7days_exhausted                         -0.032766\n",
       "20mM_Glycine_20mM_Isoleucine                  -0.021406\n",
       "5mM_LiCl_150mM_NaCl                           -0.012792\n",
       "JB1197_7days_exhausted                        -0.012150\n",
       "JB22_2days_exhausted                          -0.008495\n",
       "2ug.ml_calcofluor_5mM_LiCl                    -0.008095\n",
       "2percent_Maltose                              -0.006795\n",
       "10mM_HU_0.0025percent_MMS                      0.004911\n",
       "20mM_Serine                                    0.007428\n",
       "20mM_Proline_20mM_Lysine                       0.009238\n",
       "10mM_caffeine_100ng.ml_Rapamycin               0.017723\n",
       "3mM_H2O2                                       0.032048\n",
       "JB1197_2days_exhausted                         0.056788\n",
       "10mM_caffeine_5mM_LiCl                         0.061401\n",
       "JB889_7days_exhausted                          0.064292\n",
       "JB762_2days_exhausted                          0.072794\n",
       "2ug.ml_calcofluor_200mM_MgCl2                  0.085031\n",
       "10ug.ml_calcofluor_150_NaCl                    0.088755\n",
       "2percent_Maltose_100ng.ml_Rapamycin            0.094775\n",
       "2ug.ml_calcofluor_150mM_NaCl                   0.096309\n",
       "2ug.ml_calcofluor                              0.099253\n",
       "EMM                                            0.105233\n",
       "2mM_H2O2                                       0.115021\n",
       "5mM_LiCl_200mM_MgCl2                           0.121197\n",
       "2percent_Sucrose_100ng.ml_Rapamycin            0.124749\n",
       "EMM_M                                          0.126859\n",
       "2percent_Maltose_150mM_NaCl                    0.132351\n",
       "dtype: float64"
      ]
     },
     "execution_count": 29,
     "metadata": {},
     "output_type": "execute_result"
    }
   ],
   "source": [
    "correlations.sort_values(ascending=True).head(50)"
   ]
  },
  {
   "cell_type": "code",
   "execution_count": null,
   "metadata": {},
   "outputs": [],
   "source": []
  }
 ],
 "metadata": {
  "kernelspec": {
   "display_name": "Python 3.9.12 ('base')",
   "language": "python",
   "name": "python3"
  },
  "language_info": {
   "codemirror_mode": {
    "name": "ipython",
    "version": 3
   },
   "file_extension": ".py",
   "mimetype": "text/x-python",
   "name": "python",
   "nbconvert_exporter": "python",
   "pygments_lexer": "ipython3",
   "version": "3.9.0"
  },
  "orig_nbformat": 4,
  "vscode": {
   "interpreter": {
    "hash": "2d0398177d7bb10ea33b6a5cd9d022d63e20680fcfd84762562c72ff35bdf44b"
   }
  }
 },
 "nbformat": 4,
 "nbformat_minor": 2
}
