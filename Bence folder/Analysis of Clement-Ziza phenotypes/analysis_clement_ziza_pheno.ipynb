{
 "cells": [
  {
   "cell_type": "code",
   "execution_count": 1,
   "metadata": {},
   "outputs": [],
   "source": [
    "#importing standard data science libraries\n",
    "import pandas as pd\n",
    "import numpy as np\n",
    "import matplotlib.pyplot as plt\n",
    "import scipy.stats as st\n",
    "import seaborn as sns\n",
    "#suppress warnings\n",
    "import warnings\n",
    "warnings.filterwarnings('ignore')\n",
    "\n",
    "#import /Users/bencekover/Library/CloudStorage/OneDrive-UniversityCollegeLondon/MSci Bahler lab/S.-Pombe-biofilm/external data/Clement Ziza 2014/Clement-Ziza survival.tsv\n",
    "#import /Users/bencekover/Library/CloudStorage/OneDrive-UniversityCollegeLondon/MSci Bahler lab/S.-Pombe-biofilm/external data/Clement Ziza 2014/Clement_Ziza growth traits.tsv\n",
    "\n",
    "survival = pd.read_csv('/Users/bencekover/Library/CloudStorage/OneDrive-UniversityCollegeLondon/MSci Bahler lab/S.-Pombe-biofilm/external data/Clement Ziza 2014/Clement-Ziza survival.tsv', sep='\\t', header=23)\n",
    "growth_traits = pd.read_csv('/Users/bencekover/Library/CloudStorage/OneDrive-UniversityCollegeLondon/MSci Bahler lab/S.-Pombe-biofilm/external data/Clement Ziza 2014/Clement_Ziza growth traits.tsv', sep='\\t', header=19)\n",
    "#/Users/bencekover/Library/CloudStorage/OneDrive-UniversityCollegeLondon/MSci Bahler lab/S.-Pombe-biofilm/Ben folder/QTL mapping/washing_phenotypes.csv\n",
    "wash_data = pd.read_csv('/Users/bencekover/Library/CloudStorage/OneDrive-UniversityCollegeLondon/MSci Bahler lab/S.-Pombe-biofilm/Ben folder/QTL mapping/washing_phenotypes.csv', sep=',', header=0)\n",
    "#import /Users/bencekover/Library/CloudStorage/OneDrive-UniversityCollegeLondon/MSci Bahler lab/S.-Pombe-biofilm/Ben folder/QTL mapping/filtering_phenotypes.csv\n",
    "filt_data = pd.read_csv('/Users/bencekover/Library/CloudStorage/OneDrive-UniversityCollegeLondon/MSci Bahler lab/S.-Pombe-biofilm/Ben folder/QTL mapping/filtering_phenotypes.csv', sep=',', header=0)\n",
    "#drop first column in wash_data and filt_data\n",
    "wash_data = wash_data.drop(wash_data.columns[0], axis=1)\n",
    "filt_data = filt_data.drop(filt_data.columns[0], axis=1)\n"
   ]
  },
  {
   "cell_type": "code",
   "execution_count": 6,
   "metadata": {},
   "outputs": [
    {
     "data": {
      "text/html": [
       "<div>\n",
       "<style scoped>\n",
       "    .dataframe tbody tr th:only-of-type {\n",
       "        vertical-align: middle;\n",
       "    }\n",
       "\n",
       "    .dataframe tbody tr th {\n",
       "        vertical-align: top;\n",
       "    }\n",
       "\n",
       "    .dataframe thead th {\n",
       "        text-align: right;\n",
       "    }\n",
       "</style>\n",
       "<table border=\"1\" class=\"dataframe\">\n",
       "  <thead>\n",
       "    <tr style=\"text-align: right;\">\n",
       "      <th></th>\n",
       "      <th>trait</th>\n",
       "      <th>p-value</th>\n",
       "      <th>coef</th>\n",
       "    </tr>\n",
       "  </thead>\n",
       "  <tbody>\n",
       "    <tr>\n",
       "      <th>0</th>\n",
       "      <td>Viable</td>\n",
       "      <td>1.773829e-01</td>\n",
       "      <td>0.182849</td>\n",
       "    </tr>\n",
       "    <tr>\n",
       "      <th>1</th>\n",
       "      <td>efficiency</td>\n",
       "      <td>4.249638e-01</td>\n",
       "      <td>-0.108752</td>\n",
       "    </tr>\n",
       "    <tr>\n",
       "      <th>2</th>\n",
       "      <td>muMax</td>\n",
       "      <td>5.374996e-01</td>\n",
       "      <td>0.084148</td>\n",
       "    </tr>\n",
       "    <tr>\n",
       "      <th>3</th>\n",
       "      <td>lag_time</td>\n",
       "      <td>7.901776e-01</td>\n",
       "      <td>0.036365</td>\n",
       "    </tr>\n",
       "    <tr>\n",
       "      <th>4</th>\n",
       "      <td>area</td>\n",
       "      <td>8.889434e-01</td>\n",
       "      <td>-0.019089</td>\n",
       "    </tr>\n",
       "    <tr>\n",
       "      <th>5</th>\n",
       "      <td>ratio</td>\n",
       "      <td>4.808393e-18</td>\n",
       "      <td>0.867920</td>\n",
       "    </tr>\n",
       "    <tr>\n",
       "      <th>6</th>\n",
       "      <td>%flocc</td>\n",
       "      <td>0.000000e+00</td>\n",
       "      <td>1.000000</td>\n",
       "    </tr>\n",
       "  </tbody>\n",
       "</table>\n",
       "</div>"
      ],
      "text/plain": [
       "        trait       p-value      coef\n",
       "0      Viable  1.773829e-01  0.182849\n",
       "1  efficiency  4.249638e-01 -0.108752\n",
       "2       muMax  5.374996e-01  0.084148\n",
       "3    lag_time  7.901776e-01  0.036365\n",
       "4        area  8.889434e-01 -0.019089\n",
       "5       ratio  4.808393e-18  0.867920\n",
       "6      %flocc  0.000000e+00  1.000000"
      ]
     },
     "execution_count": 6,
     "metadata": {},
     "output_type": "execute_result"
    }
   ],
   "source": [
    "#survival retain columns strain, Dead Viable\n",
    "survival = survival[['strain', 'Viable']]\n",
    "#groupby strain, mean of all other columns\n",
    "growth_traits = growth_traits.groupby('strain').mean()\n",
    "#merge survival and growth traits\n",
    "traits= survival.merge(growth_traits, on='strain')\n",
    "#in the row where strain is 978, rename it to X968\n",
    "#merge traits with wash data and filt_data on strain which is Strain for filt_data. Remove column Strain after.\n",
    "traits = traits.replace('978', 'X968')\n",
    "traits = pd.merge(traits, wash_data, left_on='strain', right_on='strain')\n",
    "traits = pd.merge(traits, filt_data, left_on='strain', right_on='Strain')\n",
    "traits = traits.drop('Strain', axis=1)\n",
    "#look for correlation between Viable,efficiency, muMax, lag_time, area,ratio vs %flocc. Report p-value and use st.stats\n",
    "res_df = pd.DataFrame(columns=['trait', 'p-value'])\n",
    "for col in traits.columns[1:]:\n",
    "    res = st.pearsonr(traits['%flocc'], traits[col])\n",
    "    res_df = res_df.append({'trait':col, 'p-value':res[1],\"coef\":res[0]}, ignore_index=True)\n",
    "res_df\n",
    "\n"
   ]
  },
  {
   "cell_type": "code",
   "execution_count": 7,
   "metadata": {},
   "outputs": [
    {
     "data": {
      "text/html": [
       "<div>\n",
       "<style scoped>\n",
       "    .dataframe tbody tr th:only-of-type {\n",
       "        vertical-align: middle;\n",
       "    }\n",
       "\n",
       "    .dataframe tbody tr th {\n",
       "        vertical-align: top;\n",
       "    }\n",
       "\n",
       "    .dataframe thead th {\n",
       "        text-align: right;\n",
       "    }\n",
       "</style>\n",
       "<table border=\"1\" class=\"dataframe\">\n",
       "  <thead>\n",
       "    <tr style=\"text-align: right;\">\n",
       "      <th></th>\n",
       "      <th>trait</th>\n",
       "      <th>p-value</th>\n",
       "      <th>coef</th>\n",
       "    </tr>\n",
       "  </thead>\n",
       "  <tbody>\n",
       "    <tr>\n",
       "      <th>0</th>\n",
       "      <td>Viable</td>\n",
       "      <td>4.105483e-02</td>\n",
       "      <td>0.273936</td>\n",
       "    </tr>\n",
       "    <tr>\n",
       "      <th>1</th>\n",
       "      <td>efficiency</td>\n",
       "      <td>3.899990e-01</td>\n",
       "      <td>-0.117117</td>\n",
       "    </tr>\n",
       "    <tr>\n",
       "      <th>2</th>\n",
       "      <td>muMax</td>\n",
       "      <td>4.699017e-01</td>\n",
       "      <td>-0.098554</td>\n",
       "    </tr>\n",
       "    <tr>\n",
       "      <th>3</th>\n",
       "      <td>lag_time</td>\n",
       "      <td>9.095634e-01</td>\n",
       "      <td>-0.015528</td>\n",
       "    </tr>\n",
       "    <tr>\n",
       "      <th>4</th>\n",
       "      <td>area</td>\n",
       "      <td>8.356888e-01</td>\n",
       "      <td>-0.028350</td>\n",
       "    </tr>\n",
       "    <tr>\n",
       "      <th>5</th>\n",
       "      <td>ratio</td>\n",
       "      <td>0.000000e+00</td>\n",
       "      <td>1.000000</td>\n",
       "    </tr>\n",
       "    <tr>\n",
       "      <th>6</th>\n",
       "      <td>%flocc</td>\n",
       "      <td>4.808393e-18</td>\n",
       "      <td>0.867920</td>\n",
       "    </tr>\n",
       "  </tbody>\n",
       "</table>\n",
       "</div>"
      ],
      "text/plain": [
       "        trait       p-value      coef\n",
       "0      Viable  4.105483e-02  0.273936\n",
       "1  efficiency  3.899990e-01 -0.117117\n",
       "2       muMax  4.699017e-01 -0.098554\n",
       "3    lag_time  9.095634e-01 -0.015528\n",
       "4        area  8.356888e-01 -0.028350\n",
       "5       ratio  0.000000e+00  1.000000\n",
       "6      %flocc  4.808393e-18  0.867920"
      ]
     },
     "execution_count": 7,
     "metadata": {},
     "output_type": "execute_result"
    }
   ],
   "source": [
    "#same for ratio\n",
    "res_df = pd.DataFrame(columns=['trait', 'p-value'])\n",
    "for col in traits.columns[1:]:\n",
    "    res = st.pearsonr(traits['ratio'], traits[col])\n",
    "    res_df = res_df.append({'trait':col, 'p-value':res[1],\"coef\":res[0]}, ignore_index=True)\n",
    "res_df"
   ]
  },
  {
   "cell_type": "code",
   "execution_count": 5,
   "metadata": {},
   "outputs": [
    {
     "data": {
      "text/plain": [
       "<matplotlib.collections.PathCollection at 0x7fa430bd7f10>"
      ]
     },
     "execution_count": 5,
     "metadata": {},
     "output_type": "execute_result"
    },
    {
     "data": {
      "image/png": "[encoded data removed]",
      "text/plain": [
       "<Figure size 640x480 with 1 Axes>"
      ]
     },
     "metadata": {},
     "output_type": "display_data"
    }
   ],
   "source": [
    "#make a scatter plot of viable and ratio\n",
    "plt.scatter(traits['ratio'], traits['Viable'])"
   ]
  },
  {
   "cell_type": "code",
   "execution_count": null,
   "metadata": {},
   "outputs": [],
   "source": []
  },
  {
   "cell_type": "code",
   "execution_count": null,
   "metadata": {},
   "outputs": [],
   "source": []
  }
 ],
 "metadata": {
  "kernelspec": {
   "display_name": "Python 3.9.12 ('base')",
   "language": "python",
   "name": "python3"
  },
  "language_info": {
   "codemirror_mode": {
    "name": "ipython",
    "version": 3
   },
   "file_extension": ".py",
   "mimetype": "text/x-python",
   "name": "python",
   "nbconvert_exporter": "python",
   "pygments_lexer": "ipython3",
   "version": "3.9.0"
  },
  "orig_nbformat": 4,
  "vscode": {
   "interpreter": {
    "hash": "2d0398177d7bb10ea33b6a5cd9d022d63e20680fcfd84762562c72ff35bdf44b"
   }
  }
 },
 "nbformat": 4,
 "nbformat_minor": 2
}
