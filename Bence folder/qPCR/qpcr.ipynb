{
 "cells": [
  {
   "cell_type": "code",
   "execution_count": 295,
   "metadata": {},
   "outputs": [],
   "source": [
    "#find snps\n",
    "#import data science libraries\n",
    "import pandas as pd\n",
    "import numpy as np\n",
    "import matplotlib.pyplot as plt\n",
    "import allel\n",
    "import bokeh\n",
    "import iqplot\n",
    "import numpy as np\n",
    "import scipy.stats as st\n",
    "#import /Users/bencekover/Library/CloudStorage/OneDrive-UniversityCollegeLondon/MSci Bahler lab/S.-Pombe-biofilm/internal data/qPCR data/2023-04-21 144950 srb10_11_mbx2_EMM.xlsx\n",
    "emm_data = pd.read_excel('/Users/bencekover/Library/CloudStorage/OneDrive-UniversityCollegeLondon/MSci Bahler lab/S.-Pombe-biofilm/internal data/qPCR data/2023-04-21 144950 srb10_11_mbx2_EMM.xlsx', sheet_name='Results', header=38)\n",
    "#change Quantity and CT values to float\n",
    "#remove entries whre TASK is NTC\n",
    "emm_data = emm_data[emm_data['Task'] != 'NTC']\n",
    "emm_data['Quantity'] = emm_data['Quantity'].astype(float)\n",
    "emm_data['CT'] = emm_data['CT'].astype(float)\n",
    "emm_data['Ct Mean'] = emm_data['Ct Mean'].astype(float)\n",
    "#create log quantity column\n",
    "emm_data['log Quantity'] = np.log(emm_data['Quantity'])\n",
    "#create subset for thsoe that are task: STANDARD AND UNKNOWN including first 20 cols\n",
    "standards_mbx2 = emm_data[(emm_data['Task'] == 'STANDARD') & (emm_data['Target Name'] == 'MBX2')]\n",
    "standards_act1 = emm_data[(emm_data['Task'] == 'STANDARD') & (emm_data['Target Name'] == 'ACT1')]\n",
    "\n",
    "unknowns_mbx2 = emm_data[(emm_data['Task'] == 'UNKNOWN') & (emm_data['Target Name'] == 'MBX2')]\n",
    "unknowns_act1 = emm_data[(emm_data['Task'] == 'UNKNOWN') & (emm_data['Target Name'] == 'ACT1')]"
   ]
  },
  {
   "cell_type": "code",
   "execution_count": 296,
   "metadata": {},
   "outputs": [],
   "source": [
    "#show all cols\n",
    "pd.set_option('display.max_columns', None)"
   ]
  },
  {
   "cell_type": "code",
   "execution_count": 297,
   "metadata": {},
   "outputs": [],
   "source": [
    "#remove entries where dilution = 1 \n",
    "standards_mbx2 = standards_mbx2[standards_mbx2['Dilution'] != 1]\n",
    "standards_act1 = standards_act1[standards_act1['Dilution'] != 1]"
   ]
  },
  {
   "cell_type": "code",
   "execution_count": 298,
   "metadata": {},
   "outputs": [],
   "source": [
    "#perform regression between Quantity and CT\n",
    "slope_mbx2,intercept_mbx2, r_value, p_value, std_err = st.linregress(standards_mbx2['log Quantity'], standards_mbx2['CT'])\n",
    "slope_act1,intercept_act1, r_value, p_value, std_err = st.linregress(standards_act1['log Quantity'], standards_act1['CT'])\n"
   ]
  },
  {
   "cell_type": "code",
   "execution_count": 299,
   "metadata": {},
   "outputs": [
    {
     "data": {
      "text/html": [
       "<div>\n",
       "<style scoped>\n",
       "    .dataframe tbody tr th:only-of-type {\n",
       "        vertical-align: middle;\n",
       "    }\n",
       "\n",
       "    .dataframe tbody tr th {\n",
       "        vertical-align: top;\n",
       "    }\n",
       "\n",
       "    .dataframe thead th {\n",
       "        text-align: right;\n",
       "    }\n",
       "</style>\n",
       "<table border=\"1\" class=\"dataframe\">\n",
       "  <thead>\n",
       "    <tr style=\"text-align: right;\">\n",
       "      <th></th>\n",
       "      <th>Sample Name</th>\n",
       "      <th>Biological replicate</th>\n",
       "      <th>normalised quantity</th>\n",
       "    </tr>\n",
       "  </thead>\n",
       "  <tbody>\n",
       "    <tr>\n",
       "      <th>0</th>\n",
       "      <td>Srb10</td>\n",
       "      <td>1.0</td>\n",
       "      <td>0.999520</td>\n",
       "    </tr>\n",
       "    <tr>\n",
       "      <th>1</th>\n",
       "      <td>Srb10</td>\n",
       "      <td>2.0</td>\n",
       "      <td>1.093418</td>\n",
       "    </tr>\n",
       "    <tr>\n",
       "      <th>2</th>\n",
       "      <td>Srb10</td>\n",
       "      <td>3.0</td>\n",
       "      <td>0.778939</td>\n",
       "    </tr>\n",
       "    <tr>\n",
       "      <th>3</th>\n",
       "      <td>Srb11</td>\n",
       "      <td>1.0</td>\n",
       "      <td>1.190375</td>\n",
       "    </tr>\n",
       "    <tr>\n",
       "      <th>4</th>\n",
       "      <td>Srb11</td>\n",
       "      <td>2.0</td>\n",
       "      <td>0.779946</td>\n",
       "    </tr>\n",
       "    <tr>\n",
       "      <th>5</th>\n",
       "      <td>Srb11</td>\n",
       "      <td>3.0</td>\n",
       "      <td>0.857968</td>\n",
       "    </tr>\n",
       "    <tr>\n",
       "      <th>6</th>\n",
       "      <td>WT</td>\n",
       "      <td>1.0</td>\n",
       "      <td>0.256675</td>\n",
       "    </tr>\n",
       "    <tr>\n",
       "      <th>7</th>\n",
       "      <td>WT</td>\n",
       "      <td>2.0</td>\n",
       "      <td>0.293702</td>\n",
       "    </tr>\n",
       "    <tr>\n",
       "      <th>8</th>\n",
       "      <td>WT</td>\n",
       "      <td>3.0</td>\n",
       "      <td>0.251301</td>\n",
       "    </tr>\n",
       "  </tbody>\n",
       "</table>\n",
       "</div>"
      ],
      "text/plain": [
       "  Sample Name  Biological replicate  normalised quantity\n",
       "0       Srb10                   1.0             0.999520\n",
       "1       Srb10                   2.0             1.093418\n",
       "2       Srb10                   3.0             0.778939\n",
       "3       Srb11                   1.0             1.190375\n",
       "4       Srb11                   2.0             0.779946\n",
       "5       Srb11                   3.0             0.857968\n",
       "6          WT                   1.0             0.256675\n",
       "7          WT                   2.0             0.293702\n",
       "8          WT                   3.0             0.251301"
      ]
     },
     "execution_count": 299,
     "metadata": {},
     "output_type": "execute_result"
    }
   ],
   "source": [
    "#unknowns_mbx2 omit B4\n",
    "unknowns_mbx2 = unknowns_mbx2[unknowns_mbx2['Well Position'] != 'B4']\n",
    "unknowns_mbx2 = unknowns_mbx2.groupby(['Sample Name','Biological replicate']).mean()\n",
    "unknowns_act1 = unknowns_act1.groupby(['Sample Name','Biological replicate']).mean()\n",
    "unknowns_mbx2[\"real quantity\"] = np.exp((unknowns_mbx2['CT'] - intercept_mbx2)/slope_mbx2)\n",
    "unknowns_act1[\"real quantity\"] = np.exp((unknowns_act1['CT'] - intercept_act1)/slope_act1)\n",
    "#normalise to act1\n",
    "unknowns_mbx2[\"normalised quantity\"] = unknowns_mbx2[\"real quantity\"]/unknowns_act1[\"real quantity\"]\n",
    "#keep Sample Name, Biological replicate, normalised quantity\n",
    "#reset\n",
    "unknowns_mbx2 = unknowns_mbx2.reset_index()\n",
    "final_emm = unknowns_mbx2[['Sample Name','Biological replicate','normalised quantity']]\n",
    "final_emm"
   ]
  },
  {
   "cell_type": "code",
   "execution_count": 300,
   "metadata": {},
   "outputs": [],
   "source": [
    "#repeat for yes data\n",
    "yes_data = pd.read_excel('/Users/bencekover/Library/CloudStorage/OneDrive-UniversityCollegeLondon/MSci Bahler lab/S.-Pombe-biofilm/internal data/qPCR data/2023-04-21 144950 srb10_11_mbx2_YES.xlsx', sheet_name='Results', header=38)\n",
    "#change Quantity and CT values to float\n",
    "#remove entries whre TASK is NTC\n",
    "yes_data = yes_data[yes_data['Task'] != 'NTC']\n",
    "yes_data['Quantity'] = yes_data['Quantity'].astype(float)\n",
    "yes_data['CT'] = yes_data['CT'].astype(float)\n",
    "yes_data['Ct Mean'] = yes_data['Ct Mean'].astype(float)\n",
    "#create log quantity column\n",
    "yes_data['log Quantity'] = np.log(yes_data['Quantity'])\n",
    "#create subset for thsoe that are task: STANDARD AND UNKNOWN including first 20 cols\n",
    "standards_mbx2 = yes_data[(yes_data['Task'] == 'STANDARD') & (yes_data['Target Name'] == 'MBX2')]\n",
    "standards_act1 = yes_data[(yes_data['Task'] == 'STANDARD') & (yes_data['Target Name'] == 'ACT1')]\n",
    "unknowns_mbx2 = yes_data[(yes_data['Task'] == 'UNKNOWN') & (yes_data['Target Name'] == 'MBX2')]\n",
    "unknowns_act1 = yes_data[(yes_data['Task'] == 'UNKNOWN') & (yes_data['Target Name'] == 'ACT1')]\n"
   ]
  },
  {
   "cell_type": "code",
   "execution_count": 301,
   "metadata": {},
   "outputs": [],
   "source": [
    "#remove entries where dilution = 1 \n",
    "standards_mbx2 = standards_mbx2[standards_mbx2['Dilution'] != 1]\n",
    "standards_act1 = standards_act1[standards_act1['Dilution'] != 1]\n"
   ]
  },
  {
   "cell_type": "code",
   "execution_count": 302,
   "metadata": {},
   "outputs": [],
   "source": [
    "#unknowns_mbx2 omit B4\n",
    "\n",
    "#perform regression between Quantity and CT\n",
    "slope_mbx2,intercept_mbx2, r_value, p_value, std_err = st.linregress(standards_mbx2['log Quantity'], standards_mbx2['CT'])\n",
    "slope_act1,intercept_act1, r_value, p_value, std_err = st.linregress(standards_act1['log Quantity'], standards_act1['CT'])\n",
    "\n",
    "unknowns_mbx2 = unknowns_mbx2.groupby(['Sample Name','Biological replicate']).mean()\n",
    "unknowns_act1 = unknowns_act1.groupby(['Sample Name','Biological replicate']).mean()\n",
    "unknowns_mbx2[\"real quantity\"] = np.exp((unknowns_mbx2['CT'] - intercept_mbx2)/slope_mbx2)\n",
    "unknowns_act1[\"real quantity\"] = np.exp((unknowns_act1['CT'] - intercept_act1)/slope_act1)\n",
    "#normalise to act1\n",
    "unknowns_mbx2[\"normalised quantity\"] = unknowns_mbx2[\"real quantity\"]/unknowns_act1[\"real quantity\"]\n",
    "#reset\n",
    "unknowns_mbx2 = unknowns_mbx2.reset_index()\n",
    "final_yes = unknowns_mbx2[['Sample Name','Biological replicate','normalised quantity']]\n",
    "\n"
   ]
  },
  {
   "cell_type": "code",
   "execution_count": 303,
   "metadata": {},
   "outputs": [],
   "source": [
    "final = pd.concat([final_emm, final_yes])\n",
    "final[\"media\"] = [\"EMM\"]*len(final_emm) + [\"YES\"]*len(final_yes)\n",
    "#normalise by WT YES mean\n",
    "wt_mean = final[(final['Sample Name'] == 'WT') & (final['media'] == 'EMM')]['normalised quantity'].mean()\n",
    "final[\"normalised by WT YES\"] = final[\"normalised quantity\"]/wt_mean"
   ]
  },
  {
   "cell_type": "code",
   "execution_count": 304,
   "metadata": {},
   "outputs": [],
   "source": [
    "#change Srb10 to delta srb10, and Srb11 to delta\n",
    "final[\"Sample Name\"] = final[\"Sample Name\"].replace(['Srb10'], 'srb10Δ')\n",
    "final[\"Sample Name\"] = final[\"Sample Name\"].replace(['Srb11'], 'srb11Δ')"
   ]
  },
  {
   "cell_type": "code",
   "execution_count": 305,
   "metadata": {},
   "outputs": [
    {
     "data": {
      "image/png": "[encoded data removed]",
      "text/plain": [
       "<Figure size 640x480 with 1 Axes>"
      ]
     },
     "metadata": {},
     "output_type": "display_data"
    }
   ],
   "source": [
    "#create a sns striplot where x is sample name, y is normalised quantity, hue is media\n",
    "import seaborn as sns\n",
    "#no error bars\n",
    "sns.barplot(x=\"Sample Name\", y=\"normalised by WT YES\", hue=\"media\", data=final, ci=None)\n",
    "#big jitter\n",
    "sns.stripplot(x=\"Sample Name\", y=\"normalised by WT YES\", hue=\"media\", data=final, dodge=True, color=\".5\", size=15, alpha=.5, jitter=0.2)\n",
    "#only keep first 2 legends\n",
    "handles, labels = plt.gca().get_legend_handles_labels()\n",
    "by_label = dict(zip(labels, handles))\n",
    "plt.legend(by_label.values(), by_label.keys(), loc='upper right', ncol=2)\n",
    "plt.title(\"mbx2 expression in srb10 and srb11 mutants\")\n",
    "plt.xlabel(\"\")\n",
    "plt.ylabel(\"mbx2 expression (normalised to act1)\", fontsize=14)\n",
    "#x tick larger\n",
    "plt.xticks(fontsize=14)\n",
    "plt.show()\n",
    "#"
   ]
  },
  {
   "cell_type": "code",
   "execution_count": null,
   "metadata": {},
   "outputs": [],
   "source": []
  }
 ],
 "metadata": {
  "kernelspec": {
   "display_name": "base",
   "language": "python",
   "name": "python3"
  },
  "language_info": {
   "codemirror_mode": {
    "name": "ipython",
    "version": 3
   },
   "file_extension": ".py",
   "mimetype": "text/x-python",
   "name": "python",
   "nbconvert_exporter": "python",
   "pygments_lexer": "ipython3",
   "version": "3.9.0"
  },
  "orig_nbformat": 4,
  "vscode": {
   "interpreter": {
    "hash": "2d0398177d7bb10ea33b6a5cd9d022d63e20680fcfd84762562c72ff35bdf44b"
   }
  }
 },
 "nbformat": 4,
 "nbformat_minor": 2
}
