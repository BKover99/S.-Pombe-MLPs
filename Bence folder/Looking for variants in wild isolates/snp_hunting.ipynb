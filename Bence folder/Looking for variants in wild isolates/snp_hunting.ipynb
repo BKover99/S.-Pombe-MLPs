{
 "cells": [
  {
   "cell_type": "code",
   "execution_count": 71,
   "metadata": {},
   "outputs": [],
   "source": [
    "#find snps\n",
    "#import data science libraries\n",
    "import pandas as pd\n",
    "import numpy as np\n",
    "import matplotlib.pyplot as plt\n",
    "import allel\n",
    "import bokeh\n",
    "import iqplot\n",
    "import numpy as np\n",
    "import scipy.stats as st\n",
    "#suppress warnings\n",
    "import warnings\n",
    "warnings.filterwarnings('ignore')"
   ]
  },
  {
   "cell_type": "code",
   "execution_count": 72,
   "metadata": {},
   "outputs": [],
   "source": [
    "root = \"/Users/bencekover/Library/CloudStorage/OneDrive-Personal/MSci Bahler lab/S.-Pombe-MLPs/\"\n",
    "snps_file = '/Users/bencekover/Library/CloudStorage/OneDrive-UniversityCollegeLondon/MSci Bahler lab/Jeffares copy/Jeffares SNPs/ERZ289255/Spombe.2013-01-02.filt3c.nr57-final.snps.anno-snpeff3.cleaned4.vcf'\n",
    "indels_file = '/Users/bencekover/Library/CloudStorage/OneDrive-UniversityCollegeLondon/MSci Bahler lab/Jeffares copy/Jeffares SNPs/ERZ289254/Spombe.indels.unique.nr57.final.annotated.2014-01-23.cleaned4.vcf.gz'\n",
    "curation_file = root + \"Bence folder/Looking for variants in wild isolates/bence gene curation.txt\"\n",
    "deletion_screen_file = root + \"Bence folder/Angeli/bioneer_angeli_95thpercentile.txt\"\n",
    "\n",
    "\n",
    "\n"
   ]
  },
  {
   "cell_type": "code",
   "execution_count": 73,
   "metadata": {},
   "outputs": [],
   "source": [
    "#genome coordinates for genes\n",
    "df = pd.read_csv('/Users/bencekover/Library/CloudStorage/OneDrive-Personal/MSci Bahler lab/S.-Pombe-MLPs/external data/Pombase files/Schizosaccharomyces_pombe_all_chromosomes.gff3', sep='\\t', header=1)\n",
    "#break last column into 2 at ;\n",
    "df[['a','b']] = df[\"ID=SPAC1002.01;Name=mrx11\"].str.split(';',expand=True)\n",
    "#remove column ID=SPAC1002.01;Name=mrx11\n",
    "df.drop(columns =[\"ID=SPAC1002.01;Name=mrx11\"], inplace = True)\n",
    "#remove ID= from column a and rename it to ID\n",
    "df['ID'] = df['a'].str.replace('ID=', '')\n",
    "#remove column a\n",
    "df.drop(columns =['a','PomBase',\".\",\"..1\"], inplace = True)\n",
    "#rename b to Parent\n",
    "df.rename(columns={'b':'Parent','gene':'object','I':'chromosome','1798347':\"start\",'1798835':\"end\",\"+\":\"strand\"}, inplace=True)\n",
    "#In parent remove anything before =\n",
    "df['Parent'] = df['Parent'].str.replace('Parent=', '')\n",
    "#or Name=\n",
    "df['Parent'] = df['Parent'].str.replace('Name=', '')\n",
    "#create an aempty column called detail\n",
    "df['detail'] = \"\"\n",
    "#split ID column at :, and if there is something after put it in detail column\n",
    "df['detail'] = df['ID'].str.split(':', expand=True)[1]\n",
    "#split ID column at :, and if there is something before put it in ID column\n",
    "df['ID'] = df['ID'].str.split(':', expand=True)[0]#load in vcf file"
   ]
  },
  {
   "cell_type": "code",
   "execution_count": 74,
   "metadata": {},
   "outputs": [
    {
     "data": {
      "text/plain": [
       "(180, 8)"
      ]
     },
     "execution_count": 74,
     "metadata": {},
     "output_type": "execute_result"
    }
   ],
   "source": [
    "df = df.loc[df[\"object\"] == \"gene\"]\n",
    "#mediator srb10, srb11, med12 and med13\n",
    "curation = pd.read_csv(curation_file, sep='\\t', header=0)[\"Systematic ID\"]\n",
    "mediator = [\"SPAC23H4.17c\",\"SPBC12D12.06\",\"SPAC688.08\",\"SPAC589.02c\",\"SPBC15D4.02\"]\n",
    "deletion_screen_genes = pd.read_csv(deletion_screen_file, sep='\\t', header=0)[\"gene\"]\n",
    "\n",
    "df = df.loc[(df[\"ID\"].isin(mediator) | df[\"ID\"].isin(curation) | df[\"ID\"].isin(deletion_screen_genes))]\n",
    "df.reset_index(drop=True, inplace=True)\n",
    "df.shape"
   ]
  },
  {
   "cell_type": "code",
   "execution_count": 75,
   "metadata": {},
   "outputs": [],
   "source": [
    "#interesting_strains = samples\n",
    "interesting_strains = [\"JB914\",\"JB871\",\"JB1117\", \"JB872\", \"JB934\", \"JB759\", \"JB848\"]"
   ]
  },
  {
   "cell_type": "code",
   "execution_count": 76,
   "metadata": {},
   "outputs": [],
   "source": [
    "snps_data = allel.read_vcf(snps_file,fields=['samples','variants/CHROM','variants/POS','calldata/GT','variants/ALT','variants/REF'])\n",
    "samples = snps_data['samples']\n",
    "#finding the index of the interesting strains\n",
    "interesting_strains_index = []\n",
    "for i in range(len(samples)):\n",
    "      if samples[i] in interesting_strains:\n",
    "            interesting_strains_index.append(i)\n",
    "\n",
    "calls= snps_data['calldata/GT'][:,:,0]\n",
    "chromosomes = snps_data['variants/CHROM']\n",
    "positions = snps_data['variants/POS']\n",
    "alt = snps_data['variants/ALT']\n",
    "ref= snps_data['variants/REF']\n"
   ]
  },
  {
   "cell_type": "code",
   "execution_count": 77,
   "metadata": {},
   "outputs": [],
   "source": [
    "#iterate through positions\n",
    "#results is a df with columns: alleles\tn\tsum_x\ty_transpose_x\tbeta\tstandard_error\tt_stat\tp_value\ttype\tallele1\tallele2\tchromosome\tposition\n",
    "results = pd.DataFrame(columns=[\"strain\",\"ID\",\"chromosome\",\"position\",\"gene\",\"type\",\"allele1\",\"allele2\",\"p_value\"])\n",
    "#rough gene coordinates\n",
    "#take mean of start and end\n",
    "rough_gene_coordinates = (df[\"start\"]+df[\"end\"])/2\n"
   ]
  },
  {
   "cell_type": "code",
   "execution_count": 78,
   "metadata": {},
   "outputs": [],
   "source": [
    "\n",
    "for i in range(len(positions)):\n",
    "      #if positions[i] is not near to any of the rough_gene_coordinates  +-10000\n",
    "      \n",
    "      if np.isclose(positions[i],rough_gene_coordinates,atol=20000).any() == False:\n",
    "            \n",
    "            continue\n",
    "      for j in range(len(df)):\n",
    "            #for + strand\n",
    "            if positions[i]<(df[\"end\"][j]+200) and positions[i]>(df[\"start\"][j]-200) and chromosomes[i]==df[\"chromosome\"][j]:\n",
    "                  #iterate through interesting strains\n",
    "                  for k in range(len(interesting_strains_index)):\n",
    "                        #take the value of the genotype of the interesting strain at the position\n",
    "                        call_value = calls[i][interesting_strains_index[k]]\n",
    "                        #if this value is 0 or 1, and there is only max 2 strains with this value, then add the strain name to the detail column\n",
    "                        if call_value == 0 or call_value == 1 or call_value == 2:\n",
    "                              if sum(calls[i]==call_value) <= 5:\n",
    "                                    \n",
    "                                    results = results.append({\"strain\":interesting_strains[k],\"ID\":df[\"ID\"][j],\"chromosome\":chromosomes[i],\"position\":positions[i], \"gene\":df[\"Parent\"][j],\"type\":\"snp\",\"allele1\":ref[i],\"allele2\":alt[i][call_value-1],\"p_value\":0.05},ignore_index=True)\n",
    "                              \n"
   ]
  },
  {
   "cell_type": "code",
   "execution_count": 79,
   "metadata": {},
   "outputs": [],
   "source": [
    "indels_data = allel.read_vcf(indels_file,fields=['samples','variants/CHROM','variants/POS','calldata/GT','variants/ALT','variants/REF'])\n",
    "\n",
    "calls= indels_data['calldata/GT'][:,:,0]\n",
    "chromosomes = indels_data['variants/CHROM']\n",
    "positions = indels_data['variants/POS']\n",
    "alt = indels_data['variants/ALT']\n",
    "ref= indels_data['variants/REF']\n",
    "\n",
    "for i in range(len(positions)):\n",
    "   \n",
    "      if np.isclose(positions[i],rough_gene_coordinates,atol=2000).any() == False:\n",
    "            continue\n",
    "      for j in range(len(df)):\n",
    "            #for + strand\n",
    "            if positions[i]<(df[\"end\"][j]+200) and positions[i]>(df[\"start\"][j]-200) and chromosomes[i]==df[\"chromosome\"][j]:\n",
    "                  #iterate through interesting strains\n",
    "                  for k in range(len(interesting_strains_index)):\n",
    "                        #take the value of the genotype of the interesting strain at the position\n",
    "                        call_value = calls[i][interesting_strains_index[k]]\n",
    "                        #if this value is 0 or 1, and there is only max 3 strains with this value, then add the strain name to the detail column\n",
    "                        if call_value == 0 or call_value == 1 or call_value == 2 or call_value == 3:\n",
    "                              if sum(calls[i]==call_value) <= 3:\n",
    "                                    \n",
    "                                    results = results.append({\"strain\":interesting_strains[k],\"ID\":df[\"ID\"][j],\"chromosome\":chromosomes[i],\"position\":positions[i], \"gene\":df[\"Parent\"][j],\"type\":\"indel\",\"allele1\":ref[i],\"allele2\":alt[i][call_value-1],\"p_value\":0.05},ignore_index=True)\n",
    "                              \n"
   ]
  },
  {
   "cell_type": "code",
   "execution_count": 82,
   "metadata": {},
   "outputs": [],
   "source": [
    "#make csv file\n",
    "results.to_csv(root + \"Bence folder/Looking for variants in wild isolates/snp_hunting.csv\", index=False)"
   ]
  },
  {
   "cell_type": "code",
   "execution_count": null,
   "metadata": {},
   "outputs": [],
   "source": []
  }
 ],
 "metadata": {
  "kernelspec": {
   "display_name": "base",
   "language": "python",
   "name": "python3"
  },
  "language_info": {
   "codemirror_mode": {
    "name": "ipython",
    "version": 3
   },
   "file_extension": ".py",
   "mimetype": "text/x-python",
   "name": "python",
   "nbconvert_exporter": "python",
   "pygments_lexer": "ipython3",
   "version": "3.9.0"
  },
  "orig_nbformat": 4,
  "vscode": {
   "interpreter": {
    "hash": "2d0398177d7bb10ea33b6a5cd9d022d63e20680fcfd84762562c72ff35bdf44b"
   }
  }
 },
 "nbformat": 4,
 "nbformat_minor": 2
}
