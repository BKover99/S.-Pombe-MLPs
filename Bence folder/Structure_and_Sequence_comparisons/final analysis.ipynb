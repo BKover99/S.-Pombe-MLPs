{
 "cells": [
  {
   "cell_type": "code",
   "execution_count": 6,
   "metadata": {},
   "outputs": [],
   "source": [
    "from Bio.Blast import NCBIWWW\n",
    "from Bio.Blast import NCBIXML\n",
    "import requests\n",
    "import numpy as np\n",
    "import time\n",
    "import os\n",
    "import pandas as pd\n",
    "import time\n",
    "from requests import get\n",
    "root = \"/Users/bencekover/Library/CloudStorage/OneDrive-Personal/MSci Bahler lab/S.-Pombe-MLPs - Github/\"\n",
    "\n",
    "\n",
    "def get_amino_acid_sequence(uniprot_id):\n",
    "    base_url = \"https://www.uniprot.org/uniprot/\"\n",
    "    response_format = \".fasta\"\n",
    "\n",
    "    # Combine the URL to get the FASTA format data for the given UniProt ID\n",
    "    url = f\"{base_url}{uniprot_id}{response_format}\"\n",
    "\n",
    "    try:\n",
    "        response = requests.get(url)\n",
    "        response.raise_for_status()  # Raise an exception for bad status codes (e.g., 404, 500)\n",
    "\n",
    "        # Parse the response to extract the amino acid sequence\n",
    "        lines = response.text.strip().split(\"\\n\")\n",
    "        sequence = \"\".join(lines[1:])  # Skipping the first line (header)\n",
    "\n",
    "        return sequence\n",
    "    except requests.exceptions.RequestException as e:\n",
    "        print(f\"Error occurred while fetching the data: {e}\")\n",
    "        return None\n",
    "    \n"
   ]
  },
  {
   "cell_type": "code",
   "execution_count": 202,
   "metadata": {},
   "outputs": [],
   "source": [
    "\n",
    "\n",
    "def get_top_e_val(uniprot_id, max_retries=10):\n",
    "    \"\"\"\n",
    "    Performs a BLAST search against the NCBI nr database for the given UniProt ID.\n",
    "    Returns the top hit's e-value and score.\n",
    "\n",
    "    :param uniprot_id: The UniProt ID to search for.\n",
    "    :param max_retries: The maximum number of times to retry the BLAST search if it fails.\n",
    "    \"\"\"\n",
    "\n",
    "\n",
    "\n",
    "    query_sequence = get_amino_acid_sequence(uniprot_id)\n",
    "    hits = []\n",
    "\n",
    "    #values to return\n",
    "    cerevisiae_e_val = np.nan\n",
    "    cerevisiae_score = np.nan\n",
    "    cerevisiae_symbol = \"N/A\"\n",
    "    albicans_e_val = np.nan\n",
    "    albicans_score = np.nan\n",
    "    albicans_symbol = \"N/A\"\n",
    "\n",
    "    for retry in range(max_retries + 1):\n",
    "        try:\n",
    "            # Perform the BLAST search\n",
    "            print(\"BLAST starts\")\n",
    "\n",
    "\n",
    "\n",
    "            result_handle = NCBIWWW.qblast(\"blastp\", \"nr\", query_sequence, expect=1000, entrez_query=\"txid237561[ORGN] OR txid5476[ORGN] OR txid559292[ORGN] OR txid4932[ORGN]\",hitlist_size=1000)\n",
    "\n",
    "            blast_records = NCBIXML.parse(result_handle)\n",
    "\n",
    "            hits = []\n",
    "            for blast_record in blast_records:\n",
    "                for alignment in blast_record.alignments:\n",
    "                    for hsp in alignment.hsps:\n",
    "                        hit_info = {\n",
    "                                        \"accession\": alignment.accession,\n",
    "                                        \"description\": alignment.title,\n",
    "                                        \"evalue\": hsp.expect,\n",
    "                                        \"score\": hsp.score\n",
    "                                    }\n",
    "                        hits.append(hit_info)\n",
    "            #in hits find entries, where description contains the string \"Saccharomyces cerevisiae\"\n",
    "            cerevisiae_entries = [hit for hit in hits if \"Saccharomyces cerevisiae\" in hit[\"description\"]]\n",
    "            albicans_entries = [hit for hit in hits if \"Candida albicans\" in hit[\"description\"]]\n",
    "            #order these by hgihest score first lowest score last\n",
    "            cerevisiae_entries = sorted(cerevisiae_entries, key=lambda x: x[\"score\"], reverse=True)\n",
    "            albicans_entries = sorted(albicans_entries, key=lambda x: x[\"score\"], reverse=True)\n",
    "\n",
    "            if len(cerevisiae_entries) > 0:\n",
    "                cerevisiae_e_val = cerevisiae_entries[0][\"evalue\"]\n",
    "                cerevisiae_score = cerevisiae_entries[0][\"score\"]\n",
    "                cerevisiae_symbol = cerevisiae_entries[0][\"accession\"]\n",
    "            \n",
    "            \n",
    "            if len(albicans_entries) > 0:\n",
    "                albicans_e_val = albicans_entries[0][\"evalue\"]\n",
    "                albicans_score = albicans_entries[0][\"score\"]\n",
    "                albicans_symbol = albicans_entries[0][\"accession\"]\n",
    "\n",
    "            return cerevisiae_e_val, cerevisiae_score, cerevisiae_symbol, albicans_e_val, albicans_score, albicans_symbol\n",
    "\n",
    "        except Exception as e:\n",
    "            print(f\"Error during attempt {retry + 1}: {e}\")\n",
    "            if retry < max_retries:\n",
    "                print(\"Retrying...\")\n",
    "                time.sleep(60)  # Add a delay before retrying\n",
    "            else:\n",
    "                print(f\"Max retries reached, returning default values.\")\n",
    "                return cerevisiae_e_val, cerevisiae_score, cerevisiae_symbol, albicans_e_val, albicans_score, albicans_symbol\n"
   ]
  },
  {
   "cell_type": "code",
   "execution_count": 206,
   "metadata": {},
   "outputs": [],
   "source": [
    "#import pombase gene products file\n",
    "import pandas as pd\n",
    "import numpy as np\n",
    "root = \"/Users/bencekover/Library/CloudStorage/OneDrive-Personal/MSci Bahler lab/S.-Pombe-MLPs - Github/\"\n",
    "gene_info = pd.read_csv(root + \"external data/Pombase files/gene_IDs_names_products.tsv\", sep='\\t', header=0)\n",
    "gene_info = gene_info[[\"SPAC1002.01\", \"Q9US57\", \"mrx11\"]]\n",
    "gene_info = gene_info.rename(columns={\"SPAC1002.01\": \"ID\", \"Q9US57\": \"uniprot\", \"mrx11\":\"gene_name\"})\n",
    "\n",
    "orthology_db = pd.read_csv(root + \"Bence folder/Orthologs/final_orthology_database.csv\")\n",
    "#fetch the list of pombe_gene_IDs with orthopattern 7 and 1 into lists called conserved, unique\n",
    "unique_genes= orthology_db[orthology_db['orthopattern'] == 1][\"pombe_name(s)\"].values\n",
    "unique_genes = np.array([element[2:-2] for element in unique_genes])\n",
    "unique_genes_uniprot = np.array([])\n",
    "to_be_deleted = np.array([],dtype=int)\n",
    "for i in range(len(unique_genes)):\n",
    "    #find in gene_info the uniprot ID of the gene\n",
    "    try:\n",
    "        unique_genes_uniprot = np.append(unique_genes_uniprot, gene_info[gene_info[\"ID\"] == unique_genes[i]][\"uniprot\"].values[0])\n",
    "    except:\n",
    "        unique_genes_uniprot = unique_genes_uniprot\n",
    "        #remove that entry from unique_genes\n",
    "        to_be_deleted = np.append(to_be_deleted, i)\n",
    "unique_genes = np.delete(unique_genes, to_be_deleted)\n",
    "\n",
    "\n",
    "\n",
    "conserved_genes= orthology_db[orthology_db['orthopattern'] == 7][\"pombe_name(s)\"].values\n",
    "conserved_genes = np.array([element[2:-2] for element in conserved_genes])\n",
    "#take uniprot IDs but in the same order!\n",
    "conserved_genes_uniprot = np.array([])\n",
    "to_be_deleted = np.array([],dtype=int)\n",
    "for i in range(len(conserved_genes)):\n",
    "    try:\n",
    "        conserved_genes_uniprot = np.append(conserved_genes_uniprot, gene_info[gene_info[\"ID\"] == conserved_genes[i]][\"uniprot\"].values[0])\n",
    "    except:\n",
    "        conserved_genes_uniprot = conserved_genes_uniprot\n",
    "        to_be_deleted = np.append(to_be_deleted, i)\n",
    "conserved_genes = np.delete(conserved_genes, to_be_deleted)\n",
    "\n"
   ]
  },
  {
   "cell_type": "code",
   "execution_count": 6,
   "metadata": {},
   "outputs": [],
   "source": [
    "conserved_e_vals_cerevisiae = np.full(50, np.nan)\n",
    "conserved_scores_cerevisiae = np.full(50, np.nan)\n",
    "conserved_e_vals_albicans = np.full(50, np.nan)\n",
    "conserved_scores_albicans = np.full(50, np.nan)\n",
    "conserved_symbols_cerevisiae = np.full(50, \"N/A\")\n",
    "conserved_symbols_albicans = np.full(50, \"N/A\")"
   ]
  },
  {
   "cell_type": "code",
   "execution_count": 208,
   "metadata": {},
   "outputs": [
    {
     "name": "stdout",
     "output_type": "stream",
     "text": [
      "file loaded, entries: 0\n",
      "file loaded, entries: 0\n",
      "file loaded, entries: 0\n",
      "file loaded, entries: 0\n",
      "BLAST starts\n",
      "9.5634e-26 299.0 EEU05955 nan nan N/A SPBC336.07 Q9UST7\n",
      "currently at entry 0 of 1070\n",
      "BLAST starts\n",
      "6.96575e-49 408.0 CAD6595082 2.69148e-54 445.0 KGU29437 SPCC1450.04 O74173\n",
      "currently at entry 1 of 1070\n",
      "BLAST starts\n",
      "1.64219e-42 399.0 AJO98514 8.05207e-43 400.0 RLP63156 SPAC17H9.17c O13814\n",
      "currently at entry 2 of 1070\n",
      "BLAST starts\n",
      "0.0 2272.0 CAI4237107 0.0 2253.0 EEQ42403 SPAC56F8.03 Q10251\n",
      "currently at entry 3 of 1070\n",
      "BLAST starts\n",
      "2.50968e-21 209.0 AJO93589 3.72198e-23 222.0 KHC56833 SPCC4B3.11c Q9USK1\n",
      "currently at entry 4 of 1070\n",
      "BLAST starts\n",
      "2.74025e-68 573.0 CAI4238260 6.50536e-107 833.0 KGU27560 SPAC23H3.05c O42858\n",
      "currently at entry 5 of 1070\n",
      "BLAST starts\n",
      "1.64664e-136 1066.0 AJO97954 1.18354e-127 1007.0 KGU30207 SPBC660.13c Q92372\n",
      "currently at entry 6 of 1070\n",
      "BLAST starts\n",
      "2.67218e-10 165.0 CAI4239675 3.96087e-05 122.0 KHC65636 SPBC1706.01 O60132\n",
      "currently at entry 7 of 1070\n",
      "BLAST starts\n",
      "3.65652e-16 202.0 AJQ06503 2.24348e-21 240.0 KGT67795 SPAC1805.09c Q9UTG6\n",
      "currently at entry 8 of 1070\n",
      "BLAST starts\n",
      "2.21983e-149 1104.0 CAI5272331 2.04276e-160 1180.0 KAF6071657 SPAC31G5.09c P27638\n",
      "currently at entry 9 of 1070\n",
      "BLAST starts\n",
      "0.0 2582.0 CAI4247703 0.0 2464.0 RLP66876 SPBC4.04c P40377\n",
      "currently at entry 10 of 1070\n",
      "BLAST starts\n",
      "4.87664e-81 694.0 ONH80561 7.64005e-84 711.0 KHC62343 SPCC553.09c O74946\n",
      "currently at entry 11 of 1070\n",
      "BLAST starts\n",
      "4.28622e-73 584.0 CAD6597600 3.82973e-70 566.0 KAF6071963 SPAC959.02 Q9P4X4\n",
      "currently at entry 12 of 1070\n",
      "BLAST starts\n",
      "1.71756e-87 731.0 CAI5234439 1.10027e-84 699.0 KHC54243 SPAC17G8.13c Q10325\n",
      "currently at entry 13 of 1070\n",
      "BLAST starts\n",
      "4.16646e-69 570.0 CAD6597557 7.6101e-69 569.0 EEQ43273 SPBC17A3.08 Q9UUF1\n",
      "currently at entry 14 of 1070\n",
      "BLAST starts\n",
      "9.26434e-128 1081.0 CAI5046453 9.81905e-89 792.0 KHC59877 SPAC25G10.07c P24339\n",
      "currently at entry 15 of 1070\n",
      "BLAST starts\n",
      "9.09247e-71 626.0 CAI5230713 8.57731e-75 651.0 KGR13181 SPBC1703.12 Q9P7V9\n",
      "currently at entry 16 of 1070\n",
      "BLAST starts\n",
      "0.0 3515.0 CAI5230526 0.0 3515.0 RLP66088 SPBC8D2.06 O13651\n",
      "currently at entry 17 of 1070\n",
      "BLAST starts\n",
      "0.0 1712.0 7TBI_A1 2.30897e-139 1195.0 KHC75972 SPAC890.06 Q9URX8\n",
      "currently at entry 18 of 1070\n",
      "BLAST starts\n",
      "4.5994e-15 192.0 ONH80593 nan nan N/A SPCC1494.08c O60082\n",
      "currently at entry 19 of 1070\n",
      "BLAST starts\n",
      "9.83991e-11 142.0 CAI5230313 nan nan N/A SPBC839.09c Q8WZK1\n",
      "currently at entry 20 of 1070\n",
      "BLAST starts\n",
      "0.0 2145.0 CAI4936010 0.0 1936.0 KGU01906 SPBC660.07 O42893\n",
      "currently at entry 21 of 1070\n",
      "BLAST starts\n",
      "2.42227e-65 530.0 CAI4255682 1.96207e-76 607.0 KGU23171 SPAC4D7.04c O14171\n",
      "currently at entry 22 of 1070\n",
      "BLAST starts\n",
      "8.82701e-06 111.0 CAI4336371 4.41855 69.0 KGT71513 SPBC19C7.05 O60154\n",
      "currently at entry 23 of 1070\n",
      "BLAST starts\n",
      "4.94041e-178 1292.0 CAI4254885 0.0 1481.0 XP_713769 SPBPB2B2.10c Q9HDU5\n",
      "currently at entry 24 of 1070\n",
      "BLAST starts\n",
      "7.46799e-68 547.0 CAI4254380 3.56376e-62 510.0 XP_716459 SPBC119.06 O42899\n",
      "currently at entry 25 of 1070\n",
      "BLAST starts\n",
      "3.40715e-134 1019.0 CAI4254543 1.89663e-140 1060.0 KGU26964 SPBC13A2.03 Q9P381\n",
      "currently at entry 26 of 1070\n",
      "BLAST starts\n",
      "Error during attempt 1: What should we do with \n",
      "CREATE_VIEW\n",
      "\n",
      "\n",
      " before the 'Hit' tag?\n",
      "Retrying...\n",
      "BLAST starts\n",
      "2.57762e-12 183.0 CAI5149517 1.52534e-12 185.0 KGR16321 SPCC320.03 O59780\n",
      "currently at entry 27 of 1070\n",
      "BLAST starts\n",
      "Error during attempt 1: What should we do with \n",
      "CREATE_VIEW\n",
      "\n",
      "\n",
      " before the 'Hit' tag?\n",
      "Retrying...\n",
      "BLAST starts\n",
      "9.70242e-137 1013.0 1G6Q_1 5.10863e-129 963.0 XP_718114 SPAC890.07c Q9URX7\n",
      "currently at entry 28 of 1070\n",
      "BLAST starts\n",
      "7.60576e-17 204.0 CAI4292329 2.58953e-18 215.0 KGU33581 SPCC31H12.02c O74870\n",
      "currently at entry 29 of 1070\n",
      "BLAST starts\n",
      "4.17329e-54 487.0 CAI6393176 2.66085e-80 666.0 XP_715015 SPBC2D10.05 O74799\n",
      "currently at entry 30 of 1070\n",
      "BLAST starts\n",
      "3.04713e-26 276.0 AJP37147 3.79287e-30 301.0 KHC52962 SPCC550.02c O59800\n",
      "currently at entry 31 of 1070\n",
      "BLAST starts\n",
      "Error during attempt 1: What should we do with \n",
      "CREATE_VIEW\n",
      "\n",
      "\n",
      " before the 'Hit' tag?\n",
      "Retrying...\n",
      "BLAST starts\n",
      "Error during attempt 2: What should we do with \n",
      "CREATE_VIEW\n",
      "\n",
      "\n",
      " before the 'Hit' tag?\n",
      "Retrying...\n",
      "BLAST starts\n",
      "0.0 1999.0 NP_009636 0.0 1694.0 KHC84739 SPAC1834.11c Q9P7Q4\n",
      "currently at entry 32 of 1070\n",
      "BLAST starts\n",
      "Error during attempt 1: What should we do with \n",
      "CREATE_VIEW\n",
      "\n",
      "\n",
      " before the 'Hit' tag?\n",
      "Retrying...\n",
      "BLAST starts\n",
      "Error during attempt 2: <urlopen error [Errno 60] Operation timed out>\n",
      "Retrying...\n",
      "BLAST starts\n",
      "6.20989e-173 1248.0 CAI5215433 1.23157e-176 1271.0 KHC66225 SPBC530.10c Q09188\n",
      "currently at entry 33 of 1070\n",
      "BLAST starts\n",
      "2.24003e-26 298.0 CAD6599070 1.12723e-59 559.0 KHC68038 SPBC691.05c O13621\n",
      "currently at entry 34 of 1070\n",
      "BLAST starts\n",
      "9.33 70.0 AJV55456 1.64955e-05 115.0 KGU28309 SPBC428.06c O94355\n",
      "currently at entry 35 of 1070\n",
      "BLAST starts\n",
      "Error during attempt 1: What should we do with \n",
      "CREATE_VIEW\n",
      "\n",
      "\n",
      " before the 'Hit' tag?\n",
      "Retrying...\n",
      "BLAST starts\n",
      "Error during attempt 2: <urlopen error [Errno 8] nodename nor servname provided, or not known>\n",
      "Retrying...\n",
      "BLAST starts\n",
      "Error during attempt 3: <urlopen error [Errno 8] nodename nor servname provided, or not known>\n",
      "Retrying...\n",
      "BLAST starts\n",
      "Error during attempt 4: <urlopen error [Errno 8] nodename nor servname provided, or not known>\n",
      "Retrying...\n",
      "BLAST starts\n",
      "1.14404e-131 1160.0 CAI5237068 6.42246e-108 983.0 KHC64059 SPBC119.07 O42900\n",
      "currently at entry 36 of 1070\n",
      "BLAST starts\n",
      "2.63884e-92 714.0 CAD6646865 3.24231e-97 745.0 XP_713891 SPAC4G9.20c Q10248\n",
      "currently at entry 37 of 1070\n",
      "BLAST starts\n",
      "6.2438e-153 1245.0 ONH73777 1.19561e-151 1246.0 KGR08822 SPBC23E6.09 O60184\n",
      "currently at entry 38 of 1070\n",
      "BLAST starts\n",
      "604.273 50.0 CAI6704702 46.0426 58.0 KGR01261 SPBC947.14c O43089\n",
      "currently at entry 39 of 1070\n",
      "BLAST starts\n",
      "0.0 1743.0 AEP68509 0.0 1789.0 RLP67051 SPAC328.03 P40387\n",
      "currently at entry 40 of 1070\n",
      "BLAST starts\n",
      "4.53107e-49 394.0 AJP89374 3.63403e-48 384.0 XP_710663 SPBC1734.14c P08463\n",
      "currently at entry 41 of 1070\n",
      "BLAST starts\n",
      "Error during attempt 1: <urlopen error [Errno 8] nodename nor servname provided, or not known>\n",
      "Retrying...\n",
      "BLAST starts\n",
      "Error during attempt 2: <urlopen error [Errno 8] nodename nor servname provided, or not known>\n",
      "Retrying...\n",
      "BLAST starts\n",
      "Error during attempt 3: <urlopen error [Errno 8] nodename nor servname provided, or not known>\n",
      "Retrying...\n",
      "BLAST starts\n",
      "Error during attempt 4: <urlopen error [Errno 8] nodename nor servname provided, or not known>\n",
      "Retrying...\n",
      "BLAST starts\n",
      "218.604 66.0 AJQ00746 231.646 65.0 KGQ80436 SPBC336.15 Q1MTN3\n",
      "currently at entry 42 of 1070\n",
      "BLAST starts\n",
      "Error during attempt 1: What should we do with \n",
      "CREATE_VIEW\n",
      "\n",
      "\n",
      " before the 'Hit' tag?\n",
      "Retrying...\n",
      "BLAST starts\n",
      "Error during attempt 2: What should we do with \n",
      "CREATE_VIEW\n",
      "\n",
      "\n",
      " before the 'Hit' tag?\n",
      "Retrying...\n",
      "BLAST starts\n",
      "Error during attempt 3: <urlopen error [Errno 8] nodename nor servname provided, or not known>\n",
      "Retrying...\n",
      "BLAST starts\n",
      "Error during attempt 4: <urlopen error [Errno 8] nodename nor servname provided, or not known>\n",
      "Retrying...\n",
      "BLAST starts\n",
      "3.33503e-136 1002.0 AJP91249 8.14378e-142 1041.0 XP_713486 SPBC11B10.09 P04551\n",
      "currently at entry 43 of 1070\n",
      "BLAST starts\n",
      "22.9384 66.0 AJQ43883 659.305 54.0 1PMI_A SPBC409.21 Q9UUA4\n",
      "currently at entry 44 of 1070\n",
      "BLAST starts\n",
      "3.99649e-18 191.0 CAI4276399 4.70705e-18 191.0 XP_019330943 SPCC14G10.03c O74416\n",
      "currently at entry 45 of 1070\n",
      "BLAST starts\n",
      "Error during attempt 1: What should we do with \n",
      "CREATE_VIEW\n",
      "\n",
      "\n",
      " before the 'Hit' tag?\n",
      "Retrying...\n",
      "BLAST starts\n",
      "Error during attempt 2: <urlopen error [Errno 8] nodename nor servname provided, or not known>\n",
      "Retrying...\n",
      "BLAST starts\n",
      "Error during attempt 3: <urlopen error [Errno 8] nodename nor servname provided, or not known>\n",
      "Retrying...\n",
      "BLAST starts\n",
      "Error during attempt 4: What should we do with \n",
      "CREATE_VIEW\n",
      "\n",
      "\n",
      " before the 'Hit' tag?\n",
      "Retrying...\n",
      "BLAST starts\n",
      "8.31385e-32 328.0 AJP91675 3.00508e-46 419.0 EEQ46784 SPBC354.03 O43017\n",
      "currently at entry 46 of 1070\n",
      "BLAST starts\n",
      "2.95785e-105 885.0 CAI4273560 6.70089e-124 1014.0 KHC50957 SPBC1706.03 Q9USY7\n",
      "currently at entry 47 of 1070\n",
      "BLAST starts\n",
      "9.9237e-102 789.0 AJP83330 2.0058e-110 847.0 KAF6065303 SPAC688.09 Q9P6L7\n",
      "currently at entry 48 of 1070\n",
      "BLAST starts\n",
      "Error during attempt 1: What should we do with \n",
      "CREATE_VIEW\n",
      "\n",
      "\n",
      " before the 'Hit' tag?\n",
      "Retrying...\n",
      "BLAST starts\n",
      "2.49549e-69 600.0 CAI5238588 4.44834e-63 551.0 KGU29933 SPAC22H10.07 P40996\n",
      "currently at entry 49 of 1070\n"
     ]
    }
   ],
   "source": [
    "\n",
    "try:\n",
    "    conserved_e_vals_cerevisiae = np.loadtxt('conserved_e_vals_cerevisiae.txt')\n",
    "    #drop all values after the last non nan value\n",
    "    #n_entries = np.where(~np.isnan(conserved_e_vals_cerevisiae))[0][-1]\n",
    "    n_entries=0\n",
    "    conserved_e_vals_cerevisiae = conserved_e_vals_cerevisiae[:n_entries]\n",
    "    #fill the rest with nan\n",
    "    conserved_e_vals_cerevisiae = np.append(conserved_e_vals_cerevisiae, np.full(50-n_entries, np.nan))\n",
    "    print(\"file loaded, entries:\", n_entries)\n",
    "\n",
    "except:\n",
    "    conserved_e_vals_cerevisiae = np.full(50, np.nan)\n",
    "\n",
    "try:\n",
    "    conserved_scores_cerevisiae = np.loadtxt('conserved_scores_cerevisiae.txt')\n",
    "    conserved_scores_cerevisiae = conserved_scores_cerevisiae[:n_entries]\n",
    "    conserved_scores_cerevisiae = np.append(conserved_scores_cerevisiae, np.full(50-n_entries, np.nan))\n",
    "    print(\"file loaded, entries:\",n_entries)\n",
    "except:\n",
    "    conserved_scores_cerevisiae = np.full(50, np.nan)\n",
    "\n",
    "try:\n",
    "    conserved_e_vals_albicans = np.loadtxt('conserved_e_vals_albicans.txt')\n",
    "    conserved_e_vals_albicans = conserved_e_vals_albicans[:n_entries]\n",
    "    conserved_e_vals_albicans = np.append(conserved_e_vals_albicans, np.full(50-n_entries, np.nan))\n",
    "    print(\"file loaded, entries:\", n_entries)\n",
    "except:\n",
    "    conserved_e_vals_albicans = np.full(50, np.nan)\n",
    "\n",
    "try:\n",
    "    conserved_scores_albicans = np.loadtxt('conserved_scores_albicans.txt')\n",
    "    conserved_scores_albicans = conserved_scores_albicans[:n_entries]\n",
    "    conserved_scores_albicans = np.append(conserved_scores_albicans, np.full(50-n_entries, np.nan))\n",
    "    print(\"file loaded, entries:\", n_entries)\n",
    "\n",
    "except:\n",
    "    conserved_scores_albicans = np.full(50, np.nan)\n",
    "\n",
    "try:\n",
    "    conserved_symbols_cerevisiae = np.loadtxt('conserved_symbols_cerevisiae.txt', dtype=str)\n",
    "    conserved_symbols_cerevisiae = conserved_symbols_cerevisiae[:n_entries]\n",
    "    conserved_symbols_cerevisiae = np.append(conserved_symbols_cerevisiae, np.full(50-n_entries, \"N/A\"))\n",
    "    print(\"file loaded, entries:\", len(n_entries))\n",
    "\n",
    "except:\n",
    "    conserved_symbols_cerevisiae = np.full(50, \"N/A\")\n",
    "\n",
    "try:\n",
    "    conserved_symbols_albicans = np.loadtxt('conserved_symbols_albicans.txt', dtype=str)\n",
    "    conserved_symbols_albicans = conserved_symbols_albicans[:n_entries]\n",
    "    conserved_symbols_albicans = np.append(conserved_symbols_albicans, np.full(50-n_entries, \"N/A\"))\n",
    "    print(\"file loaded, entries:\", len(n_entries))\n",
    "\n",
    "except:\n",
    "    conserved_symbols_albicans = np.full(50, \"N/A\")\n",
    "\n",
    "\n",
    "\n",
    "for i in range(n_entries,50):\n",
    "\n",
    "    cerevisiae_e_val, cerevisiae_score, cerevisiae_symbol, albicans_e_val, albicans_score, albicans_symbol = get_top_e_val(conserved_genes_uniprot[i]) \n",
    "    print(cerevisiae_e_val, cerevisiae_score, cerevisiae_symbol, albicans_e_val, albicans_score, albicans_symbol,conserved_genes[i],conserved_genes_uniprot[i])\n",
    "    print(\"currently at entry\", i, \"of\", len(conserved_genes_uniprot))\n",
    "    conserved_e_vals_cerevisiae[i] = cerevisiae_e_val\n",
    "    conserved_scores_cerevisiae[i] = cerevisiae_score\n",
    "    conserved_symbols_cerevisiae[i] = cerevisiae_symbol\n",
    "    conserved_e_vals_albicans[i] = albicans_e_val\n",
    "    conserved_scores_albicans[i] = albicans_score\n",
    "    conserved_symbols_albicans[i] = albicans_symbol\n",
    "\n",
    "\n"
   ]
  },
  {
   "cell_type": "code",
   "execution_count": 209,
   "metadata": {},
   "outputs": [],
   "source": [
    "\n",
    "np.savetxt('conserved_e_vals_cerevisiae_final.txt', conserved_e_vals_cerevisiae)\n",
    "np.savetxt('conserved_e_vals_albicans_final.txt', conserved_e_vals_albicans)\n",
    "np.savetxt('conserved_symbols_cerevisiae_final.txt', conserved_symbols_cerevisiae, fmt=\"%s\")\n",
    "np.savetxt('conserved_scores_cerevisiae_final.txt', conserved_scores_cerevisiae)\n",
    "np.savetxt('conserved_scores_albicans_final.txt', conserved_scores_albicans)\n",
    "np.savetxt('conserved_symbols_albicans_final.txt', conserved_symbols_albicans, fmt=\"%s\")\n"
   ]
  },
  {
   "cell_type": "code",
   "execution_count": 213,
   "metadata": {},
   "outputs": [],
   "source": [
    "np.savetxt('unique_e_vals_cerevisiae_final.txt', unique_e_vals_cerevisiae)\n",
    "np.savetxt('unique_e_vals_albicans_final.txt', unique_e_vals_albicans)\n",
    "np.savetxt('unique_scores_cerevisiae_final.txt', unique_scores_cerevisiae)\n",
    "np.savetxt('unique_scores_albicans_final.txt', unique_scores_albicans)\n",
    "np.savetxt('unique_symbols_cerevisiae_final.txt', unique_symbols_cerevisiae, fmt=\"%s\")\n",
    "np.savetxt('unique_symbols_albicans_final.txt', unique_symbols_albicans, fmt=\"%s\")"
   ]
  },
  {
   "cell_type": "code",
   "execution_count": 212,
   "metadata": {},
   "outputs": [
    {
     "name": "stdout",
     "output_type": "stream",
     "text": [
      "file loaded, entries: 16\n",
      "file loaded, entries: 16\n",
      "file loaded, entries: 16\n",
      "file loaded, entries: 16\n",
      "file loaded, entries: 16\n",
      "file loaded, entries: 16\n",
      "BLAST starts\n",
      "7.45392 73.0 CAI4823182 nan nan N/A SPBC359.04c Q9P5N1\n",
      "currently at entry 16 of 25\n",
      "BLAST starts\n",
      "nan nan N/A 618.52 58.0 KAF6070001 SPBC646.06c O94510\n",
      "currently at entry 17 of 25\n",
      "BLAST starts\n",
      "nan nan N/A nan nan N/A SPBC947.04 Q874R4\n",
      "currently at entry 18 of 25\n",
      "BLAST starts\n",
      "0.00986924 109.0 CAI6684116 7.16111e-62 607.0 AAQ03243 SPBPJ4664.02 Q96WV6\n",
      "currently at entry 19 of 25\n",
      "BLAST starts\n",
      "nan nan N/A nan nan N/A SPCC1223.13 O74412\n",
      "currently at entry 20 of 25\n",
      "BLAST starts\n",
      "0.000244881 119.0 CAI4240790 2.27603e-05 127.0 AAN73329 SPCC1742.01 Q9P6S0\n",
      "currently at entry 21 of 25\n",
      "BLAST starts\n",
      "nan nan N/A 0.000183926 115.0 O74623 SPCC188.09c Q7Z9I1\n",
      "currently at entry 22 of 25\n",
      "BLAST starts\n",
      "115.489 66.0 CAD6645984 nan nan N/A SPCC736.08 O74954\n",
      "currently at entry 23 of 25\n",
      "BLAST starts\n",
      "7.41169e-30 336.0 CAI7443233 3.17752e-33 364.0 KGT71740 SPCC895.05 O94532\n",
      "currently at entry 24 of 25\n"
     ]
    }
   ],
   "source": [
    "\n",
    "try:\n",
    "    unique_e_vals_cerevisiae = np.loadtxt('unique_e_vals_cerevisiae_final.txt')\n",
    "    #drop all values after the last non nan value\n",
    "    n_entries = np.where(~np.isnan(unique_e_vals_cerevisiae))[0][-1]\n",
    "    \n",
    "    unique_e_vals_cerevisiae = unique_e_vals_cerevisiae[:n_entries]\n",
    "    #fill up with nans\n",
    "    unique_e_vals_cerevisiae = np.append(unique_e_vals_cerevisiae, np.full(len(unique_genes_uniprot)-n_entries, np.nan))\n",
    "    print(\"file loaded, entries:\", n_entries)\n",
    "\n",
    "except:\n",
    "    unique_e_vals_cerevisiae = np.array([])\n",
    "\n",
    "try:\n",
    "    unique_scores_cerevisiae = np.loadtxt('unique_scores_cerevisiae_final.txt')\n",
    "    unique_scores_cerevisiae = unique_scores_cerevisiae[:n_entries]\n",
    "    unique_scores_cerevisiae = np.append(unique_scores_cerevisiae, np.full(len(unique_genes_uniprot)-n_entries, np.nan))\n",
    "    print(\"file loaded, entries:\", n_entries)\n",
    "except:\n",
    "    unique_scores_cerevisiae = np.array([])\n",
    "\n",
    "try:\n",
    "    unique_e_vals_albicans = np.loadtxt('unique_e_vals_albicans_final.txt')\n",
    "    unique_e_vals_albicans = unique_e_vals_albicans[:n_entries]\n",
    "    unique_e_vals_albicans = np.append(unique_e_vals_albicans, np.full(len(unique_genes_uniprot)-n_entries, np.nan))\n",
    "    print(\"file loaded, entries:\", n_entries)\n",
    "except:\n",
    "    unique_e_vals_albicans = np.array([])\n",
    "\n",
    "try:\n",
    "    unique_scores_albicans = np.loadtxt('unique_scores_albicans_final.txt')\n",
    "    unique_scores_albicans = unique_scores_albicans[:n_entries]\n",
    "    unique_scores_albicans = np.append(unique_scores_albicans, np.full(len(unique_genes_uniprot)-n_entries, np.nan))\n",
    "    print(\"file loaded, entries:\", n_entries)\n",
    "except:\n",
    "    unique_scores_albicans = np.array([])\n",
    "\n",
    "\n",
    "\n",
    "try:\n",
    "    unique_symbols_cerevisiae = np.loadtxt('unique_symbols_cerevisiae_final.txt', dtype=str)\n",
    "    unique_symbols_cerevisiae = unique_symbols_cerevisiae[:n_entries]\n",
    "    unique_symbols_cerevisiae = np.append(unique_symbols_cerevisiae, np.full(len(unique_genes_uniprot)-n_entries, \"N/A\"))\n",
    "    print(\"file loaded, entries:\", n_entries)\n",
    "\n",
    "except:\n",
    "    unique_symbols_cerevisiae = np.full(len(unique_genes_uniprot), \"N/A\")\n",
    "\n",
    "try:\n",
    "    unique_symbols_albicans = np.loadtxt('unique_symbols_albicans_final.txt', dtype=str)\n",
    "    unique_symbols_albicans = unique_symbols_albicans[:n_entries]\n",
    "    unique_symbols_albicans = np.append(unique_symbols_albicans, np.full(len(unique_genes_uniprot)-n_entries, \"N/A\"))\n",
    "    print(\"file loaded, entries:\", n_entries)\n",
    "\n",
    "except:\n",
    "    unique_symbols_albicans = np.full(len(unique_genes_uniprot), \"N/A\")\n",
    "\n",
    "\n",
    "\n",
    "\n",
    "for i in range(n_entries,len(unique_genes_uniprot)):\n",
    "\n",
    "    cerevisiae_e_val, cerevisiae_score, cerevisiae_symbol, albicans_e_val, albicans_score, albicans_symbol = get_top_e_val(unique_genes_uniprot[i]) \n",
    "    print(cerevisiae_e_val, cerevisiae_score, cerevisiae_symbol, albicans_e_val, albicans_score, albicans_symbol,unique_genes[i],unique_genes_uniprot[i])\n",
    "    print(\"currently at entry\", i, \"of\", len(unique_genes_uniprot))\n",
    "    unique_e_vals_cerevisiae[i] = cerevisiae_e_val\n",
    "    unique_scores_cerevisiae[i] = cerevisiae_score\n",
    "    unique_symbols_cerevisiae[i] = cerevisiae_symbol\n",
    "    unique_e_vals_albicans[i] = albicans_e_val\n",
    "    unique_scores_albicans[i] = albicans_score\n",
    "    unique_symbols_albicans[i] = albicans_symbol\n",
    "\n",
    "\n",
    "np.savetxt('unique_e_vals_cerevisiae_final.txt', unique_e_vals_cerevisiae)\n",
    "np.savetxt('unique_e_vals_albicans_final.txt', unique_e_vals_albicans)\n",
    "np.savetxt('unique_scores_cerevisiae_final.txt', unique_scores_cerevisiae)\n",
    "np.savetxt('unique_scores_albicans_final.txt', unique_scores_albicans)\n",
    "    \n"
   ]
  },
  {
   "cell_type": "code",
   "execution_count": null,
   "metadata": {},
   "outputs": [],
   "source": [
    "np.savetxt('unique_e_vals_cerevisiae_final.txt', unique_e_vals_cerevisiae)\n",
    "np.savetxt('unique_e_vals_albicans_final.txt', unique_e_vals_albicans)\n",
    "np.savetxt('unique_scores_cerevisiae_final.txt', unique_scores_cerevisiae)\n",
    "np.savetxt('unique_scores_albicans_final.txt', unique_scores_albicans)"
   ]
  },
  {
   "cell_type": "code",
   "execution_count": null,
   "metadata": {},
   "outputs": [],
   "source": [
    "import time\n",
    "import subprocess\n",
    "#import get\n",
    "from requests import get\n",
    "\n",
    "def scores_evals_from_uniprot(uniprot_id):\n",
    "    \"\"\"\n",
    "    Returns the e-value and score of the best hit in S. cerevisiae and C. albicans for a given uniprot id\n",
    "    \n",
    "    Parameters\n",
    "    ----------\n",
    "    uniprot_id : str\n",
    "        Uniprot id of the protein of interest\n",
    "    \"\"\"\n",
    "\n",
    "\n",
    "    download_pdb_alphafold(uniprot_id)\n",
    "    file = f'/Users/bencekover/Library/CloudStorage/OneDrive-Personal/MSci\\ Bahler\\ lab/S.-Pombe-MLPs\\ -\\ Github/Bence\\ folder/Structure_and_Sequence_comparisons/{uniprot_id}.pdb'\n",
    "    \n",
    "    x=0\n",
    "    \n",
    "    while x < 5:\n",
    "        try:\n",
    "            job = !curl -X POST -F q=@{file} -F 'mode=3diaa' -F 'database[]=afdb-swissprot' https://search.foldseek.com/api/ticket\n",
    "            job = job[-1].split('\"')[3]\n",
    "            result = get('https://search.foldseek.com/api/result/' + job + '/0').json()\n",
    "            x = 5\n",
    "        except:\n",
    "            time.sleep(60)\n",
    "            x += 1\n",
    "            print(\"waiting\")\n",
    "           \n",
    "    try:\n",
    "        taxids = [result[\"results\"][0][\"alignments\"][i][\"taxId\"] for i in range(len(result[\"results\"][0][\"alignments\"]))]\n",
    "        scores = [result[\"results\"][0][\"alignments\"][i][\"score\"] for i in range(len(result[\"results\"][0][\"alignments\"]))]\n",
    "        evals = [result[\"results\"][0][\"alignments\"][i][\"eval\"] for i in range(len(result[\"results\"][0][\"alignments\"]))]\n",
    "\n",
    "        #for top_score_cerevisiae find in taxids the entry which equals 4932 or 559292 and get the highest score and evalue from those\n",
    "        cerevisiae_index = [i for i, x in enumerate(taxids) if x == 4932 or x == 559292]\n",
    "        albicans_index = [i for i, x in enumerate(taxids) if x == 5476 or x== 237561]\n",
    "    except:\n",
    "        return 0,100,0,100\n",
    "    try:\n",
    "        top_cerevisiae_score = max([scores[i] for i in cerevisiae_index])\n",
    "        top_cerevisiae_eval = min([evals[i] for i in cerevisiae_index])\n",
    "    except:\n",
    "        print(\"no cerevisiae\")\n",
    "        top_cerevisiae_score = 0\n",
    "        top_cerevisiae_eval = 100\n",
    "        \n",
    "\n",
    "        #do the same for albicans\n",
    "        \n",
    "    try:\n",
    "        top_albicans_score = max([scores[i] for i in albicans_index])\n",
    "        top_albicans_eval = min([evals[i] for i in albicans_index])\n",
    "    except:\n",
    "        print(\"no albicans\")\n",
    "        top_albicans_score = 0\n",
    "        top_albicans_eval = 100\n",
    "        \n",
    "    \n",
    "\n",
    "    return top_cerevisiae_score, top_cerevisiae_eval, top_albicans_score, top_albicans_eval\n",
    "\n",
    "\n"
   ]
  },
  {
   "cell_type": "code",
   "execution_count": 103,
   "metadata": {},
   "outputs": [],
   "source": [
    "np.savetxt('unique_e_vals_cerevisiae_foldseek.txt', unique_e_vals_cerevisiae_foldseek)\n",
    "np.savetxt('unique_scores_cerevisiae_foldseek.txt', unique_scores_cerevisiae_foldseek)\n",
    "np.savetxt('unique_e_vals_albicans_foldseek.txt', unique_e_vals_albicans_foldseek)\n",
    "np.savetxt('unique_scores_albicans_foldseek.txt', unique_scores_albicans_foldseek)"
   ]
  },
  {
   "cell_type": "code",
   "execution_count": 52,
   "metadata": {},
   "outputs": [
    {
     "name": "stdout",
     "output_type": "stream",
     "text": [
      "file loaded, entries: 18\n"
     ]
    }
   ],
   "source": [
    "unique_e_vals_cerevisiae_foldseek = np.loadtxt('unique_e_vals_cerevisiae_foldseek.txt')\n",
    "    #drop all values after the last non nan value\n",
    "n_entries = np.where(~np.isnan(unique_e_vals_cerevisiae_foldseek))[0][-1]\n",
    "unique_e_vals_cerevisiae_foldseek = unique_e_vals_cerevisiae_foldseek[:n_entries]\n",
    "    #fill up the rest until len(unique_genes_uniprot) with nan\n",
    "unique_e_vals_cerevisiae_foldseek = np.append(unique_e_vals_cerevisiae_foldseek, np.full(len(unique_genes_uniprot)-n_entries, np.nan))\n",
    "print(\"file loaded, entries:\", n_entries)"
   ]
  },
  {
   "cell_type": "code",
   "execution_count": 53,
   "metadata": {},
   "outputs": [
    {
     "name": "stdout",
     "output_type": "stream",
     "text": [
      "file loaded, entries: 18\n",
      "file loaded, entries: 18\n",
      "file loaded, entries: 18\n",
      "file loaded, entries: 18\n"
     ]
    },
    {
     "name": "stderr",
     "output_type": "stream",
     "text": [
      "  % Total    % Received % Xferd  Average Speed   Time    Time     Time  Current\n",
      "                                 Dload  Upload   Total   Spent    Left  Speed\n",
      "100  571k    0  571k    0     0  2139k      0 --:--:-- --:--:-- --:--:-- 2148k\n",
      "  % Total    % Received % Xferd  Average Speed   Time    Time     Time  Current\n",
      "                                 Dload  Upload   Total   Spent    Left  Speed\n",
      "100 11.4M    0 11.4M    0     0  7291k      0 --:--:--  0:00:01 --:--:-- 7289k\n"
     ]
    },
    {
     "name": "stdout",
     "output_type": "stream",
     "text": [
      "0 100 0 100 SPBC947.04 Q874R4\n",
      "currently at entry 18 of 25 entries top\n"
     ]
    },
    {
     "name": "stderr",
     "output_type": "stream",
     "text": [
      "  % Total    % Received % Xferd  Average Speed   Time    Time     Time  Current\n",
      "                                 Dload  Upload   Total   Spent    Left  Speed\n",
      "100   127  100   127    0     0   1831      0 --:--:-- --:--:-- --:--:--  1840\n",
      "  % Total    % Received % Xferd  Average Speed   Time    Time     Time  Current\n",
      "                                 Dload  Upload   Total   Spent    Left  Speed\n",
      "100   127  100   127    0     0   2156      0 --:--:-- --:--:-- --:--:--  2189\n"
     ]
    },
    {
     "name": "stdout",
     "output_type": "stream",
     "text": [
      "waiting\n",
      "waiting\n",
      "waiting\n",
      "waiting\n",
      "waiting\n",
      "0 100 0 100 SPBPJ4664.02 Q96WV6\n",
      "currently at entry 19 of 25 entries top\n"
     ]
    },
    {
     "name": "stderr",
     "output_type": "stream",
     "text": [
      "  % Total    % Received % Xferd  Average Speed   Time    Time     Time  Current\n",
      "                                 Dload  Upload   Total   Spent    Left  Speed\n",
      "100  613k    0  613k    0     0  2855k      0 --:--:-- --:--:-- --:--:-- 2865k\n",
      "  % Total    % Received % Xferd  Average Speed   Time    Time     Time  Current\n",
      "                                 Dload  Upload   Total   Spent    Left  Speed\n",
      "100 11.1M    0 11.1M    0     0  7224k      0 --:--:--  0:00:01 --:--:-- 7223k\n"
     ]
    },
    {
     "name": "stdout",
     "output_type": "stream",
     "text": [
      "waiting\n",
      "waiting\n",
      "0 100 0 100 SPCC1223.13 O74412\n",
      "currently at entry 20 of 25 entries top\n"
     ]
    },
    {
     "name": "stderr",
     "output_type": "stream",
     "text": [
      "  % Total    % Received % Xferd  Average Speed   Time    Time     Time  Current\n",
      "                                 Dload  Upload   Total   Spent    Left  Speed\n",
      "100  888k    0  888k    0     0  3791k      0 --:--:-- --:--:-- --:--:-- 3797k\n",
      "  % Total    % Received % Xferd  Average Speed   Time    Time     Time  Current\n",
      "                                 Dload  Upload   Total   Spent    Left  Speed\n",
      "100 31.5M    0 31.5M    0     0  8161k      0 --:--:--  0:00:03 --:--:-- 8161k\n"
     ]
    },
    {
     "name": "stdout",
     "output_type": "stream",
     "text": [
      "waiting\n",
      "waiting\n",
      "waiting\n",
      "0 100 0 100 SPCC1742.01 Q9P6S0\n",
      "currently at entry 21 of 25 entries top\n"
     ]
    },
    {
     "name": "stderr",
     "output_type": "stream",
     "text": [
      "  % Total    % Received % Xferd  Average Speed   Time    Time     Time  Current\n",
      "                                 Dload  Upload   Total   Spent    Left  Speed\n",
      "100  358k    0  358k    0     0  2235k      0 --:--:-- --:--:-- --:--:-- 2239k\n",
      "  % Total    % Received % Xferd  Average Speed   Time    Time     Time  Current\n",
      "                                 Dload  Upload   Total   Spent    Left  Speed\n",
      "100 4525k    0 4525k    0     0  6685k      0 --:--:-- --:--:-- --:--:-- 6694k\n"
     ]
    },
    {
     "name": "stdout",
     "output_type": "stream",
     "text": [
      "waiting\n",
      "waiting\n",
      "no cerevisiae\n",
      "0 100 22 9.048 SPCC188.09c Q7Z9I1\n",
      "currently at entry 22 of 25 entries top\n"
     ]
    },
    {
     "name": "stderr",
     "output_type": "stream",
     "text": [
      "  % Total    % Received % Xferd  Average Speed   Time    Time     Time  Current\n",
      "                                 Dload  Upload   Total   Spent    Left  Speed\n",
      "100  380k    0  380k    0     0  2043k      0 --:--:-- --:--:-- --:--:-- 2047k\n",
      "  % Total    % Received % Xferd  Average Speed   Time    Time     Time  Current\n",
      "                                 Dload  Upload   Total   Spent    Left  Speed\n",
      "100 4506k    0 4506k    0     0  6472k      0 --:--:-- --:--:-- --:--:-- 6475k\n"
     ]
    },
    {
     "name": "stdout",
     "output_type": "stream",
     "text": [
      "waiting\n",
      "waiting\n",
      "waiting\n",
      "no cerevisiae\n",
      "no albicans\n",
      "0 100 0 100 SPCC736.08 O74954\n",
      "currently at entry 23 of 25 entries top\n"
     ]
    },
    {
     "name": "stderr",
     "output_type": "stream",
     "text": [
      "  % Total    % Received % Xferd  Average Speed   Time    Time     Time  Current\n",
      "                                 Dload  Upload   Total   Spent    Left  Speed\n",
      "100  937k    0  937k    0     0  3946k      0 --:--:-- --:--:-- --:--:-- 3956k\n",
      "  % Total    % Received % Xferd  Average Speed   Time    Time     Time  Current\n",
      "                                 Dload  Upload   Total   Spent    Left  Speed\n",
      "100 27.2M    0 27.2M    0     0  8082k      0 --:--:--  0:00:03 --:--:-- 8082k\n"
     ]
    },
    {
     "name": "stdout",
     "output_type": "stream",
     "text": [
      "waiting\n",
      "waiting\n",
      "waiting\n",
      "0 100 0 100 SPCC895.05 O94532\n",
      "currently at entry 24 of 25 entries top\n"
     ]
    }
   ],
   "source": [
    "n_entries = 0 \n",
    "\n",
    "try:\n",
    "    unique_e_vals_cerevisiae_foldseek = np.loadtxt('unique_e_vals_cerevisiae_foldseek.txt')\n",
    "    #drop all values after the last non nan value\n",
    "    n_entries = np.where(~np.isnan(unique_e_vals_cerevisiae_foldseek))[0][-1]\n",
    "    unique_e_vals_cerevisiae_foldseek = unique_e_vals_cerevisiae_foldseek[:n_entries]\n",
    "    #fill up the rest until len(unique_genes_uniprot) with nan\n",
    "    unique_e_vals_cerevisiae_foldseek = np.append(unique_e_vals_cerevisiae_foldseek, np.full(len(unique_genes_uniprot)-n_entries, np.nan))\n",
    "    print(\"file loaded, entries:\", n_entries)\n",
    "\n",
    "except:\n",
    "    unique_e_vals_cerevisiae_foldseek = np.full(len(unique_genes_uniprot), np.nan)\n",
    "\n",
    "try:\n",
    "    unique_scores_cerevisiae_foldseek = np.loadtxt('unique_scores_cerevisiae_foldseek.txt')\n",
    "    unique_scores_cerevisiae_foldseek = unique_scores_cerevisiae_foldseek[:n_entries]\n",
    "    unique_scores_cerevisiae_foldseek = np.append(unique_scores_cerevisiae_foldseek, np.full(len(unique_genes_uniprot)-n_entries, np.nan))\n",
    "\n",
    "    print(\"file loaded, entries:\", n_entries)\n",
    "except:\n",
    "    unique_scores_cerevisiae_foldseek = np.full(len(unique_genes_uniprot), np.nan)\n",
    "\n",
    "try:\n",
    "    unique_e_vals_albicans_foldseek = np.loadtxt('unique_e_vals_albicans_foldseek.txt')\n",
    "    unique_e_vals_albicans_foldseek = unique_e_vals_albicans_foldseek[:n_entries]\n",
    "    unique_e_vals_albicans_foldseek = np.append(unique_e_vals_albicans_foldseek, np.full(len(unique_genes_uniprot)-n_entries, np.nan))\n",
    "    print(\"file loaded, entries:\", n_entries)\n",
    "except:\n",
    "    unique_e_vals_albicans_foldseek = np.full(len(unique_genes_uniprot), np.nan)\n",
    "\n",
    "try:\n",
    "    unique_scores_albicans_foldseek  = np.loadtxt('unique_scores_albicans_foldseek.txt')\n",
    "    unique_scores_albicans_foldseek  = unique_scores_albicans_foldseek [:n_entries]\n",
    "    unique_scores_albicans_foldseek  = np.append(unique_scores_albicans_foldseek , np.full(len(unique_genes_uniprot)-n_entries, np.nan))\n",
    "    print(\"file loaded, entries:\", n_entries)\n",
    "\n",
    "except:\n",
    "    unique_scores_albicans_foldseek = np.full(len(unique_genes_uniprot), np.nan)\n",
    "\n",
    "try:\n",
    "    for i in range(n_entries,len(unique_genes_uniprot)):\n",
    "        score_cerevisiae, eval_cerevisiae, score_albicans, eval_albicans = scores_evals_from_uniprot(unique_genes_uniprot[i])\n",
    "        print(score_cerevisiae, eval_cerevisiae, score_albicans, eval_albicans, unique_genes[i], unique_genes_uniprot[i])\n",
    "        print(\"currently at entry\", i, \"of\", len(unique_genes_uniprot), \"entries top\")\n",
    "        unique_e_vals_cerevisiae_foldseek[i] = eval_cerevisiae\n",
    "        unique_scores_cerevisiae_foldseek[i] = score_cerevisiae\n",
    "        unique_e_vals_albicans_foldseek[i] = eval_albicans\n",
    "        unique_scores_albicans_foldseek[i] = score_albicans\n",
    "\n",
    "except:\n",
    "    for i in range(len(unique_genes_uniprot)):\n",
    "        score_cerevisiae, eval_cerevisiae, score_albicans, eval_albicans = scores_evals_from_uniprot(unique_genes_uniprot[i])\n",
    "        print(score_cerevisiae, eval_cerevisiae, score_albicans, eval_albicans, unique_genes[i], unique_genes_uniprot[i])\n",
    "        print(\"currently at entry\", i, \"of\", len(unique_genes_uniprot), \"entries bot\")\n",
    "        unique_e_vals_cerevisiae_foldseek[i] = eval_cerevisiae\n",
    "        unique_scores_cerevisiae_foldseek[i] = score_cerevisiae\n",
    "        unique_e_vals_albicans_foldseek[i] = eval_albicans\n",
    "        unique_scores_albicans_foldseek[i] = score_albicans\n",
    "\n",
    "np.savetxt('unique_e_vals_cerevisiae_foldseek.txt', unique_e_vals_cerevisiae_foldseek)\n",
    "np.savetxt('unique_scores_cerevisiae_foldseek.txt', unique_scores_cerevisiae_foldseek)\n",
    "np.savetxt('unique_e_vals_albicans_foldseek.txt', unique_e_vals_albicans_foldseek)\n",
    "np.savetxt('unique_scores_albicans_foldseek.txt', unique_scores_albicans_foldseek)\n",
    "\n"
   ]
  },
  {
   "cell_type": "code",
   "execution_count": 36,
   "metadata": {},
   "outputs": [
    {
     "name": "stderr",
     "output_type": "stream",
     "text": [
      "  % Total    % Received % Xferd  Average Speed   Time    Time     Time  Current\n",
      "                                 Dload  Upload   Total   Spent    Left  Speed\n",
      "100  867k    0  867k    0     0  8030k      0 --:--:-- --:--:-- --:--:-- 8110k\n",
      "  % Total    % Received % Xferd  Average Speed   Time    Time     Time  Current\n",
      "                                 Dload  Upload   Total   Spent    Left  Speed\n",
      "100 22.6M    0 22.6M    0     0  26.0M      0 --:--:-- --:--:-- --:--:-- 26.1M\n"
     ]
    },
    {
     "name": "stdout",
     "output_type": "stream",
     "text": [
      "0 100 0 100 SPBC336.07 Q9UST7\n"
     ]
    },
    {
     "name": "stderr",
     "output_type": "stream",
     "text": [
      "  % Total    % Received % Xferd  Average Speed   Time    Time     Time  Current\n",
      "                                 Dload  Upload   Total   Spent    Left  Speed\n",
      "100  136k  100  136k    0     0  2152k      0 --:--:-- --:--:-- --:--:-- 2196k\n",
      "  % Total    % Received % Xferd  Average Speed   Time    Time     Time  Current\n",
      "                                 Dload  Upload   Total   Spent    Left  Speed\n",
      "100  522k    0  522k    0     0  6226k      0 --:--:-- --:--:-- --:--:-- 6289k\n"
     ]
    },
    {
     "name": "stdout",
     "output_type": "stream",
     "text": [
      "no albicans\n",
      "523 1.863e-21 0 100 SPCC1450.04 O74173\n"
     ]
    },
    {
     "name": "stderr",
     "output_type": "stream",
     "text": [
      "  % Total    % Received % Xferd  Average Speed   Time    Time     Time  Current\n",
      "                                 Dload  Upload   Total   Spent    Left  Speed\n",
      "100  241k  100  241k    0     0  3405k      0 --:--:-- --:--:-- --:--:-- 3448k\n",
      "  % Total    % Received % Xferd  Average Speed   Time    Time     Time  Current\n",
      "                                 Dload  Upload   Total   Spent    Left  Speed\n",
      "100 1567k    0 1567k    0     0  8726k      0 --:--:-- --:--:-- --:--:-- 8756k\n"
     ]
    },
    {
     "name": "stdout",
     "output_type": "stream",
     "text": [
      "1208 1.398e-32 1308 2.25e-34 SPAC17H9.17c O13814\n"
     ]
    },
    {
     "name": "stderr",
     "output_type": "stream",
     "text": [
      "  % Total    % Received % Xferd  Average Speed   Time    Time     Time  Current\n",
      "                                 Dload  Upload   Total   Spent    Left  Speed\n",
      "100  675k    0  675k    0     0  3401k      0 --:--:-- --:--:-- --:--:-- 3413k\n",
      "  % Total    % Received % Xferd  Average Speed   Time    Time     Time  Current\n",
      "                                 Dload  Upload   Total   Spent    Left  Speed\n",
      "100 14.1M    0 14.1M    0     0  21.0M      0 --:--:-- --:--:-- --:--:-- 21.0M\n"
     ]
    },
    {
     "name": "stdout",
     "output_type": "stream",
     "text": [
      "waiting\n",
      "no cerevisiae\n",
      "no albicans\n",
      "0 100 0 100 SPAC56F8.03 Q10251\n"
     ]
    },
    {
     "name": "stderr",
     "output_type": "stream",
     "text": [
      "  % Total    % Received % Xferd  Average Speed   Time    Time     Time  Current\n",
      "                                 Dload  Upload   Total   Spent    Left  Speed\n",
      "100 77111    0 77111    0     0   358k      0 --:--:-- --:--:-- --:--:--  360k\n",
      "  % Total    % Received % Xferd  Average Speed   Time    Time     Time  Current\n",
      "                                 Dload  Upload   Total   Spent    Left  Speed\n",
      "100  139k    0  139k    0     0   869k      0 --:--:-- --:--:-- --:--:--  873k\n"
     ]
    },
    {
     "name": "stdout",
     "output_type": "stream",
     "text": [
      "waiting\n",
      "waiting\n",
      "waiting\n",
      "waiting\n",
      "no albicans\n",
      "341 1.825e-11 0 100 SPCC4B3.11c Q9USK1\n"
     ]
    },
    {
     "name": "stderr",
     "output_type": "stream",
     "text": [
      "  % Total    % Received % Xferd  Average Speed   Time    Time     Time  Current\n",
      "                                 Dload  Upload   Total   Spent    Left  Speed\n",
      "100  258k    0  258k    0     0  1456k      0 --:--:-- --:--:-- --:--:-- 1454k\n",
      "  % Total    % Received % Xferd  Average Speed   Time    Time     Time  Current\n",
      "                                 Dload  Upload   Total   Spent    Left  Speed\n",
      "100 1821k    0 1821k    0     0  6322k      0 --:--:-- --:--:-- --:--:-- 6347k\n"
     ]
    },
    {
     "name": "stdout",
     "output_type": "stream",
     "text": [
      "waiting\n",
      "waiting\n",
      "1407 1.831e-37 656 1.965e-20 SPAC23H3.05c O42858\n"
     ]
    },
    {
     "name": "stderr",
     "output_type": "stream",
     "text": [
      "  % Total    % Received % Xferd  Average Speed   Time    Time     Time  Current\n",
      "                                 Dload  Upload   Total   Spent    Left  Speed\n",
      "100  386k    0  386k    0     0  1912k      0 --:--:-- --:--:-- --:--:-- 1913k\n",
      "  % Total    % Received % Xferd  Average Speed   Time    Time     Time  Current\n",
      "                                 Dload  Upload   Total   Spent    Left  Speed\n",
      "100 4503k    0 4503k    0     0  12.0M      0 --:--:-- --:--:-- --:--:-- 12.0M\n"
     ]
    },
    {
     "name": "stdout",
     "output_type": "stream",
     "text": [
      "waiting\n",
      "waiting\n",
      "waiting\n",
      "no albicans\n",
      "1789 2.035e-65 0 100 SPBC660.13c Q92372\n"
     ]
    },
    {
     "name": "stderr",
     "output_type": "stream",
     "text": [
      "  % Total    % Received % Xferd  Average Speed   Time    Time     Time  Current\n",
      "                                 Dload  Upload   Total   Spent    Left  Speed\n",
      "100  512k    0  512k    0     0  3132k      0 --:--:-- --:--:-- --:--:-- 3146k\n",
      "  % Total    % Received % Xferd  Average Speed   Time    Time     Time  Current\n",
      "                                 Dload  Upload   Total   Spent    Left  Speed\n",
      "100 8364k    0 8364k    0     0  14.4M      0 --:--:-- --:--:-- --:--:-- 14.4M\n"
     ]
    },
    {
     "name": "stdout",
     "output_type": "stream",
     "text": [
      "waiting\n",
      "waiting\n",
      "waiting\n",
      "no cerevisiae\n",
      "no albicans\n",
      "0 100 0 100 SPBC1706.01 O60132\n"
     ]
    },
    {
     "name": "stderr",
     "output_type": "stream",
     "text": [
      "  % Total    % Received % Xferd  Average Speed   Time    Time     Time  Current\n",
      "                                 Dload  Upload   Total   Spent    Left  Speed\n",
      "100  218k    0  218k    0     0  1020k      0 --:--:-- --:--:-- --:--:-- 1024k\n",
      "  % Total    % Received % Xferd  Average Speed   Time    Time     Time  Current\n",
      "                                 Dload  Upload   Total   Spent    Left  Speed\n",
      "100 1297k    0 1297k    0     0  6279k      0 --:--:-- --:--:-- --:--:-- 6270k\n"
     ]
    },
    {
     "name": "stdout",
     "output_type": "stream",
     "text": [
      "waiting\n",
      "waiting\n",
      "no albicans\n",
      "635 9.113e-22 0 100 SPAC1805.09c Q9UTG6\n"
     ]
    },
    {
     "name": "stderr",
     "output_type": "stream",
     "text": [
      "  % Total    % Received % Xferd  Average Speed   Time    Time     Time  Current\n",
      "                                 Dload  Upload   Total   Spent    Left  Speed\n",
      "100  240k    0  240k    0     0   947k      0 --:--:-- --:--:-- --:--:--  949k\n",
      "  % Total    % Received % Xferd  Average Speed   Time    Time     Time  Current\n",
      "                                 Dload  Upload   Total   Spent    Left  Speed\n",
      "100 1577k    0 1577k    0     0  6967k      0 --:--:-- --:--:-- --:--:-- 6951k\n"
     ]
    },
    {
     "name": "stdout",
     "output_type": "stream",
     "text": [
      "waiting\n",
      "waiting\n",
      "waiting\n",
      "1853 3.646e-44 1954 7.921e-46 SPAC31G5.09c P27638\n"
     ]
    },
    {
     "name": "stderr",
     "output_type": "stream",
     "text": [
      "  % Total    % Received % Xferd  Average Speed   Time    Time     Time  Current\n",
      "                                 Dload  Upload   Total   Spent    Left  Speed\n",
      "100  526k    0  526k    0     0  2692k      0 --:--:-- --:--:-- --:--:-- 2697k\n",
      "  % Total    % Received % Xferd  Average Speed   Time    Time     Time  Current\n",
      "                                 Dload  Upload   Total   Spent    Left  Speed\n",
      "100 8330k    0 8330k    0     0  14.8M      0 --:--:-- --:--:-- --:--:-- 14.8M\n"
     ]
    },
    {
     "name": "stdout",
     "output_type": "stream",
     "text": [
      "waiting\n",
      "waiting\n",
      "no albicans\n",
      "3933 0 0 100 SPBC4.04c P40377\n"
     ]
    },
    {
     "name": "stderr",
     "output_type": "stream",
     "text": [
      "  % Total    % Received % Xferd  Average Speed   Time    Time     Time  Current\n",
      "                                 Dload  Upload   Total   Spent    Left  Speed\n",
      "100  364k    0  364k    0     0  2401k      0 --:--:-- --:--:-- --:--:-- 2399k\n",
      "  % Total    % Received % Xferd  Average Speed   Time    Time     Time  Current\n",
      "                                 Dload  Upload   Total   Spent    Left  Speed\n",
      "100 3874k    0 3874k    0     0  13.7M      0 --:--:-- --:--:-- --:--:-- 13.7M\n"
     ]
    },
    {
     "name": "stdout",
     "output_type": "stream",
     "text": [
      "waiting\n",
      "waiting\n",
      "waiting\n",
      "no albicans\n",
      "1738 5.362e-55 0 100 SPCC553.09c O74946\n"
     ]
    },
    {
     "name": "stderr",
     "output_type": "stream",
     "text": [
      "  % Total    % Received % Xferd  Average Speed   Time    Time     Time  Current\n",
      "                                 Dload  Upload   Total   Spent    Left  Speed\n",
      "100  185k    0  185k    0     0  1380k      0 --:--:-- --:--:-- --:--:-- 1382k\n",
      "  % Total    % Received % Xferd  Average Speed   Time    Time     Time  Current\n",
      "                                 Dload  Upload   Total   Spent    Left  Speed\n",
      "100  930k    0  930k    0     0  4665k      0 --:--:-- --:--:-- --:--:-- 4652k\n"
     ]
    },
    {
     "name": "stdout",
     "output_type": "stream",
     "text": [
      "waiting\n",
      "1012 8.725e-19 100 0.03981 SPAC959.02 Q9P4X4\n"
     ]
    },
    {
     "name": "stderr",
     "output_type": "stream",
     "text": [
      "  % Total    % Received % Xferd  Average Speed   Time    Time     Time  Current\n",
      "                                 Dload  Upload   Total   Spent    Left  Speed\n",
      "100  270k    0  270k    0     0  1483k      0 --:--:-- --:--:-- --:--:-- 1491k\n",
      "  % Total    % Received % Xferd  Average Speed   Time    Time     Time  Current\n",
      "                                 Dload  Upload   Total   Spent    Left  Speed\n",
      "100 1946k    0 1946k    0     0  10.5M      0 --:--:-- --:--:-- --:--:-- 10.5M\n"
     ]
    },
    {
     "name": "stdout",
     "output_type": "stream",
     "text": [
      "waiting\n",
      "1201 7.443e-35 958 3.678e-33 SPAC17G8.13c Q10325\n"
     ]
    },
    {
     "name": "stderr",
     "output_type": "stream",
     "text": [
      "  % Total    % Received % Xferd  Average Speed   Time    Time     Time  Current\n",
      "                                 Dload  Upload   Total   Spent    Left  Speed\n",
      "100  202k    0  202k    0     0  1221k      0 --:--:-- --:--:-- --:--:-- 1220k\n",
      "  % Total    % Received % Xferd  Average Speed   Time    Time     Time  Current\n",
      "                                 Dload  Upload   Total   Spent    Left  Speed\n",
      "100 1080k    0 1080k    0     0  6057k      0 --:--:-- --:--:-- --:--:-- 6071k\n"
     ]
    },
    {
     "name": "stdout",
     "output_type": "stream",
     "text": [
      "waiting\n",
      "1167 4.069e-32 33 1.829 SPBC17A3.08 Q9UUF1\n"
     ]
    },
    {
     "name": "stderr",
     "output_type": "stream",
     "text": [
      "  % Total    % Received % Xferd  Average Speed   Time    Time     Time  Current\n",
      "                                 Dload  Upload   Total   Spent    Left  Speed\n",
      "100  688k    0  688k    0     0  3623k      0 --:--:-- --:--:-- --:--:-- 3622k\n",
      "  % Total    % Received % Xferd  Average Speed   Time    Time     Time  Current\n",
      "                                 Dload  Upload   Total   Spent    Left  Speed\n",
      "100 14.4M    0 14.4M    0     0  22.1M      0 --:--:-- --:--:-- --:--:-- 22.1M\n"
     ]
    },
    {
     "name": "stdout",
     "output_type": "stream",
     "text": [
      "waiting\n",
      "no albicans\n",
      "1321 2.402e-60 0 100 SPAC25G10.07c P24339\n"
     ]
    },
    {
     "name": "stderr",
     "output_type": "stream",
     "text": [
      "  % Total    % Received % Xferd  Average Speed   Time    Time     Time  Current\n",
      "                                 Dload  Upload   Total   Spent    Left  Speed\n",
      "100  378k    0  378k    0     0  2215k      0 --:--:-- --:--:-- --:--:-- 2226k\n",
      "  % Total    % Received % Xferd  Average Speed   Time    Time     Time  Current\n",
      "                                 Dload  Upload   Total   Spent    Left  Speed\n",
      "100 4114k    0 4114k    0     0  15.1M      0 --:--:-- --:--:-- --:--:-- 15.1M\n"
     ]
    },
    {
     "name": "stdout",
     "output_type": "stream",
     "text": [
      "waiting\n",
      "no cerevisiae\n",
      "no albicans\n",
      "0 100 0 100 SPBC1703.12 Q9P7V9\n"
     ]
    },
    {
     "name": "stderr",
     "output_type": "stream",
     "text": [
      "  % Total    % Received % Xferd  Average Speed   Time    Time     Time  Current\n",
      "                                 Dload  Upload   Total   Spent    Left  Speed\n",
      "100  696k    0  696k    0     0  4375k      0 --:--:-- --:--:-- --:--:-- 4356k\n",
      "  % Total    % Received % Xferd  Average Speed   Time    Time     Time  Current\n",
      "                                 Dload  Upload   Total   Spent    Left  Speed\n",
      "100 13.4M    0 13.4M    0     0  19.9M      0 --:--:-- --:--:-- --:--:-- 20.0M\n"
     ]
    },
    {
     "name": "stdout",
     "output_type": "stream",
     "text": [
      "waiting\n",
      "no albicans\n",
      "6704 0 0 100 SPBC8D2.06 O13651\n"
     ]
    },
    {
     "name": "stderr",
     "output_type": "stream",
     "text": [
      "  % Total    % Received % Xferd  Average Speed   Time    Time     Time  Current\n",
      "                                 Dload  Upload   Total   Spent    Left  Speed\n",
      "100  834k    0  834k    0     0  3390k      0 --:--:-- --:--:-- --:--:-- 3405k\n",
      "  % Total    % Received % Xferd  Average Speed   Time    Time     Time  Current\n",
      "                                 Dload  Upload   Total   Spent    Left  Speed\n",
      "100 21.5M    0 21.5M    0     0  23.6M      0 --:--:-- --:--:-- --:--:-- 23.6M\n"
     ]
    },
    {
     "name": "stdout",
     "output_type": "stream",
     "text": [
      "waiting\n",
      "no albicans\n",
      "2920 1.971e-67 0 100 SPAC890.06 Q9URX8\n"
     ]
    },
    {
     "name": "stderr",
     "output_type": "stream",
     "text": [
      "  % Total    % Received % Xferd  Average Speed   Time    Time     Time  Current\n",
      "                                 Dload  Upload   Total   Spent    Left  Speed\n",
      "100  179k    0  179k    0     0  1738k      0 --:--:-- --:--:-- --:--:-- 1744k\n",
      "  % Total    % Received % Xferd  Average Speed   Time    Time     Time  Current\n",
      "                                 Dload  Upload   Total   Spent    Left  Speed\n",
      "100  874k    0  874k    0     0  5914k      0 --:--:-- --:--:-- --:--:-- 5949k\n"
     ]
    },
    {
     "name": "stdout",
     "output_type": "stream",
     "text": [
      "waiting\n",
      "402 3.858e-15 163 2.447e-07 SPCC1494.08c O60082\n"
     ]
    },
    {
     "name": "stderr",
     "output_type": "stream",
     "text": [
      "  % Total    % Received % Xferd  Average Speed   Time    Time     Time  Current\n",
      "                                 Dload  Upload   Total   Spent    Left  Speed\n",
      "100 86669    0 86669    0     0   565k      0 --:--:-- --:--:-- --:--:--  568k\n",
      "  % Total    % Received % Xferd  Average Speed   Time    Time     Time  Current\n",
      "                                 Dload  Upload   Total   Spent    Left  Speed\n",
      "100  154k    0  154k    0     0  1011k      0 --:--:-- --:--:-- --:--:-- 1008k\n"
     ]
    },
    {
     "name": "stdout",
     "output_type": "stream",
     "text": [
      "waiting\n",
      "no cerevisiae\n",
      "no albicans\n",
      "0 100 0 100 SPBC839.09c Q8WZK1\n"
     ]
    },
    {
     "name": "stderr",
     "output_type": "stream",
     "text": [
      "  % Total    % Received % Xferd  Average Speed   Time    Time     Time  Current\n",
      "                                 Dload  Upload   Total   Spent    Left  Speed\n",
      "100  481k    0  481k    0     0  2779k      0 --:--:-- --:--:-- --:--:-- 2782k\n",
      "  % Total    % Received % Xferd  Average Speed   Time    Time     Time  Current\n",
      "                                 Dload  Upload   Total   Spent    Left  Speed\n",
      "100 6304k    0 6304k    0     0  15.5M      0 --:--:-- --:--:-- --:--:-- 15.5M\n"
     ]
    },
    {
     "name": "stdout",
     "output_type": "stream",
     "text": [
      "waiting\n",
      "3843 4.684e-83 3426 1.769e-75 SPBC660.07 O42893\n"
     ]
    },
    {
     "name": "stderr",
     "output_type": "stream",
     "text": [
      "  % Total    % Received % Xferd  Average Speed   Time    Time     Time  Current\n",
      "                                 Dload  Upload   Total   Spent    Left  Speed\n",
      "100  175k    0  175k    0     0  1059k      0 --:--:-- --:--:-- --:--:-- 1057k\n",
      "  % Total    % Received % Xferd  Average Speed   Time    Time     Time  Current\n",
      "                                 Dload  Upload   Total   Spent    Left  Speed\n",
      "100  768k    0  768k    0     0  5448k      0 --:--:-- --:--:-- --:--:-- 5492k\n"
     ]
    },
    {
     "name": "stdout",
     "output_type": "stream",
     "text": [
      "waiting\n",
      "no albicans\n",
      "1074 5.379e-28 0 100 SPAC4D7.04c O14171\n"
     ]
    },
    {
     "name": "stderr",
     "output_type": "stream",
     "text": [
      "  % Total    % Received % Xferd  Average Speed   Time    Time     Time  Current\n",
      "                                 Dload  Upload   Total   Spent    Left  Speed\n",
      "100 98900    0 98900    0     0   724k      0 --:--:-- --:--:-- --:--:--  726k\n",
      "  % Total    % Received % Xferd  Average Speed   Time    Time     Time  Current\n",
      "                                 Dload  Upload   Total   Spent    Left  Speed\n",
      "100  251k    0  251k    0     0  1029k      0 --:--:-- --:--:-- --:--:-- 1034k\n"
     ]
    },
    {
     "name": "stdout",
     "output_type": "stream",
     "text": [
      "waiting\n",
      "no cerevisiae\n",
      "no albicans\n",
      "0 100 0 100 SPBC19C7.05 O60154\n"
     ]
    },
    {
     "name": "stderr",
     "output_type": "stream",
     "text": [
      "  % Total    % Received % Xferd  Average Speed   Time    Time     Time  Current\n",
      "                                 Dload  Upload   Total   Spent    Left  Speed\n",
      "100  244k    0  244k    0     0  1810k      0 --:--:-- --:--:-- --:--:-- 1824k\n",
      "  % Total    % Received % Xferd  Average Speed   Time    Time     Time  Current\n",
      "                                 Dload  Upload   Total   Spent    Left  Speed\n",
      "100 1530k    0 1530k    0     0  7899k      0 --:--:-- --:--:-- --:--:-- 7931k\n"
     ]
    },
    {
     "name": "stdout",
     "output_type": "stream",
     "text": [
      "waiting\n",
      "no albicans\n",
      "2338 7.383e-58 0 100 SPBPB2B2.10c Q9HDU5\n"
     ]
    },
    {
     "name": "stderr",
     "output_type": "stream",
     "text": [
      "  % Total    % Received % Xferd  Average Speed   Time    Time     Time  Current\n",
      "                                 Dload  Upload   Total   Spent    Left  Speed\n",
      "100  174k    0  174k    0     0  1520k      0 --:--:-- --:--:-- --:--:-- 1527k\n",
      "  % Total    % Received % Xferd  Average Speed   Time    Time     Time  Current\n",
      "                                 Dload  Upload   Total   Spent    Left  Speed\n",
      "100  794k    0  794k    0     0  4496k      0 --:--:-- --:--:-- --:--:-- 4513k\n"
     ]
    },
    {
     "name": "stdout",
     "output_type": "stream",
     "text": [
      "waiting\n",
      "800 3.053e-26 140 6.12e-05 SPBC119.06 O42899\n"
     ]
    },
    {
     "name": "stderr",
     "output_type": "stream",
     "text": [
      "  % Total    % Received % Xferd  Average Speed   Time    Time     Time  Current\n",
      "                                 Dload  Upload   Total   Spent    Left  Speed\n",
      "100  285k    0  285k    0     0  1903k      0 --:--:-- --:--:-- --:--:-- 1906k\n",
      "  % Total    % Received % Xferd  Average Speed   Time    Time     Time  Current\n",
      "                                 Dload  Upload   Total   Spent    Left  Speed\n",
      "100 2250k    0 2250k    0     0  13.4M      0 --:--:-- --:--:-- --:--:-- 13.4M\n"
     ]
    },
    {
     "name": "stdout",
     "output_type": "stream",
     "text": [
      "waiting\n",
      "no albicans\n",
      "1715 7.989e-35 0 100 SPBC13A2.03 Q9P381\n"
     ]
    },
    {
     "name": "stderr",
     "output_type": "stream",
     "text": [
      "  % Total    % Received % Xferd  Average Speed   Time    Time     Time  Current\n",
      "                                 Dload  Upload   Total   Spent    Left  Speed\n",
      "100  537k    0  537k    0     0  2820k      0 --:--:-- --:--:-- --:--:-- 2828k\n",
      "  % Total    % Received % Xferd  Average Speed   Time    Time     Time  Current\n",
      "                                 Dload  Upload   Total   Spent    Left  Speed\n",
      "100 9231k    0 9231k    0     0  3087k      0 --:--:--  0:00:02 --:--:-- 3087k\n"
     ]
    },
    {
     "name": "stdout",
     "output_type": "stream",
     "text": [
      "waiting\n",
      "waiting\n",
      "no cerevisiae\n",
      "no albicans\n",
      "0 100 0 100 SPCC320.03 O59780\n"
     ]
    },
    {
     "name": "stderr",
     "output_type": "stream",
     "text": [
      "  % Total    % Received % Xferd  Average Speed   Time    Time     Time  Current\n",
      "                                 Dload  Upload   Total   Spent    Left  Speed\n",
      "100  223k    0  223k    0     0  1578k      0 --:--:-- --:--:-- --:--:-- 1585k\n",
      "  % Total    % Received % Xferd  Average Speed   Time    Time     Time  Current\n",
      "                                 Dload  Upload   Total   Spent    Left  Speed\n",
      "100 1296k    0 1296k    0     0  3957k      0 --:--:-- --:--:-- --:--:-- 3953k\n"
     ]
    },
    {
     "name": "stdout",
     "output_type": "stream",
     "text": [
      "waiting\n",
      "waiting\n",
      "no albicans\n",
      "1934 5.137e-54 0 100 SPAC890.07c Q9URX7\n"
     ]
    },
    {
     "name": "stderr",
     "output_type": "stream",
     "text": [
      "  % Total    % Received % Xferd  Average Speed   Time    Time     Time  Current\n",
      "                                 Dload  Upload   Total   Spent    Left  Speed\n",
      "100  199k    0  199k    0     0  1265k      0 --:--:-- --:--:-- --:--:-- 1271k\n",
      "  % Total    % Received % Xferd  Average Speed   Time    Time     Time  Current\n",
      "                                 Dload  Upload   Total   Spent    Left  Speed\n",
      "100 1069k    0 1069k    0     0  5107k      0 --:--:-- --:--:-- --:--:-- 5095k\n"
     ]
    },
    {
     "name": "stdout",
     "output_type": "stream",
     "text": [
      "waiting\n",
      "waiting\n",
      "waiting\n",
      "no albicans\n",
      "640 8.901e-14 0 100 SPCC31H12.02c O74870\n"
     ]
    },
    {
     "name": "stderr",
     "output_type": "stream",
     "text": [
      "  % Total    % Received % Xferd  Average Speed   Time    Time     Time  Current\n",
      "                                 Dload  Upload   Total   Spent    Left  Speed\n",
      "100  307k    0  307k    0     0  1389k      0 --:--:-- --:--:-- --:--:-- 1392k\n",
      "  % Total    % Received % Xferd  Average Speed   Time    Time     Time  Current\n",
      "                                 Dload  Upload   Total   Spent    Left  Speed\n",
      "100 2436k    0 2436k    0     0  9073k      0 --:--:-- --:--:-- --:--:-- 9059k\n"
     ]
    },
    {
     "name": "stdout",
     "output_type": "stream",
     "text": [
      "waiting\n",
      "waiting\n",
      "waiting\n",
      "1051 1.247e-29 564 3.54e-18 SPBC2D10.05 O74799\n"
     ]
    },
    {
     "name": "stderr",
     "output_type": "stream",
     "text": [
      "  % Total    % Received % Xferd  Average Speed   Time    Time     Time  Current\n",
      "                                 Dload  Upload   Total   Spent    Left  Speed\n",
      "100  225k    0  225k    0     0   485k      0 --:--:-- --:--:-- --:--:--  485k\n",
      "  % Total    % Received % Xferd  Average Speed   Time    Time     Time  Current\n",
      "                                 Dload  Upload   Total   Spent    Left  Speed\n",
      "100 1480k    0 1480k    0     0  8034k      0 --:--:-- --:--:-- --:--:-- 8048k\n"
     ]
    },
    {
     "name": "stdout",
     "output_type": "stream",
     "text": [
      "waiting\n",
      "waiting\n",
      "517 1.481e-23 475 1.239e-23 SPCC550.02c O59800\n"
     ]
    },
    {
     "name": "stderr",
     "output_type": "stream",
     "text": [
      "  % Total    % Received % Xferd  Average Speed   Time    Time     Time  Current\n",
      "                                 Dload  Upload   Total   Spent    Left  Speed\n",
      "100  495k    0  495k    0     0  3473k      0 --:--:-- --:--:-- --:--:-- 3486k\n",
      "  % Total    % Received % Xferd  Average Speed   Time    Time     Time  Current\n",
      "                                 Dload  Upload   Total   Spent    Left  Speed\n",
      "100 7615k    0 7615k    0     0  15.4M      0 --:--:-- --:--:-- --:--:-- 15.4M\n"
     ]
    },
    {
     "name": "stdout",
     "output_type": "stream",
     "text": [
      "waiting\n",
      "waiting\n",
      "waiting\n",
      "3756 6.093e-100 3223 3.641e-95 SPAC1834.11c Q9P7Q4\n"
     ]
    },
    {
     "name": "stderr",
     "output_type": "stream",
     "text": [
      "  % Total    % Received % Xferd  Average Speed   Time    Time     Time  Current\n",
      "                                 Dload  Upload   Total   Spent    Left  Speed\n",
      "100  201k    0  201k    0     0  1033k      0 --:--:-- --:--:-- --:--:-- 1037k\n",
      "  % Total    % Received % Xferd  Average Speed   Time    Time     Time  Current\n",
      "                                 Dload  Upload   Total   Spent    Left  Speed\n",
      "100 1168k    0 1168k    0     0  5203k      0 --:--:-- --:--:-- --:--:-- 5285k\n"
     ]
    },
    {
     "name": "stdout",
     "output_type": "stream",
     "text": [
      "waiting\n",
      "waiting\n",
      "1830 2.986e-33 512 1.899e-11 SPBC530.10c Q09188\n"
     ]
    },
    {
     "name": "stderr",
     "output_type": "stream",
     "text": [
      "  % Total    % Received % Xferd  Average Speed   Time    Time     Time  Current\n",
      "                                 Dload  Upload   Total   Spent    Left  Speed\n",
      "100  436k    0  436k    0     0  2422k      0 --:--:-- --:--:-- --:--:-- 2426k\n",
      "  % Total    % Received % Xferd  Average Speed   Time    Time     Time  Current\n",
      "                                 Dload  Upload   Total   Spent    Left  Speed\n",
      "100 5238k    0 5238k    0     0  19.7M      0 --:--:-- --:--:-- --:--:-- 19.8M\n"
     ]
    },
    {
     "name": "stdout",
     "output_type": "stream",
     "text": [
      "waiting\n",
      "waiting\n",
      "waiting\n",
      "no albicans\n",
      "773 1.028e-20 0 100 SPBC691.05c O13621\n"
     ]
    },
    {
     "name": "stderr",
     "output_type": "stream",
     "text": [
      "  % Total    % Received % Xferd  Average Speed   Time    Time     Time  Current\n",
      "                                 Dload  Upload   Total   Spent    Left  Speed\n",
      "100  156k    0  156k    0     0   921k      0 --:--:-- --:--:-- --:--:--  923k\n",
      "  % Total    % Received % Xferd  Average Speed   Time    Time     Time  Current\n",
      "                                 Dload  Upload   Total   Spent    Left  Speed\n",
      "100  666k    0  666k    0     0  4077k      0 --:--:-- --:--:-- --:--:-- 4063k\n"
     ]
    },
    {
     "name": "stdout",
     "output_type": "stream",
     "text": [
      "waiting\n",
      "waiting\n",
      "waiting\n",
      "125 0.001269 33 3.533 SPBC428.06c O94355\n"
     ]
    },
    {
     "name": "stderr",
     "output_type": "stream",
     "text": [
      "  % Total    % Received % Xferd  Average Speed   Time    Time     Time  Current\n",
      "                                 Dload  Upload   Total   Spent    Left  Speed\n",
      "100 1079k    0 1079k    0     0  7046k      0 --:--:-- --:--:-- --:--:-- 7099k\n",
      "  % Total    % Received % Xferd  Average Speed   Time    Time     Time  Current\n",
      "                                 Dload  Upload   Total   Spent    Left  Speed\n",
      "100 37.7M    0 37.7M    0     0  25.5M      0 --:--:--  0:00:01 --:--:-- 25.5M\n"
     ]
    },
    {
     "name": "stdout",
     "output_type": "stream",
     "text": [
      "waiting\n",
      "waiting\n",
      "no cerevisiae\n",
      "no albicans\n",
      "0 100 0 100 SPBC119.07 O42900\n"
     ]
    },
    {
     "name": "stderr",
     "output_type": "stream",
     "text": [
      "  % Total    % Received % Xferd  Average Speed   Time    Time     Time  Current\n",
      "                                 Dload  Upload   Total   Spent    Left  Speed\n",
      "100  188k    0  188k    0     0   940k      0 --:--:-- --:--:-- --:--:--  942k\n",
      "  % Total    % Received % Xferd  Average Speed   Time    Time     Time  Current\n",
      "                                 Dload  Upload   Total   Spent    Left  Speed\n",
      "100  988k    0  988k    0     0  5480k      0 --:--:-- --:--:-- --:--:-- 5494k\n"
     ]
    },
    {
     "name": "stdout",
     "output_type": "stream",
     "text": [
      "waiting\n",
      "waiting\n",
      "waiting\n",
      "1147 8.638e-23 572 3.483e-12 SPAC4G9.20c Q10248\n"
     ]
    },
    {
     "name": "stderr",
     "output_type": "stream",
     "text": [
      "  % Total    % Received % Xferd  Average Speed   Time    Time     Time  Current\n",
      "                                 Dload  Upload   Total   Spent    Left  Speed\n",
      "100  687k    0  687k    0     0  4802k      0 --:--:-- --:--:-- --:--:-- 4809k\n",
      "  % Total    % Received % Xferd  Average Speed   Time    Time     Time  Current\n",
      "                                 Dload  Upload   Total   Spent    Left  Speed\n",
      "100 14.9M    0 14.9M    0     0  17.8M      0 --:--:-- --:--:-- --:--:-- 17.8M\n"
     ]
    },
    {
     "name": "stdout",
     "output_type": "stream",
     "text": [
      "waiting\n",
      "waiting\n",
      "waiting\n",
      "no cerevisiae\n",
      "no albicans\n",
      "0 100 0 100 SPBC23E6.09 O60184\n"
     ]
    },
    {
     "name": "stderr",
     "output_type": "stream",
     "text": [
      "  % Total    % Received % Xferd  Average Speed   Time    Time     Time  Current\n",
      "                                 Dload  Upload   Total   Spent    Left  Speed\n",
      "100 75734    0 75734    0     0   599k      0 --:--:-- --:--:-- --:--:--  601k\n",
      "  % Total    % Received % Xferd  Average Speed   Time    Time     Time  Current\n",
      "                                 Dload  Upload   Total   Spent    Left  Speed\n",
      "100  106k    0  106k    0     0   764k      0 --:--:-- --:--:-- --:--:--  766k\n"
     ]
    },
    {
     "name": "stdout",
     "output_type": "stream",
     "text": [
      "waiting\n",
      "waiting\n",
      "no albicans\n",
      "52 0.4306 0 100 SPBC947.14c O43089\n"
     ]
    },
    {
     "name": "stderr",
     "output_type": "stream",
     "text": [
      "  % Total    % Received % Xferd  Average Speed   Time    Time     Time  Current\n",
      "                                 Dload  Upload   Total   Spent    Left  Speed\n",
      "100  333k    0  333k    0     0  2063k      0 --:--:-- --:--:-- --:--:-- 2059k\n",
      "  % Total    % Received % Xferd  Average Speed   Time    Time     Time  Current\n",
      "                                 Dload  Upload   Total   Spent    Left  Speed\n",
      "100 3027k    0 3027k    0     0  11.3M      0 --:--:-- --:--:-- --:--:-- 11.4M\n"
     ]
    },
    {
     "name": "stdout",
     "output_type": "stream",
     "text": [
      "waiting\n",
      "waiting\n",
      "waiting\n",
      "3076 4.633e-71 2871 3.635e-66 SPAC328.03 P40387\n"
     ]
    },
    {
     "name": "stderr",
     "output_type": "stream",
     "text": [
      "  % Total    % Received % Xferd  Average Speed   Time    Time     Time  Current\n",
      "                                 Dload  Upload   Total   Spent    Left  Speed\n",
      "100 81566    0 81566    0     0   421k      0 --:--:-- --:--:-- --:--:--  421k\n",
      "  % Total    % Received % Xferd  Average Speed   Time    Time     Time  Current\n",
      "                                 Dload  Upload   Total   Spent    Left  Speed\n",
      "100  127k    0  127k    0     0  1011k      0 --:--:-- --:--:-- --:--:-- 1022k\n"
     ]
    },
    {
     "name": "stdout",
     "output_type": "stream",
     "text": [
      "waiting\n",
      "waiting\n",
      "waiting\n",
      "no albicans\n",
      "670 8.638e-18 0 100 SPBC1734.14c P08463\n"
     ]
    },
    {
     "name": "stderr",
     "output_type": "stream",
     "text": [
      "  % Total    % Received % Xferd  Average Speed   Time    Time     Time  Current\n",
      "                                 Dload  Upload   Total   Spent    Left  Speed\n",
      "100  646k    0  646k    0     0  3069k      0 --:--:-- --:--:-- --:--:-- 3065k\n",
      "  % Total    % Received % Xferd  Average Speed   Time    Time     Time  Current\n",
      "                                 Dload  Upload   Total   Spent    Left  Speed\n",
      "100 12.6M    0 12.6M    0     0  20.0M      0 --:--:-- --:--:-- --:--:-- 20.1M\n"
     ]
    },
    {
     "name": "stdout",
     "output_type": "stream",
     "text": [
      "waiting\n",
      "0 100 0 100 SPBC336.15 Q1MTN3\n"
     ]
    },
    {
     "name": "stderr",
     "output_type": "stream",
     "text": [
      "  % Total    % Received % Xferd  Average Speed   Time    Time     Time  Current\n",
      "                                 Dload  Upload   Total   Spent    Left  Speed\n",
      "100  197k    0  197k    0     0  1257k      0 --:--:-- --:--:-- --:--:-- 1265k\n",
      "  % Total    % Received % Xferd  Average Speed   Time    Time     Time  Current\n",
      "                                 Dload  Upload   Total   Spent    Left  Speed\n",
      "100  989k    0  989k    0     0  4161k      0 --:--:-- --:--:-- --:--:-- 4156k\n"
     ]
    },
    {
     "name": "stdout",
     "output_type": "stream",
     "text": [
      "waiting\n",
      "1624 1.032e-39 1697 1.056e-40 SPBC11B10.09 P04551\n"
     ]
    },
    {
     "name": "stderr",
     "output_type": "stream",
     "text": [
      "  % Total    % Received % Xferd  Average Speed   Time    Time     Time  Current\n",
      "                                 Dload  Upload   Total   Spent    Left  Speed\n",
      "100  128k    0  128k    0     0  86386      0 --:--:--  0:00:01 --:--:-- 86953\n",
      "  % Total    % Received % Xferd  Average Speed   Time    Time     Time  Current\n",
      "                                 Dload  Upload   Total   Spent    Left  Speed\n",
      "100  406k    0  406k    0     0  2312k      0 --:--:-- --:--:-- --:--:-- 2320k\n"
     ]
    },
    {
     "name": "stdout",
     "output_type": "stream",
     "text": [
      "waiting\n",
      "no albicans\n",
      "352 2.057e-08 0 100 SPBC409.21 Q9UUA4\n"
     ]
    },
    {
     "name": "stderr",
     "output_type": "stream",
     "text": [
      "  % Total    % Received % Xferd  Average Speed   Time    Time     Time  Current\n",
      "                                 Dload  Upload   Total   Spent    Left  Speed\n",
      "100 88289    0 88289    0     0   372k      0 --:--:-- --:--:-- --:--:--  374k\n",
      "  % Total    % Received % Xferd  Average Speed   Time    Time     Time  Current\n",
      "                                 Dload  Upload   Total   Spent    Left  Speed\n",
      "100  177k    0  177k    0     0  1348k      0 --:--:-- --:--:-- --:--:-- 1358k\n"
     ]
    },
    {
     "name": "stdout",
     "output_type": "stream",
     "text": [
      "waiting\n",
      "no albicans\n",
      "224 2.264e-06 0 100 SPCC14G10.03c O74416\n"
     ]
    },
    {
     "name": "stderr",
     "output_type": "stream",
     "text": [
      "  % Total    % Received % Xferd  Average Speed   Time    Time     Time  Current\n",
      "                                 Dload  Upload   Total   Spent    Left  Speed\n",
      "100  245k    0  245k    0     0  1444k      0 --:--:-- --:--:-- --:--:-- 1453k\n",
      "  % Total    % Received % Xferd  Average Speed   Time    Time     Time  Current\n",
      "                                 Dload  Upload   Total   Spent    Left  Speed\n",
      "100 1661k    0 1661k    0     0  8890k      0 --:--:-- --:--:-- --:--:-- 8932k\n"
     ]
    },
    {
     "name": "stdout",
     "output_type": "stream",
     "text": [
      "waiting\n",
      "824 1.055e-22 849 1.055e-22 SPBC354.03 O43017\n"
     ]
    },
    {
     "name": "stderr",
     "output_type": "stream",
     "text": [
      "  % Total    % Received % Xferd  Average Speed   Time    Time     Time  Current\n",
      "                                 Dload  Upload   Total   Spent    Left  Speed\n",
      "100  493k    0  493k    0     0  2691k      0 --:--:-- --:--:-- --:--:-- 2699k\n",
      "  % Total    % Received % Xferd  Average Speed   Time    Time     Time  Current\n",
      "                                 Dload  Upload   Total   Spent    Left  Speed\n",
      "100 6975k    0 6975k    0     0  16.7M      0 --:--:-- --:--:-- --:--:-- 16.7M\n"
     ]
    },
    {
     "name": "stdout",
     "output_type": "stream",
     "text": [
      "waiting\n",
      "no albicans\n",
      "1603 1.067e-45 0 100 SPBC1706.03 Q9USY7\n"
     ]
    },
    {
     "name": "stderr",
     "output_type": "stream",
     "text": [
      "  % Total    % Received % Xferd  Average Speed   Time    Time     Time  Current\n",
      "                                 Dload  Upload   Total   Spent    Left  Speed\n",
      "100  227k    0  227k    0     0  1784k      0 --:--:-- --:--:-- --:--:-- 1789k\n",
      "  % Total    % Received % Xferd  Average Speed   Time    Time     Time  Current\n",
      "                                 Dload  Upload   Total   Spent    Left  Speed\n",
      "100 1501k    0 1501k    0     0  9065k      0 --:--:-- --:--:-- --:--:-- 9098k\n"
     ]
    },
    {
     "name": "stdout",
     "output_type": "stream",
     "text": [
      "waiting\n",
      "1384 1.314e-28 590 2.026e-13 SPAC688.09 Q9P6L7\n"
     ]
    },
    {
     "name": "stderr",
     "output_type": "stream",
     "text": [
      "  % Total    % Received % Xferd  Average Speed   Time    Time     Time  Current\n",
      "                                 Dload  Upload   Total   Spent    Left  Speed\n",
      "100  341k    0  341k    0     0  2576k      0 --:--:-- --:--:-- --:--:-- 2585k\n",
      "  % Total    % Received % Xferd  Average Speed   Time    Time     Time  Current\n",
      "                                 Dload  Upload   Total   Spent    Left  Speed\n",
      "100 3494k    0 3494k    0     0  20.7M      0 --:--:-- --:--:-- --:--:-- 20.8M\n"
     ]
    },
    {
     "name": "stdout",
     "output_type": "stream",
     "text": [
      "no albicans\n",
      "109 0.0005444 0 100 SPAC22H10.07 P40996\n"
     ]
    }
   ],
   "source": [
    "n_entries = 0 \n",
    "try:\n",
    "    conserved_e_vals_cerevisiae_foldseek = np.loadtxt('conserved_e_vals_cerevisiae.txt')\n",
    "    #drop all values after the last non nan value\n",
    "    #n_entries = np.where(~np.isnan(conserved_e_vals_cerevisiae_foldseek))[0][-1]\n",
    "    n_entries = 0\n",
    "    conserved_e_vals_cerevisiae_foldseek = conserved_e_vals_cerevisiae_foldseek[:n_entries]\n",
    "    print(\"file loaded, entries:\", len(n_entries))\n",
    "\n",
    "except:\n",
    "    conserved_e_vals_cerevisiae_foldseek = np.full(50, np.nan)\n",
    "\n",
    "try:\n",
    "    conserved_scores_cerevisiae_foldseek = np.loadtxt('conserved_scores_cerevisiae.txt')\n",
    "    conserved_scores_cerevisiae_foldseek = conserved_scores_cerevisiae_foldseek[:n_entries]\n",
    "    print(\"file loaded, entries:\", len(n_entries))\n",
    "except:\n",
    "    conserved_scores_cerevisiae_foldseek = np.full(50, np.nan)\n",
    "\n",
    "try:\n",
    "    conserved_e_vals_albicans_foldseek = np.loadtxt('conserved_e_vals_albicans.txt')\n",
    "    conserved_e_vals_albicans_foldseek = conserved_e_vals_albicans_foldseek[:n_entries]\n",
    "    print(\"file loaded, entries:\", len(n_entries))\n",
    "except:\n",
    "    conserved_e_vals_albicans_foldseek = np.full(50, np.nan)\n",
    "\n",
    "try:\n",
    "    conserved_scores_albicans_foldseek  = np.loadtxt('conserved_scores_albicans.txt')\n",
    "    conserved_scores_albicans_foldseek  = conserved_scores_albicans_foldseek [:n_entries]\n",
    "    print(\"file loaded, entries:\", len(n_entries))\n",
    "\n",
    "except:\n",
    "    conserved_scores_albicans_foldseek = np.full(50, np.nan)\n",
    "\n",
    "try:\n",
    "    for i in range(n_entries,50):\n",
    "        score_cerevisiae, eval_cerevisiae, score_albicans, eval_albicans = scores_evals_from_uniprot(conserved_genes_uniprot[i])\n",
    "        print(score_cerevisiae, eval_cerevisiae, score_albicans, eval_albicans, conserved_genes[i], conserved_genes_uniprot[i])\n",
    "\n",
    "        conserved_e_vals_cerevisiae_foldseek[i] = eval_cerevisiae\n",
    "        conserved_scores_cerevisiae_foldseek[i] = score_cerevisiae\n",
    "        conserved_e_vals_albicans_foldseek[i] = eval_albicans\n",
    "        conserved_scores_albicans_foldseek[i] = score_albicans\n",
    "\n",
    "except:\n",
    "    for i in range(50):\n",
    "        score_cerevisiae, eval_cerevisiae, score_albicans, eval_albicans = scores_evals_from_uniprot(conserved_genes_uniprot[i])\n",
    "        print(score_cerevisiae, eval_cerevisiae, score_albicans, eval_albicans, conserved_genes[i], conserved_genes_uniprot[i])\n",
    "\n",
    "        conserved_e_vals_cerevisiae_foldseek[i] = eval_cerevisiae\n",
    "        conserved_scores_cerevisiae_foldseek[i] = score_cerevisiae\n",
    "        conserved_e_vals_albicans_foldseek[i] = eval_albicans\n",
    "        conserved_scores_albicans_foldseek[i] = score_albicans\n",
    "\n",
    "np.savetxt('conserved_e_vals_cerevisiae_foldseek.txt', conserved_e_vals_cerevisiae_foldseek)\n",
    "np.savetxt('conserved_scores_cerevisiae_foldseek.txt', conserved_scores_cerevisiae_foldseek)\n",
    "np.savetxt('conserved_e_vals_albicans_foldseek.txt', conserved_e_vals_albicans_foldseek)\n",
    "np.savetxt('conserved_scores_albicans_foldseek.txt', conserved_scores_albicans_foldseek)"
   ]
  },
  {
   "cell_type": "code",
   "execution_count": 104,
   "metadata": {},
   "outputs": [],
   "source": [
    "np.savetxt('conserved_e_vals_cerevisiae_foldseek.txt', conserved_e_vals_cerevisiae_foldseek)\n",
    "np.savetxt('conserved_scores_cerevisiae_foldseek.txt', conserved_scores_cerevisiae_foldseek)\n",
    "np.savetxt('conserved_e_vals_albicans_foldseek.txt', conserved_e_vals_albicans_foldseek)\n",
    "np.savetxt('conserved_scores_albicans_foldseek.txt', conserved_scores_albicans_foldseek)"
   ]
  },
  {
   "attachments": {},
   "cell_type": "markdown",
   "metadata": {},
   "source": [
    "# Plotting the results\n",
    "\n"
   ]
  },
  {
   "cell_type": "code",
   "execution_count": 341,
   "metadata": {},
   "outputs": [],
   "source": [
    "all_uniprot_ids = np.concatenate((unique_genes_uniprot, conserved_genes_uniprot[:50], unique_genes_uniprot, conserved_genes_uniprot[:50], unique_genes_uniprot, conserved_genes_uniprot[:50], unique_genes_uniprot, conserved_genes_uniprot[:50]))\n",
    "all_gene_names = np.concatenate((unique_genes, conserved_genes[:50], unique_genes, conserved_genes[:50], unique_genes, conserved_genes[:50], unique_genes, conserved_genes[:50]))\n",
    "all_scores = np.concatenate((unique_scores_cerevisiae, conserved_scores_cerevisiae[:50], unique_scores_cerevisiae_foldseek, conserved_scores_cerevisiae_foldseek[:50], unique_scores_albicans, conserved_scores_albicans[:50], unique_scores_albicans_foldseek, conserved_scores_albicans_foldseek[:50]))\n",
    "all_e_vals = np.concatenate((unique_e_vals_cerevisiae, conserved_e_vals_cerevisiae[:50], unique_e_vals_cerevisiae_foldseek, conserved_e_vals_cerevisiae_foldseek[:50], unique_e_vals_albicans, conserved_e_vals_albicans[:50], unique_e_vals_albicans_foldseek, conserved_e_vals_albicans_foldseek[:50]))\n",
    "unique_conserved = np.concatenate((np.full(len(unique_genes), 'unique'), np.full(50, 'conserved'), np.full(len(unique_genes), 'unique'), np.full(50, 'conserved'), np.full(len(unique_genes), 'unique'), np.full(50, 'conserved'), np.full(len(unique_genes), 'unique'), np.full(50, 'conserved')))\n",
    "data_sources = np.concatenate((np.full(len(unique_genes), 'BlastP'), np.full(50, 'BlastP'), np.full(len(unique_genes), 'Foldseek'), np.full(50, 'Foldseek'), np.full(len(unique_genes), 'BlastP'), np.full(50, 'BlastP'), np.full(len(unique_genes), 'Foldseek'), np.full(50, 'Foldseek')))\n",
    "#species S. cerevisiae or C. albicans\n",
    "species = np.concatenate((np.full(len(unique_genes), 'S. cerevisiae'), np.full(50, 'S. cerevisiae'), np.full(len(unique_genes), 'S. cerevisiae'), np.full(50, 'S. cerevisiae'), np.full(len(unique_genes), 'C. albicans'), np.full(50, 'C. albicans'), np.full(len(unique_genes), 'C. albicans'), np.full(50, 'C. albicans')))\n",
    "#create a df with uniprot IDs, gene names, scores and e-values, data_source, unique/conserved, species\n",
    "df = pd.DataFrame({'uniprot_id': all_uniprot_ids, 'gene_name': all_gene_names, 'score': all_scores, 'e_value': all_e_vals, 'unique_conserved': unique_conserved, 'data_source': data_sources, 'species': species})\n"
   ]
  },
  {
   "cell_type": "code",
   "execution_count": 377,
   "metadata": {},
   "outputs": [],
   "source": [
    "pombe_floc_dict = {\"SPAC186.01\":\"pfl9\",\n",
    "                   \"SPAC1F8.06\":\"pfl8\",\n",
    "                   \"SPBC359.04c\":\"pfl7\",\n",
    "                   \"SPAC977.07c\":\"pfl6\",\n",
    "                   \"SPBC1289.15\":\"pfl5\",\n",
    "                   \"SPCC188.09c\":\"pfl4\",\n",
    "                   \"SPBC947.04\":\"pfl3\",\n",
    "                   \"SPAP11E10.02c\":\"mam3\",\n",
    "                   \"SPAPB15E9.01c\":\"pfl2\",\n",
    "                   \"SPAPB2C8.01\":\"SPAPB2C8.01\",\n",
    "                   \"SPBC1348.08c\":\"SPBC1348.08c\",\n",
    "                   \"SPBC21D10.06c\":\"map4\",\n",
    "                   \"SPBPJ4664.02\":\"SPBPJ4664.02\",\n",
    "                   \"SPCC1742.01\":\"gsf2\"}\n",
    "\n",
    "df[\"color\"] = [\"True (n=14)\" if x in pombe_floc_dict.keys() else \"False\" for x in df[\"gene_name\"]]\n",
    "\n"
   ]
  },
  {
   "cell_type": "code",
   "execution_count": 378,
   "metadata": {},
   "outputs": [],
   "source": [
    "#in df, for e_value turn Na into 100\n",
    "df['e_value'] = df['e_value'].fillna(100)\n",
    "#for score fill with 0\n",
    "df['score'] = df['score'].fillna(0)\n",
    "#any e_value higher than 100, turn into 100\n",
    "df['e_value'] = df['e_value'].apply(lambda x: 100 if x > 100 else x)\n",
    "#if lower than 10e-50, turn into 10e-50\n",
    "df['e_value'] = df['e_value'].apply(lambda x: 10e-150 if x < 10e-150 else x)\n",
    "#save df\n",
    "df.to_csv(\"analysis.csv\", index=False)"
   ]
  },
  {
   "cell_type": "code",
   "execution_count": 4,
   "metadata": {},
   "outputs": [],
   "source": [
    "#load df\n",
    "df = pd.read_csv(\"final_analysis.csv\")"
   ]
  },
  {
   "cell_type": "code",
   "execution_count": 10,
   "metadata": {},
   "outputs": [
    {
     "data": {
      "text/html": [
       "\n",
       "    <div class=\"bk-root\">\n",
       "        <a href=\"https://bokeh.org\" target=\"_blank\" class=\"bk-logo bk-logo-small bk-logo-notebook\"></a>\n",
       "        <span id=\"3366\">Loading BokehJS ...</span>\n",
       "    </div>"
      ]
     },
     "metadata": {},
     "output_type": "display_data"
    },
    {
     "data": {
      "application/javascript": "\n(function(root) {\n  function now() {\n    return new Date();\n  }\n\n  const force = true;\n\n  if (typeof root._bokeh_onload_callbacks === \"undefined\" || force === true) {\n    root._bokeh_onload_callbacks = [];\n    root._bokeh_is_loading = undefined;\n  }\n\n  const JS_MIME_TYPE = 'application/javascript';\n  const HTML_MIME_TYPE = 'text/html';\n  const EXEC_MIME_TYPE = 'application/vnd.bokehjs_exec.v0+json';\n  const CLASS_NAME = 'output_bokeh rendered_html';\n\n  /**\n   * Render data to the DOM node\n   */\n  function render(props, node) {\n    const script = document.createElement(\"script\");\n    node.appendChild(script);\n  }\n\n  /**\n   * Handle when an output is cleared or removed\n   */\n  function handleClearOutput(event, handle) {\n    const cell = handle.cell;\n\n    const id = cell.output_area._bokeh_element_id;\n    const server_id = cell.output_area._bokeh_server_id;\n    // Clean up Bokeh references\n    if (id != null && id in Bokeh.index) {\n      Bokeh.index[id].model.document.clear();\n      delete Bokeh.index[id];\n    }\n\n    if (server_id !== undefined) {\n      // Clean up Bokeh references\n      const cmd_clean = \"from bokeh.io.state import curstate; print(curstate().uuid_to_server['\" + server_id + \"'].get_sessions()[0].document.roots[0]._id)\";\n      cell.notebook.kernel.execute(cmd_clean, {\n        iopub: {\n          output: function(msg) {\n            const id = msg.content.text.trim();\n            if (id in Bokeh.index) {\n              Bokeh.index[id].model.document.clear();\n              delete Bokeh.index[id];\n            }\n          }\n        }\n      });\n      // Destroy server and session\n      const cmd_destroy = \"import bokeh.io.notebook as ion; ion.destroy_server('\" + server_id + \"')\";\n      cell.notebook.kernel.execute(cmd_destroy);\n    }\n  }\n\n  /**\n   * Handle when a new output is added\n   */\n  function handleAddOutput(event, handle) {\n    const output_area = handle.output_area;\n    const output = handle.output;\n\n    // limit handleAddOutput to display_data with EXEC_MIME_TYPE content only\n    if ((output.output_type != \"display_data\") || (!Object.prototype.hasOwnProperty.call(output.data, EXEC_MIME_TYPE))) {\n      return\n    }\n\n    const toinsert = output_area.element.find(\".\" + CLASS_NAME.split(' ')[0]);\n\n    if (output.metadata[EXEC_MIME_TYPE][\"id\"] !== undefined) {\n      toinsert[toinsert.length - 1].firstChild.textContent = output.data[JS_MIME_TYPE];\n      // store reference to embed id on output_area\n      output_area._bokeh_element_id = output.metadata[EXEC_MIME_TYPE][\"id\"];\n    }\n    if (output.metadata[EXEC_MIME_TYPE][\"server_id\"] !== undefined) {\n      const bk_div = document.createElement(\"div\");\n      bk_div.innerHTML = output.data[HTML_MIME_TYPE];\n      const script_attrs = bk_div.children[0].attributes;\n      for (let i = 0; i < script_attrs.length; i++) {\n        toinsert[toinsert.length - 1].firstChild.setAttribute(script_attrs[i].name, script_attrs[i].value);\n        toinsert[toinsert.length - 1].firstChild.textContent = bk_div.children[0].textContent\n      }\n      // store reference to server id on output_area\n      output_area._bokeh_server_id = output.metadata[EXEC_MIME_TYPE][\"server_id\"];\n    }\n  }\n\n  function register_renderer(events, OutputArea) {\n\n    function append_mime(data, metadata, element) {\n      // create a DOM node to render to\n      const toinsert = this.create_output_subarea(\n        metadata,\n        CLASS_NAME,\n        EXEC_MIME_TYPE\n      );\n      this.keyboard_manager.register_events(toinsert);\n      // Render to node\n      const props = {data: data, metadata: metadata[EXEC_MIME_TYPE]};\n      render(props, toinsert[toinsert.length - 1]);\n      element.append(toinsert);\n      return toinsert\n    }\n\n    /* Handle when an output is cleared or removed */\n    events.on('clear_output.CodeCell', handleClearOutput);\n    events.on('delete.Cell', handleClearOutput);\n\n    /* Handle when a new output is added */\n    events.on('output_added.OutputArea', handleAddOutput);\n\n    /**\n     * Register the mime type and append_mime function with output_area\n     */\n    OutputArea.prototype.register_mime_type(EXEC_MIME_TYPE, append_mime, {\n      /* Is output safe? */\n      safe: true,\n      /* Index of renderer in `output_area.display_order` */\n      index: 0\n    });\n  }\n\n  // register the mime type if in Jupyter Notebook environment and previously unregistered\n  if (root.Jupyter !== undefined) {\n    const events = require('base/js/events');\n    const OutputArea = require('notebook/js/outputarea').OutputArea;\n\n    if (OutputArea.prototype.mime_types().indexOf(EXEC_MIME_TYPE) == -1) {\n      register_renderer(events, OutputArea);\n    }\n  }\n\n  \n  if (typeof (root._bokeh_timeout) === \"undefined\" || force === true) {\n    root._bokeh_timeout = Date.now() + 5000;\n    root._bokeh_failed_load = false;\n  }\n\n  const NB_LOAD_WARNING = {'data': {'text/html':\n     \"<div style='background-color: #fdd'>\\n\"+\n     \"<p>\\n\"+\n     \"BokehJS does not appear to have successfully loaded. If loading BokehJS from CDN, this \\n\"+\n     \"may be due to a slow or bad network connection. Possible fixes:\\n\"+\n     \"</p>\\n\"+\n     \"<ul>\\n\"+\n     \"<li>re-rerun `output_notebook()` to attempt to load from CDN again, or</li>\\n\"+\n     \"<li>use INLINE resources instead, as so:</li>\\n\"+\n     \"</ul>\\n\"+\n     \"<code>\\n\"+\n     \"from bokeh.resources import INLINE\\n\"+\n     \"output_notebook(resources=INLINE)\\n\"+\n     \"</code>\\n\"+\n     \"</div>\"}};\n\n  function display_loaded() {\n    const el = document.getElementById(\"3366\");\n    if (el != null) {\n      el.textContent = \"BokehJS is loading...\";\n    }\n    if (root.Bokeh !== undefined) {\n      if (el != null) {\n        el.textContent = \"BokehJS \" + root.Bokeh.version + \" successfully loaded.\";\n      }\n    } else if (Date.now() < root._bokeh_timeout) {\n      setTimeout(display_loaded, 100)\n    }\n  }\n\n\n  function run_callbacks() {\n    try {\n      root._bokeh_onload_callbacks.forEach(function(callback) {\n        if (callback != null)\n          callback();\n      });\n    } finally {\n      delete root._bokeh_onload_callbacks\n    }\n    console.debug(\"Bokeh: all callbacks have finished\");\n  }\n\n  function load_libs(css_urls, js_urls, callback) {\n    if (css_urls == null) css_urls = [];\n    if (js_urls == null) js_urls = [];\n\n    root._bokeh_onload_callbacks.push(callback);\n    if (root._bokeh_is_loading > 0) {\n      console.debug(\"Bokeh: BokehJS is being loaded, scheduling callback at\", now());\n      return null;\n    }\n    if (js_urls == null || js_urls.length === 0) {\n      run_callbacks();\n      return null;\n    }\n    console.debug(\"Bokeh: BokehJS not loaded, scheduling load and callback at\", now());\n    root._bokeh_is_loading = css_urls.length + js_urls.length;\n\n    function on_load() {\n      root._bokeh_is_loading--;\n      if (root._bokeh_is_loading === 0) {\n        console.debug(\"Bokeh: all BokehJS libraries/stylesheets loaded\");\n        run_callbacks()\n      }\n    }\n\n    function on_error(url) {\n      console.error(\"failed to load \" + url);\n    }\n\n    for (let i = 0; i < css_urls.length; i++) {\n      const url = css_urls[i];\n      const element = document.createElement(\"link\");\n      element.onload = on_load;\n      element.onerror = on_error.bind(null, url);\n      element.rel = \"stylesheet\";\n      element.type = \"text/css\";\n      element.href = url;\n      console.debug(\"Bokeh: injecting link tag for BokehJS stylesheet: \", url);\n      document.body.appendChild(element);\n    }\n\n    for (let i = 0; i < js_urls.length; i++) {\n      const url = js_urls[i];\n      const element = document.createElement('script');\n      element.onload = on_load;\n      element.onerror = on_error.bind(null, url);\n      element.async = false;\n      element.src = url;\n      console.debug(\"Bokeh: injecting script tag for BokehJS library: \", url);\n      document.head.appendChild(element);\n    }\n  };\n\n  function inject_raw_css(css) {\n    const element = document.createElement(\"style\");\n    element.appendChild(document.createTextNode(css));\n    document.body.appendChild(element);\n  }\n\n  \n  const js_urls = [\"https://cdn.bokeh.org/bokeh/release/bokeh-2.4.0.min.js\", \"https://cdn.bokeh.org/bokeh/release/bokeh-gl-2.4.0.min.js\", \"https://cdn.bokeh.org/bokeh/release/bokeh-widgets-2.4.0.min.js\", \"https://cdn.bokeh.org/bokeh/release/bokeh-tables-2.4.0.min.js\", \"https://cdn.bokeh.org/bokeh/release/bokeh-mathjax-2.4.0.min.js\"];\n  const css_urls = [];\n  \n\n  const inline_js = [\n    function(Bokeh) {\n      Bokeh.set_log_level(\"info\");\n    },\n    function(Bokeh) {\n    \n    \n    }\n  ];\n\n  function run_inline_js() {\n    \n    if (root.Bokeh !== undefined || force === true) {\n      \n    for (let i = 0; i < inline_js.length; i++) {\n      inline_js[i].call(root, root.Bokeh);\n    }\n    if (force === true) {\n        display_loaded();\n      }} else if (Date.now() < root._bokeh_timeout) {\n      setTimeout(run_inline_js, 100);\n    } else if (!root._bokeh_failed_load) {\n      console.log(\"Bokeh: BokehJS failed to load within specified timeout.\");\n      root._bokeh_failed_load = true;\n    } else if (force !== true) {\n      const cell = $(document.getElementById(\"3366\")).parents('.cell').data().cell;\n      cell.output_area.append_execute_result(NB_LOAD_WARNING)\n    }\n\n  }\n\n  if (root._bokeh_is_loading === 0) {\n    console.debug(\"Bokeh: BokehJS loaded, going straight to plotting\");\n    run_inline_js();\n  } else {\n    load_libs(css_urls, js_urls, function() {\n      console.debug(\"Bokeh: BokehJS plotting callback run at\", now());\n      run_inline_js();\n    });\n  }\n}(window));",
      "application/vnd.bokehjs_load.v0+json": ""
     },
     "metadata": {},
     "output_type": "display_data"
    },
    {
     "data": {
      "text/plain": [
       "'/Users/bencekover/Library/CloudStorage/OneDrive-Personal/MSci Bahler lab/S.-Pombe-MLPs - Github/Figures/All figures/blast_p_foldseek_results.png'"
      ]
     },
     "execution_count": 10,
     "metadata": {},
     "output_type": "execute_result"
    }
   ],
   "source": [
    "import bokeh.io\n",
    "from bokeh.plotting import figure, show\n",
    "from bokeh.models import Text\n",
    "from scipy import stats\n",
    "import iqplot\n",
    "import pandas as pd\n",
    "\n",
    "# Your DataFrame (df) and other data\n",
    "\n",
    "# Create the plot\n",
    "p = iqplot.stripbox(df, q=\"score\", cats=[\"data_source\", \"species\", \"unique_conserved\"], color_column=\"color\", q_axis=\"y\", frame_width=500, frame_height=400, spread=\"jitter\", jitter_kwargs={'width': 0.6},\n",
    "                    marker_kwargs=dict(size=8, alpha=0.5), box_kwargs=dict(line_color=\"black\", line_width=2), whisker_kwargs=dict(line_color=\"black\", line_width=2), median_kwargs=dict(line_color=\"black\", line_width=2), show_legend=True)\n",
    "\n",
    "# Customizations\n",
    "p.xaxis.major_label_orientation = 1.2\n",
    "p.xaxis.axis_label_text_font_size = '15pt'\n",
    "p.xaxis.major_label_text_font_size = '15pt'\n",
    "p.yaxis.axis_label_text_font_size = '15pt'\n",
    "p.xaxis.major_label_text_font_size = '15pt'\n",
    "p.yaxis.major_label_text_font_size = '15pt'\n",
    "p.xaxis.axis_label_text_font_style = 'normal'\n",
    "p.yaxis.axis_label_text_font_style = 'normal'\n",
    "p.yaxis.axis_label = 'Score'\n",
    "p.legend.title = 'Flocculin genes'\n",
    "\n",
    "# Calculate p-values\n",
    "p_vals = []\n",
    "p_vals_floc = []\n",
    "species_data_sources = [\n",
    "    ('C. albicans', 'BlastP'),\n",
    "    ('S. cerevisiae', 'BlastP'),\n",
    "    ('C. albicans', 'Foldseek'),\n",
    "    ('S. cerevisiae', 'Foldseek')\n",
    "\n",
    "]\n",
    "\n",
    "for species, data_source in species_data_sources:\n",
    "    unique_scores = df[(df['unique_conserved'] == 'unique') & (df['species'] == species) & (df['data_source'] == data_source)]['score']\n",
    "    unique_floc_scores = df[(df['unique_conserved'] == 'unique') & (df['species'] == species) & (df['data_source'] == data_source) & (df['color'] == \"True (n=14)\")]['score']\n",
    "    conserved_scores = df[(df['unique_conserved'] == 'conserved') & (df['species'] == species) & (df['data_source'] == data_source)]['score']\n",
    "    p_val = stats.mannwhitneyu(unique_scores, conserved_scores, alternative='two-sided')[1]\n",
    "    p_vals.append(p_val)\n",
    "    p_val_floc = stats.mannwhitneyu(unique_floc_scores, conserved_scores, alternative='two-sided')[1]\n",
    "    p_vals_floc.append(p_val_floc)\n",
    "\n",
    "# Create the text labels\n",
    "p_vals_labels = [\"p = {:.3e}\".format(p_val) for p_val in p_vals]\n",
    "p_vals_labels_floc = [\"p = {:.3e}\".format(p_val_floc) for p_val_floc in p_vals_floc]\n",
    "\n",
    "# Adjust text label positions\n",
    "x_positions = [1.2,4,7,9.8]  # Corresponding to the species and data_source combinations\n",
    "\n",
    "y_positions = [4100,4300,4100,4300]\n",
    "\n",
    "\n",
    "# Add text labels to the plot\n",
    "for x, y, label in zip(x_positions, y_positions, p_vals_labels):\n",
    "    text = Text(x=x, y=y+250, text=[label], text_font_size='12pt', text_align='center', text_baseline='middle', text_color='black', text_alpha=1)\n",
    "    p.add_glyph(text)\n",
    "\n",
    "for x, y, label in zip(x_positions, y_positions, p_vals_labels_floc):\n",
    "    text = Text(x=x, y=y, text=[label], text_font_size='12pt', text_align='center', text_baseline='middle', text_color='orange', text_alpha=1)\n",
    "    p.add_glyph(text)\n",
    "\n",
    "\n",
    "#ymax = 4800\n",
    "p.y_range = bokeh.models.Range1d(0, 4800)\n",
    "#make everything part of the same plot\n",
    "p.output_backend = \"svg\"\n",
    "p = bokeh.layouts.column(p)\n",
    "\n",
    "# Show the plot\n",
    "bokeh.io.output_notebook()  # Use this if you're working in a Jupyter Notebook\n",
    "#make browser output\n",
    "#turn format into svg\n",
    "\n",
    "bokeh.io.export_svg(p, filename=root + \"Figures/All figures/blast_p_foldseek_results.svg\")\n",
    "bokeh.io.export_png(p, filename=root + \"Figures/All figures/blast_p_foldseek_results.png\")\n"
   ]
  },
  {
   "cell_type": "code",
   "execution_count": 438,
   "metadata": {},
   "outputs": [
    {
     "data": {
      "text/html": [
       "<div>\n",
       "<style scoped>\n",
       "    .dataframe tbody tr th:only-of-type {\n",
       "        vertical-align: middle;\n",
       "    }\n",
       "\n",
       "    .dataframe tbody tr th {\n",
       "        vertical-align: top;\n",
       "    }\n",
       "\n",
       "    .dataframe thead th {\n",
       "        text-align: right;\n",
       "    }\n",
       "</style>\n",
       "<table border=\"1\" class=\"dataframe\">\n",
       "  <thead>\n",
       "    <tr style=\"text-align: right;\">\n",
       "      <th></th>\n",
       "      <th>uniprot_id</th>\n",
       "      <th>gene_name</th>\n",
       "      <th>score</th>\n",
       "      <th>e_value</th>\n",
       "      <th>unique_conserved</th>\n",
       "      <th>data_source</th>\n",
       "      <th>species</th>\n",
       "      <th>color</th>\n",
       "    </tr>\n",
       "  </thead>\n",
       "  <tbody>\n",
       "    <tr>\n",
       "      <th>78</th>\n",
       "      <td>Q10211</td>\n",
       "      <td>SPAC4H3.03c</td>\n",
       "      <td>323.0</td>\n",
       "      <td>2.916000e-10</td>\n",
       "      <td>unique</td>\n",
       "      <td>Foldseek</td>\n",
       "      <td>S. cerevisiae</td>\n",
       "      <td>False</td>\n",
       "    </tr>\n",
       "  </tbody>\n",
       "</table>\n",
       "</div>"
      ],
      "text/plain": [
       "   uniprot_id    gene_name  score       e_value unique_conserved data_source  \\\n",
       "78     Q10211  SPAC4H3.03c  323.0  2.916000e-10           unique    Foldseek   \n",
       "\n",
       "          species  color  \n",
       "78  S. cerevisiae  False  "
      ]
     },
     "execution_count": 438,
     "metadata": {},
     "output_type": "execute_result"
    }
   ],
   "source": [
    "#create a df called weird results. Include entries where unique yet e_val is less than 10-5 and conserved yet e_val is hgiher than 10-5\n",
    "weird_results = df[((df['unique_conserved'] == 'unique') & (df['e_value'] < 10**-5)) | ((df['unique_conserved'] == 'conserved') & (df['e_value'] > 10**-5))]\n",
    "#keep only blastp results\n",
    "weird_results_blastp = weird_results[weird_results['data_source'] == 'BlastP']\n",
    "#create weird_results_foldseek which is unique and e_value < 10-5 \n",
    "weird_results_foldseek = df[(df['unique_conserved'] == 'unique') & (df['e_value'] < 10**-5) & (df['data_source'] == 'Foldseek')]\n",
    "weird_results_foldseek\n"
   ]
  },
  {
   "cell_type": "code",
   "execution_count": 439,
   "metadata": {},
   "outputs": [
    {
     "data": {
      "text/html": [
       "<div>\n",
       "<style scoped>\n",
       "    .dataframe tbody tr th:only-of-type {\n",
       "        vertical-align: middle;\n",
       "    }\n",
       "\n",
       "    .dataframe tbody tr th {\n",
       "        vertical-align: top;\n",
       "    }\n",
       "\n",
       "    .dataframe thead th {\n",
       "        text-align: right;\n",
       "    }\n",
       "</style>\n",
       "<table border=\"1\" class=\"dataframe\">\n",
       "  <thead>\n",
       "    <tr style=\"text-align: right;\">\n",
       "      <th></th>\n",
       "      <th>uniprot_id</th>\n",
       "      <th>gene_name</th>\n",
       "      <th>score</th>\n",
       "      <th>e_value</th>\n",
       "      <th>unique_conserved</th>\n",
       "      <th>data_source</th>\n",
       "      <th>species</th>\n",
       "      <th>color</th>\n",
       "    </tr>\n",
       "  </thead>\n",
       "  <tbody>\n",
       "    <tr>\n",
       "      <th>8</th>\n",
       "      <td>Q9C0Y2</td>\n",
       "      <td>SPAPB2C8.01</td>\n",
       "      <td>166.0</td>\n",
       "      <td>5.326090e-10</td>\n",
       "      <td>unique</td>\n",
       "      <td>BlastP</td>\n",
       "      <td>S. cerevisiae</td>\n",
       "      <td>True (n=14)</td>\n",
       "    </tr>\n",
       "    <tr>\n",
       "      <th>10</th>\n",
       "      <td>Q9URU4</td>\n",
       "      <td>SPBC1289.15</td>\n",
       "      <td>279.0</td>\n",
       "      <td>2.866220e-23</td>\n",
       "      <td>unique</td>\n",
       "      <td>BlastP</td>\n",
       "      <td>S. cerevisiae</td>\n",
       "      <td>True (n=14)</td>\n",
       "    </tr>\n",
       "    <tr>\n",
       "      <th>12</th>\n",
       "      <td>O74308</td>\n",
       "      <td>SPBC15D4.02</td>\n",
       "      <td>142.0</td>\n",
       "      <td>7.382550e-08</td>\n",
       "      <td>unique</td>\n",
       "      <td>BlastP</td>\n",
       "      <td>S. cerevisiae</td>\n",
       "      <td>False</td>\n",
       "    </tr>\n",
       "    <tr>\n",
       "      <th>15</th>\n",
       "      <td>O43019</td>\n",
       "      <td>SPBC354.05c</td>\n",
       "      <td>191.0</td>\n",
       "      <td>8.832570e-14</td>\n",
       "      <td>unique</td>\n",
       "      <td>BlastP</td>\n",
       "      <td>S. cerevisiae</td>\n",
       "      <td>False</td>\n",
       "    </tr>\n",
       "    <tr>\n",
       "      <th>24</th>\n",
       "      <td>O94532</td>\n",
       "      <td>SPCC895.05</td>\n",
       "      <td>336.0</td>\n",
       "      <td>7.411690e-30</td>\n",
       "      <td>unique</td>\n",
       "      <td>BlastP</td>\n",
       "      <td>S. cerevisiae</td>\n",
       "      <td>False</td>\n",
       "    </tr>\n",
       "    <tr>\n",
       "      <th>60</th>\n",
       "      <td>O94355</td>\n",
       "      <td>SPBC428.06c</td>\n",
       "      <td>70.0</td>\n",
       "      <td>9.330000e+00</td>\n",
       "      <td>conserved</td>\n",
       "      <td>BlastP</td>\n",
       "      <td>S. cerevisiae</td>\n",
       "      <td>False</td>\n",
       "    </tr>\n",
       "    <tr>\n",
       "      <th>64</th>\n",
       "      <td>O43089</td>\n",
       "      <td>SPBC947.14c</td>\n",
       "      <td>50.0</td>\n",
       "      <td>1.000000e+02</td>\n",
       "      <td>conserved</td>\n",
       "      <td>BlastP</td>\n",
       "      <td>S. cerevisiae</td>\n",
       "      <td>False</td>\n",
       "    </tr>\n",
       "    <tr>\n",
       "      <th>67</th>\n",
       "      <td>Q1MTN3</td>\n",
       "      <td>SPBC336.15</td>\n",
       "      <td>66.0</td>\n",
       "      <td>1.000000e+02</td>\n",
       "      <td>conserved</td>\n",
       "      <td>BlastP</td>\n",
       "      <td>S. cerevisiae</td>\n",
       "      <td>False</td>\n",
       "    </tr>\n",
       "    <tr>\n",
       "      <th>69</th>\n",
       "      <td>Q9UUA4</td>\n",
       "      <td>SPBC409.21</td>\n",
       "      <td>66.0</td>\n",
       "      <td>2.293840e+01</td>\n",
       "      <td>conserved</td>\n",
       "      <td>BlastP</td>\n",
       "      <td>S. cerevisiae</td>\n",
       "      <td>False</td>\n",
       "    </tr>\n",
       "    <tr>\n",
       "      <th>158</th>\n",
       "      <td>Q9C0Y2</td>\n",
       "      <td>SPAPB2C8.01</td>\n",
       "      <td>250.0</td>\n",
       "      <td>7.473730e-20</td>\n",
       "      <td>unique</td>\n",
       "      <td>BlastP</td>\n",
       "      <td>C. albicans</td>\n",
       "      <td>True (n=14)</td>\n",
       "    </tr>\n",
       "    <tr>\n",
       "      <th>162</th>\n",
       "      <td>O74308</td>\n",
       "      <td>SPBC15D4.02</td>\n",
       "      <td>165.0</td>\n",
       "      <td>8.747690e-11</td>\n",
       "      <td>unique</td>\n",
       "      <td>BlastP</td>\n",
       "      <td>C. albicans</td>\n",
       "      <td>False</td>\n",
       "    </tr>\n",
       "    <tr>\n",
       "      <th>165</th>\n",
       "      <td>O43019</td>\n",
       "      <td>SPBC354.05c</td>\n",
       "      <td>202.0</td>\n",
       "      <td>1.251110e-14</td>\n",
       "      <td>unique</td>\n",
       "      <td>BlastP</td>\n",
       "      <td>C. albicans</td>\n",
       "      <td>False</td>\n",
       "    </tr>\n",
       "    <tr>\n",
       "      <th>169</th>\n",
       "      <td>Q96WV6</td>\n",
       "      <td>SPBPJ4664.02</td>\n",
       "      <td>607.0</td>\n",
       "      <td>7.161110e-62</td>\n",
       "      <td>unique</td>\n",
       "      <td>BlastP</td>\n",
       "      <td>C. albicans</td>\n",
       "      <td>True (n=14)</td>\n",
       "    </tr>\n",
       "    <tr>\n",
       "      <th>174</th>\n",
       "      <td>O94532</td>\n",
       "      <td>SPCC895.05</td>\n",
       "      <td>364.0</td>\n",
       "      <td>3.177520e-33</td>\n",
       "      <td>unique</td>\n",
       "      <td>BlastP</td>\n",
       "      <td>C. albicans</td>\n",
       "      <td>False</td>\n",
       "    </tr>\n",
       "    <tr>\n",
       "      <th>175</th>\n",
       "      <td>Q9UST7</td>\n",
       "      <td>SPBC336.07</td>\n",
       "      <td>0.0</td>\n",
       "      <td>1.000000e+02</td>\n",
       "      <td>conserved</td>\n",
       "      <td>BlastP</td>\n",
       "      <td>C. albicans</td>\n",
       "      <td>False</td>\n",
       "    </tr>\n",
       "    <tr>\n",
       "      <th>182</th>\n",
       "      <td>O60132</td>\n",
       "      <td>SPBC1706.01</td>\n",
       "      <td>122.0</td>\n",
       "      <td>3.960870e-05</td>\n",
       "      <td>conserved</td>\n",
       "      <td>BlastP</td>\n",
       "      <td>C. albicans</td>\n",
       "      <td>False</td>\n",
       "    </tr>\n",
       "    <tr>\n",
       "      <th>194</th>\n",
       "      <td>O60082</td>\n",
       "      <td>SPCC1494.08c</td>\n",
       "      <td>0.0</td>\n",
       "      <td>1.000000e+02</td>\n",
       "      <td>conserved</td>\n",
       "      <td>BlastP</td>\n",
       "      <td>C. albicans</td>\n",
       "      <td>False</td>\n",
       "    </tr>\n",
       "    <tr>\n",
       "      <th>195</th>\n",
       "      <td>Q8WZK1</td>\n",
       "      <td>SPBC839.09c</td>\n",
       "      <td>0.0</td>\n",
       "      <td>1.000000e+02</td>\n",
       "      <td>conserved</td>\n",
       "      <td>BlastP</td>\n",
       "      <td>C. albicans</td>\n",
       "      <td>False</td>\n",
       "    </tr>\n",
       "    <tr>\n",
       "      <th>198</th>\n",
       "      <td>O60154</td>\n",
       "      <td>SPBC19C7.05</td>\n",
       "      <td>69.0</td>\n",
       "      <td>4.418550e+00</td>\n",
       "      <td>conserved</td>\n",
       "      <td>BlastP</td>\n",
       "      <td>C. albicans</td>\n",
       "      <td>False</td>\n",
       "    </tr>\n",
       "    <tr>\n",
       "      <th>210</th>\n",
       "      <td>O94355</td>\n",
       "      <td>SPBC428.06c</td>\n",
       "      <td>115.0</td>\n",
       "      <td>1.649550e-05</td>\n",
       "      <td>conserved</td>\n",
       "      <td>BlastP</td>\n",
       "      <td>C. albicans</td>\n",
       "      <td>False</td>\n",
       "    </tr>\n",
       "    <tr>\n",
       "      <th>214</th>\n",
       "      <td>O43089</td>\n",
       "      <td>SPBC947.14c</td>\n",
       "      <td>58.0</td>\n",
       "      <td>4.604260e+01</td>\n",
       "      <td>conserved</td>\n",
       "      <td>BlastP</td>\n",
       "      <td>C. albicans</td>\n",
       "      <td>False</td>\n",
       "    </tr>\n",
       "    <tr>\n",
       "      <th>217</th>\n",
       "      <td>Q1MTN3</td>\n",
       "      <td>SPBC336.15</td>\n",
       "      <td>65.0</td>\n",
       "      <td>1.000000e+02</td>\n",
       "      <td>conserved</td>\n",
       "      <td>BlastP</td>\n",
       "      <td>C. albicans</td>\n",
       "      <td>False</td>\n",
       "    </tr>\n",
       "    <tr>\n",
       "      <th>219</th>\n",
       "      <td>Q9UUA4</td>\n",
       "      <td>SPBC409.21</td>\n",
       "      <td>54.0</td>\n",
       "      <td>1.000000e+02</td>\n",
       "      <td>conserved</td>\n",
       "      <td>BlastP</td>\n",
       "      <td>C. albicans</td>\n",
       "      <td>False</td>\n",
       "    </tr>\n",
       "  </tbody>\n",
       "</table>\n",
       "</div>"
      ],
      "text/plain": [
       "    uniprot_id     gene_name  score       e_value unique_conserved  \\\n",
       "8       Q9C0Y2   SPAPB2C8.01  166.0  5.326090e-10           unique   \n",
       "10      Q9URU4   SPBC1289.15  279.0  2.866220e-23           unique   \n",
       "12      O74308   SPBC15D4.02  142.0  7.382550e-08           unique   \n",
       "15      O43019   SPBC354.05c  191.0  8.832570e-14           unique   \n",
       "24      O94532    SPCC895.05  336.0  7.411690e-30           unique   \n",
       "60      O94355   SPBC428.06c   70.0  9.330000e+00        conserved   \n",
       "64      O43089   SPBC947.14c   50.0  1.000000e+02        conserved   \n",
       "67      Q1MTN3    SPBC336.15   66.0  1.000000e+02        conserved   \n",
       "69      Q9UUA4    SPBC409.21   66.0  2.293840e+01        conserved   \n",
       "158     Q9C0Y2   SPAPB2C8.01  250.0  7.473730e-20           unique   \n",
       "162     O74308   SPBC15D4.02  165.0  8.747690e-11           unique   \n",
       "165     O43019   SPBC354.05c  202.0  1.251110e-14           unique   \n",
       "169     Q96WV6  SPBPJ4664.02  607.0  7.161110e-62           unique   \n",
       "174     O94532    SPCC895.05  364.0  3.177520e-33           unique   \n",
       "175     Q9UST7    SPBC336.07    0.0  1.000000e+02        conserved   \n",
       "182     O60132   SPBC1706.01  122.0  3.960870e-05        conserved   \n",
       "194     O60082  SPCC1494.08c    0.0  1.000000e+02        conserved   \n",
       "195     Q8WZK1   SPBC839.09c    0.0  1.000000e+02        conserved   \n",
       "198     O60154   SPBC19C7.05   69.0  4.418550e+00        conserved   \n",
       "210     O94355   SPBC428.06c  115.0  1.649550e-05        conserved   \n",
       "214     O43089   SPBC947.14c   58.0  4.604260e+01        conserved   \n",
       "217     Q1MTN3    SPBC336.15   65.0  1.000000e+02        conserved   \n",
       "219     Q9UUA4    SPBC409.21   54.0  1.000000e+02        conserved   \n",
       "\n",
       "    data_source        species        color  \n",
       "8        BlastP  S. cerevisiae  True (n=14)  \n",
       "10       BlastP  S. cerevisiae  True (n=14)  \n",
       "12       BlastP  S. cerevisiae        False  \n",
       "15       BlastP  S. cerevisiae        False  \n",
       "24       BlastP  S. cerevisiae        False  \n",
       "60       BlastP  S. cerevisiae        False  \n",
       "64       BlastP  S. cerevisiae        False  \n",
       "67       BlastP  S. cerevisiae        False  \n",
       "69       BlastP  S. cerevisiae        False  \n",
       "158      BlastP    C. albicans  True (n=14)  \n",
       "162      BlastP    C. albicans        False  \n",
       "165      BlastP    C. albicans        False  \n",
       "169      BlastP    C. albicans  True (n=14)  \n",
       "174      BlastP    C. albicans        False  \n",
       "175      BlastP    C. albicans        False  \n",
       "182      BlastP    C. albicans        False  \n",
       "194      BlastP    C. albicans        False  \n",
       "195      BlastP    C. albicans        False  \n",
       "198      BlastP    C. albicans        False  \n",
       "210      BlastP    C. albicans        False  \n",
       "214      BlastP    C. albicans        False  \n",
       "217      BlastP    C. albicans        False  \n",
       "219      BlastP    C. albicans        False  "
      ]
     },
     "execution_count": 439,
     "metadata": {},
     "output_type": "execute_result"
    }
   ],
   "source": [
    "weird_results_blastp"
   ]
  },
  {
   "cell_type": "code",
   "execution_count": 440,
   "metadata": {},
   "outputs": [
    {
     "data": {
      "text/plain": [
       "SPAPB2C8.01     2\n",
       "SPBC15D4.02     2\n",
       "SPBC354.05c     2\n",
       "SPCC895.05      2\n",
       "SPBC428.06c     2\n",
       "SPBC947.14c     2\n",
       "SPBC336.15      2\n",
       "SPBC409.21      2\n",
       "SPBC1289.15     1\n",
       "SPBPJ4664.02    1\n",
       "SPBC336.07      1\n",
       "SPBC1706.01     1\n",
       "SPCC1494.08c    1\n",
       "SPBC839.09c     1\n",
       "SPBC19C7.05     1\n",
       "Name: gene_name, dtype: int64"
      ]
     },
     "execution_count": 440,
     "metadata": {},
     "output_type": "execute_result"
    }
   ],
   "source": [
    "#which gene_name is twice in the weird results?\n",
    "weird_results_blastp['gene_name'].value_counts()"
   ]
  },
  {
   "cell_type": "code",
   "execution_count": null,
   "metadata": {},
   "outputs": [],
   "source": []
  }
 ],
 "metadata": {
  "kernelspec": {
   "display_name": "Python 3.9.0 ('base')",
   "language": "python",
   "name": "python3"
  },
  "language_info": {
   "codemirror_mode": {
    "name": "ipython",
    "version": 3
   },
   "file_extension": ".py",
   "mimetype": "text/x-python",
   "name": "python",
   "nbconvert_exporter": "python",
   "pygments_lexer": "ipython3",
   "version": "3.9.0"
  },
  "orig_nbformat": 4,
  "vscode": {
   "interpreter": {
    "hash": "2d0398177d7bb10ea33b6a5cd9d022d63e20680fcfd84762562c72ff35bdf44b"
   }
  }
 },
 "nbformat": 4,
 "nbformat_minor": 2
}
