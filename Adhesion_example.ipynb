{
  "nbformat": 4,
  "nbformat_minor": 0,
  "metadata": {
    "colab": {
      "provenance": [],
      "authorship_tag": "ABX9TyN9CS7/l2Hx1hcTFTlaOikF",
      "include_colab_link": true
    },
    "kernelspec": {
      "name": "python3",
      "display_name": "Python 3"
    },
    "language_info": {
      "name": "python"
    }
  },
  "cells": [
    {
      "cell_type": "markdown",
      "metadata": {
        "id": "view-in-github",
        "colab_type": "text"
      },
      "source": [
        "<a href=\"https://colab.research.google.com/github/BKover99/S.-Pombe-MLPs/blob/main/Adhesion_example.ipynb\" target=\"_parent\"><img src=\"https://colab.research.google.com/assets/colab-badge.svg\" alt=\"Open In Colab\"/></a>"
      ]
    },
    {
      "cell_type": "code",
      "execution_count": 7,
      "metadata": {
        "id": "xJjzgOIzoegj",
        "colab": {
          "base_uri": "https://localhost:8080/"
        },
        "outputId": "21cfe41d-aef5-4831-9d54-a9a6e4865d64"
      },
      "outputs": [
        {
          "output_type": "stream",
          "name": "stdout",
          "text": [
            "Looking in indexes: https://pypi.org/simple, https://us-python.pkg.dev/colab-wheels/public/simple/\n",
            "Requirement already satisfied: yeastmlp in /usr/local/lib/python3.10/dist-packages (0.0.3)\n",
            "Requirement already satisfied: numpy in /usr/local/lib/python3.10/dist-packages (from yeastmlp) (1.22.4)\n",
            "Requirement already satisfied: scipy in /usr/local/lib/python3.10/dist-packages (from yeastmlp) (1.10.1)\n",
            "Requirement already satisfied: scikit-image in /usr/local/lib/python3.10/dist-packages (from yeastmlp) (0.19.3)\n",
            "Requirement already satisfied: matplotlib in /usr/local/lib/python3.10/dist-packages (from yeastmlp) (3.7.1)\n",
            "Requirement already satisfied: pandas in /usr/local/lib/python3.10/dist-packages (from yeastmlp) (1.5.3)\n",
            "Requirement already satisfied: contourpy>=1.0.1 in /usr/local/lib/python3.10/dist-packages (from matplotlib->yeastmlp) (1.0.7)\n",
            "Requirement already satisfied: cycler>=0.10 in /usr/local/lib/python3.10/dist-packages (from matplotlib->yeastmlp) (0.11.0)\n",
            "Requirement already satisfied: fonttools>=4.22.0 in /usr/local/lib/python3.10/dist-packages (from matplotlib->yeastmlp) (4.39.3)\n",
            "Requirement already satisfied: kiwisolver>=1.0.1 in /usr/local/lib/python3.10/dist-packages (from matplotlib->yeastmlp) (1.4.4)\n",
            "Requirement already satisfied: packaging>=20.0 in /usr/local/lib/python3.10/dist-packages (from matplotlib->yeastmlp) (23.1)\n",
            "Requirement already satisfied: pillow>=6.2.0 in /usr/local/lib/python3.10/dist-packages (from matplotlib->yeastmlp) (8.4.0)\n",
            "Requirement already satisfied: pyparsing>=2.3.1 in /usr/local/lib/python3.10/dist-packages (from matplotlib->yeastmlp) (3.0.9)\n",
            "Requirement already satisfied: python-dateutil>=2.7 in /usr/local/lib/python3.10/dist-packages (from matplotlib->yeastmlp) (2.8.2)\n",
            "Requirement already satisfied: pytz>=2020.1 in /usr/local/lib/python3.10/dist-packages (from pandas->yeastmlp) (2022.7.1)\n",
            "Requirement already satisfied: networkx>=2.2 in /usr/local/lib/python3.10/dist-packages (from scikit-image->yeastmlp) (3.1)\n",
            "Requirement already satisfied: imageio>=2.4.1 in /usr/local/lib/python3.10/dist-packages (from scikit-image->yeastmlp) (2.25.1)\n",
            "Requirement already satisfied: tifffile>=2019.7.26 in /usr/local/lib/python3.10/dist-packages (from scikit-image->yeastmlp) (2023.4.12)\n",
            "Requirement already satisfied: PyWavelets>=1.1.1 in /usr/local/lib/python3.10/dist-packages (from scikit-image->yeastmlp) (1.4.1)\n",
            "Requirement already satisfied: six>=1.5 in /usr/local/lib/python3.10/dist-packages (from python-dateutil>=2.7->matplotlib->yeastmlp) (1.16.0)\n"
          ]
        }
      ],
      "source": [
        "!pip install yeastmlp\n",
        "from yeastmlp import adhesion as adh"
      ]
    },
    {
      "cell_type": "code",
      "source": [
        "!wget https://github.com/BKover99/yeastmlp/raw/main/files_for_example/adhesion/example_files.zip\n",
        "!unzip /content/example_files.zip\n"
      ],
      "metadata": {
        "colab": {
          "base_uri": "https://localhost:8080/"
        },
        "id": "4RDwxnhFXgeG",
        "outputId": "53833cc9-29e7-4d0e-fc3b-1f98f19e6956"
      },
      "execution_count": null,
      "outputs": [
        {
          "metadata": {
            "tags": null
          },
          "name": "stdout",
          "output_type": "stream",
          "text": [
            "--2023-06-11 22:11:18--  https://github.com/BKover99/yeastmlp/raw/main/files_for_example/adhesion/example_files.zip\n",
            "Resolving github.com (github.com)... 140.82.114.4\n",
            "Connecting to github.com (github.com)|140.82.114.4|:443... connected.\n",
            "HTTP request sent, awaiting response... 302 Found\n",
            "Location: https://raw.githubusercontent.com/BKover99/yeastmlp/main/files_for_example/adhesion/example_files.zip [following]\n",
            "--2023-06-11 22:11:18--  https://raw.githubusercontent.com/BKover99/yeastmlp/main/files_for_example/adhesion/example_files.zip\n",
            "Resolving raw.githubusercontent.com (raw.githubusercontent.com)... 185.199.109.133, 185.199.111.133, 185.199.110.133, ...\n",
            "Connecting to raw.githubusercontent.com (raw.githubusercontent.com)|185.199.109.133|:443... connected.\n",
            "HTTP request sent, awaiting response... 200 OK\n",
            "Length: 6359278 (6.1M) [application/zip]\n",
            "Saving to: ‘example_files.zip.1’\n",
            "\n",
            "example_files.zip.1 100%[===================>]   6.06M  --.-KB/s    in 0.06s   \n",
            "\n",
            "2023-06-11 22:11:18 (105 MB/s) - ‘example_files.zip.1’ saved [6359278/6359278]\n",
            "\n",
            "Archive:  /content/example_files.zip\n",
            "replace Wild Isolates_EMM_before/Wild Isolates_EMM_6_before.jpg? [y]es, [n]o, [A]ll, [N]one, [r]ename: "
          ]
        }
      ]
    },
    {
      "cell_type": "code",
      "source": [
        "#Takes about 10 mins on Colab and 2 mins on a laptop\n",
        "\n",
        "image_for_raw_layout = \"filled_out_plate.jpg\"\n",
        "folder1 = \"Wild Isolates_EMM_before\"\n",
        "folder2 = \"Wild Isolates_EMM_after\"\n",
        "new_wild_isolate_map = \"final wild strain map.xlsx\"\n",
        "#left images are unfitted layouts, right images show how the algorithm finds the\n",
        "# right fit for each square, even though images are slightly\n",
        "wild_isolate_emm =  adh.result_from_folders_of_ims(folder1,folder2, \n",
        "                                                   new_wild_isolate_map, \n",
        "                                                   image_for_raw_layout,\n",
        "                                                   show_layout_fits = True)\n",
        "adh.barchart_from_res(wild_isolate_emm)"
      ],
      "metadata": {
        "id": "WYXJDApHR_-a"
      },
      "execution_count": null,
      "outputs": []
    },
    {
      "cell_type": "code",
      "source": [
        "wild_isolate_emm.head()"
      ],
      "metadata": {
        "id": "AFVie0hld1gw"
      },
      "execution_count": null,
      "outputs": []
    },
    {
      "cell_type": "code",
      "source": [],
      "metadata": {
        "id": "s9NBXHQpXZvQ"
      },
      "execution_count": null,
      "outputs": []
    },
    {
      "cell_type": "code",
      "source": [],
      "metadata": {
        "id": "1ZwHdVKbUOj1"
      },
      "execution_count": null,
      "outputs": []
    }
  ]
}